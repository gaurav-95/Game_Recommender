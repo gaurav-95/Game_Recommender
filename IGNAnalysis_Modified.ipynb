{
 "cells": [
  {
   "cell_type": "markdown",
   "metadata": {
    "colab_type": "text",
    "collapsed": true,
    "id": "OAqOgai5KuvO"
   },
   "source": [
    "# IGN DATA ANALYSIS and PREDICTIVE MODELLING"
   ]
  },
  {
   "cell_type": "code",
   "execution_count": 0,
   "metadata": {
    "colab": {
     "base_uri": "https://localhost:8080/",
     "height": 74,
     "resources": {
      "http://localhost:8080/nbextensions/google.colab/files.js": {
       "data": "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",
       "headers": [
        [
         "content-type",
         "application/javascript"
        ]
       ],
       "ok": true,
       "status": 200,
       "status_text": ""
      }
     }
    },
    "colab_type": "code",
    "executionInfo": {
     "elapsed": 67176,
     "status": "ok",
     "timestamp": 1583684851619,
     "user": {
      "displayName": "PRAGYAN PRAYASH PARIDA",
      "photoUrl": "https://lh3.googleusercontent.com/a-/AOh14Ghr0Z5isyKmbkTzlTQzrNdKi38WRhH1DyiJdNNC=s64",
      "userId": "09551777129439932710"
     },
     "user_tz": -330
    },
    "id": "c-2DuWZRLblP",
    "outputId": "cc479acc-d7bf-4e3d-86c3-e162a7930416"
   },
   "outputs": [
    {
     "data": {
      "text/html": [
       "\n",
       "     <input type=\"file\" id=\"files-899407b6-b893-4c36-846e-d71abd7a792e\" name=\"files[]\" multiple disabled />\n",
       "     <output id=\"result-899407b6-b893-4c36-846e-d71abd7a792e\">\n",
       "      Upload widget is only available when the cell has been executed in the\n",
       "      current browser session. Please rerun this cell to enable.\n",
       "      </output>\n",
       "      <script src=\"/nbextensions/google.colab/files.js\"></script> "
      ],
      "text/plain": [
       "<IPython.core.display.HTML object>"
      ]
     },
     "metadata": {
      "tags": []
     },
     "output_type": "display_data"
    },
    {
     "name": "stdout",
     "output_type": "stream",
     "text": [
      "Saving ign.csv to ign.csv\n"
     ]
    }
   ],
   "source": [
    "from google.colab import files\n",
    "uploaded = files.upload()"
   ]
  },
  {
   "cell_type": "code",
   "execution_count": 0,
   "metadata": {
    "colab": {},
    "colab_type": "code",
    "id": "kaD3ePTEJ0J7"
   },
   "outputs": [],
   "source": [
    "import pandas as pd\n",
    "import numpy as np\n",
    "from sklearn.preprocessing import LabelEncoder\n",
    "import random\n",
    "from sklearn.ensemble import RandomForestClassifier\n",
    "from sklearn.ensemble import GradientBoostingClassifier\n",
    "# Import libraries\n",
    "\n",
    "import seaborn as sns\n",
    "import matplotlib.pyplot as plt\n",
    "%matplotlib inline\n",
    "\n",
    "# Put this when it's called\n",
    "from sklearn.model_selection import train_test_split\n",
    "from sklearn.model_selection import learning_curve\n",
    "from sklearn.model_selection import validation_curve\n",
    "from sklearn.model_selection import cross_val_score\n",
    "from sklearn.linear_model import LogisticRegression"
   ]
  },
  {
   "cell_type": "code",
   "execution_count": 0,
   "metadata": {
    "colab": {
     "base_uri": "https://localhost:8080/",
     "height": 195
    },
    "colab_type": "code",
    "executionInfo": {
     "elapsed": 736,
     "status": "ok",
     "timestamp": 1583684897472,
     "user": {
      "displayName": "PRAGYAN PRAYASH PARIDA",
      "photoUrl": "https://lh3.googleusercontent.com/a-/AOh14Ghr0Z5isyKmbkTzlTQzrNdKi38WRhH1DyiJdNNC=s64",
      "userId": "09551777129439932710"
     },
     "user_tz": -330
    },
    "id": "qLN_MV2fJ0J_",
    "outputId": "7be43419-041b-4ce4-c384-e676d251b4ed"
   },
   "outputs": [
    {
     "data": {
      "text/html": [
       "<div>\n",
       "<style scoped>\n",
       "    .dataframe tbody tr th:only-of-type {\n",
       "        vertical-align: middle;\n",
       "    }\n",
       "\n",
       "    .dataframe tbody tr th {\n",
       "        vertical-align: top;\n",
       "    }\n",
       "\n",
       "    .dataframe thead th {\n",
       "        text-align: right;\n",
       "    }\n",
       "</style>\n",
       "<table border=\"1\" class=\"dataframe\">\n",
       "  <thead>\n",
       "    <tr style=\"text-align: right;\">\n",
       "      <th></th>\n",
       "      <th>score_phrase</th>\n",
       "      <th>title</th>\n",
       "      <th>platform</th>\n",
       "      <th>score</th>\n",
       "      <th>genre</th>\n",
       "      <th>editors_choice</th>\n",
       "      <th>release_year</th>\n",
       "      <th>release_month</th>\n",
       "      <th>release_day</th>\n",
       "    </tr>\n",
       "  </thead>\n",
       "  <tbody>\n",
       "    <tr>\n",
       "      <th>0</th>\n",
       "      <td>Amazing</td>\n",
       "      <td>LittleBigPlanet PS Vita</td>\n",
       "      <td>PlayStation Vita</td>\n",
       "      <td>9.0</td>\n",
       "      <td>Platformer</td>\n",
       "      <td>1</td>\n",
       "      <td>2012</td>\n",
       "      <td>9</td>\n",
       "      <td>12</td>\n",
       "    </tr>\n",
       "    <tr>\n",
       "      <th>1</th>\n",
       "      <td>Amazing</td>\n",
       "      <td>LittleBigPlanet PS Vita -- Marvel Super Hero E...</td>\n",
       "      <td>PlayStation Vita</td>\n",
       "      <td>9.0</td>\n",
       "      <td>Platformer</td>\n",
       "      <td>1</td>\n",
       "      <td>2012</td>\n",
       "      <td>9</td>\n",
       "      <td>12</td>\n",
       "    </tr>\n",
       "    <tr>\n",
       "      <th>2</th>\n",
       "      <td>Great</td>\n",
       "      <td>Splice: Tree of Life</td>\n",
       "      <td>iPad</td>\n",
       "      <td>8.5</td>\n",
       "      <td>Puzzle</td>\n",
       "      <td>0</td>\n",
       "      <td>2012</td>\n",
       "      <td>9</td>\n",
       "      <td>12</td>\n",
       "    </tr>\n",
       "    <tr>\n",
       "      <th>3</th>\n",
       "      <td>Great</td>\n",
       "      <td>NHL 13</td>\n",
       "      <td>Xbox 360</td>\n",
       "      <td>8.5</td>\n",
       "      <td>Sports</td>\n",
       "      <td>0</td>\n",
       "      <td>2012</td>\n",
       "      <td>9</td>\n",
       "      <td>11</td>\n",
       "    </tr>\n",
       "    <tr>\n",
       "      <th>4</th>\n",
       "      <td>Great</td>\n",
       "      <td>NHL 13</td>\n",
       "      <td>PlayStation 3</td>\n",
       "      <td>8.5</td>\n",
       "      <td>Sports</td>\n",
       "      <td>0</td>\n",
       "      <td>2012</td>\n",
       "      <td>9</td>\n",
       "      <td>11</td>\n",
       "    </tr>\n",
       "  </tbody>\n",
       "</table>\n",
       "</div>"
      ],
      "text/plain": [
       "  score_phrase  ... release_day\n",
       "0      Amazing  ...          12\n",
       "1      Amazing  ...          12\n",
       "2        Great  ...          12\n",
       "3        Great  ...          11\n",
       "4        Great  ...          11\n",
       "\n",
       "[5 rows x 9 columns]"
      ]
     },
     "execution_count": 4,
     "metadata": {
      "tags": []
     },
     "output_type": "execute_result"
    }
   ],
   "source": [
    "df=pd.read_csv('ign.csv', engine='python')\n",
    "df=df[df.columns[1:]]\n",
    "df=df.drop('url',axis=1)\n",
    "df=df.drop_duplicates()\n",
    "#replace target variable Y and N to 1 and 0\n",
    "df.editors_choice=df.editors_choice.replace('Y',1)\n",
    "df.editors_choice=df.editors_choice.replace('N',0)\n",
    "df.head()"
   ]
  },
  {
   "cell_type": "code",
   "execution_count": 0,
   "metadata": {
    "colab": {},
    "colab_type": "code",
    "id": "DyOe4birJ0KC"
   },
   "outputs": [],
   "source": [
    "df[\"genre\"].fillna(\"Unknown\", inplace = True) "
   ]
  },
  {
   "cell_type": "code",
   "execution_count": 0,
   "metadata": {
    "colab": {
     "base_uri": "https://localhost:8080/",
     "height": 284
    },
    "colab_type": "code",
    "executionInfo": {
     "elapsed": 2360,
     "status": "ok",
     "timestamp": 1582989564081,
     "user": {
      "displayName": "GOURAB HAZRA",
      "photoUrl": "https://lh3.googleusercontent.com/a-/AOh14GiV5LcY5TILfyTv14CM8FI6Ar76G1ZTqnHlDGG2=s64",
      "userId": "12230592498902526703"
     },
     "user_tz": -330
    },
    "id": "RE9fgIY1J0KF",
    "outputId": "42a8c936-a52c-481a-f033-09e047c725b5"
   },
   "outputs": [
    {
     "data": {
      "text/html": [
       "<div>\n",
       "<style scoped>\n",
       "    .dataframe tbody tr th:only-of-type {\n",
       "        vertical-align: middle;\n",
       "    }\n",
       "\n",
       "    .dataframe tbody tr th {\n",
       "        vertical-align: top;\n",
       "    }\n",
       "\n",
       "    .dataframe thead th {\n",
       "        text-align: right;\n",
       "    }\n",
       "</style>\n",
       "<table border=\"1\" class=\"dataframe\">\n",
       "  <thead>\n",
       "    <tr style=\"text-align: right;\">\n",
       "      <th></th>\n",
       "      <th>score</th>\n",
       "      <th>editors_choice</th>\n",
       "      <th>release_year</th>\n",
       "      <th>release_month</th>\n",
       "      <th>release_day</th>\n",
       "    </tr>\n",
       "  </thead>\n",
       "  <tbody>\n",
       "    <tr>\n",
       "      <th>count</th>\n",
       "      <td>18577.000000</td>\n",
       "      <td>18577.000000</td>\n",
       "      <td>18577.000000</td>\n",
       "      <td>18577.000000</td>\n",
       "      <td>18577.000000</td>\n",
       "    </tr>\n",
       "    <tr>\n",
       "      <th>mean</th>\n",
       "      <td>6.950799</td>\n",
       "      <td>0.188889</td>\n",
       "      <td>2006.524627</td>\n",
       "      <td>7.136944</td>\n",
       "      <td>15.595683</td>\n",
       "    </tr>\n",
       "    <tr>\n",
       "      <th>std</th>\n",
       "      <td>1.711676</td>\n",
       "      <td>0.391431</td>\n",
       "      <td>4.581089</td>\n",
       "      <td>3.476183</td>\n",
       "      <td>8.689712</td>\n",
       "    </tr>\n",
       "    <tr>\n",
       "      <th>min</th>\n",
       "      <td>0.500000</td>\n",
       "      <td>0.000000</td>\n",
       "      <td>1970.000000</td>\n",
       "      <td>1.000000</td>\n",
       "      <td>1.000000</td>\n",
       "    </tr>\n",
       "    <tr>\n",
       "      <th>25%</th>\n",
       "      <td>6.000000</td>\n",
       "      <td>0.000000</td>\n",
       "      <td>2003.000000</td>\n",
       "      <td>4.000000</td>\n",
       "      <td>8.000000</td>\n",
       "    </tr>\n",
       "    <tr>\n",
       "      <th>50%</th>\n",
       "      <td>7.300000</td>\n",
       "      <td>0.000000</td>\n",
       "      <td>2007.000000</td>\n",
       "      <td>8.000000</td>\n",
       "      <td>15.000000</td>\n",
       "    </tr>\n",
       "    <tr>\n",
       "      <th>75%</th>\n",
       "      <td>8.200000</td>\n",
       "      <td>0.000000</td>\n",
       "      <td>2010.000000</td>\n",
       "      <td>10.000000</td>\n",
       "      <td>23.000000</td>\n",
       "    </tr>\n",
       "    <tr>\n",
       "      <th>max</th>\n",
       "      <td>10.000000</td>\n",
       "      <td>1.000000</td>\n",
       "      <td>2016.000000</td>\n",
       "      <td>12.000000</td>\n",
       "      <td>31.000000</td>\n",
       "    </tr>\n",
       "  </tbody>\n",
       "</table>\n",
       "</div>"
      ],
      "text/plain": [
       "              score  editors_choice  release_year  release_month   release_day\n",
       "count  18577.000000    18577.000000  18577.000000   18577.000000  18577.000000\n",
       "mean       6.950799        0.188889   2006.524627       7.136944     15.595683\n",
       "std        1.711676        0.391431      4.581089       3.476183      8.689712\n",
       "min        0.500000        0.000000   1970.000000       1.000000      1.000000\n",
       "25%        6.000000        0.000000   2003.000000       4.000000      8.000000\n",
       "50%        7.300000        0.000000   2007.000000       8.000000     15.000000\n",
       "75%        8.200000        0.000000   2010.000000      10.000000     23.000000\n",
       "max       10.000000        1.000000   2016.000000      12.000000     31.000000"
      ]
     },
     "execution_count": 9,
     "metadata": {
      "tags": []
     },
     "output_type": "execute_result"
    }
   ],
   "source": [
    "df.describe()"
   ]
  },
  {
   "cell_type": "code",
   "execution_count": 0,
   "metadata": {
    "colab": {
     "base_uri": "https://localhost:8080/",
     "height": 314
    },
    "colab_type": "code",
    "executionInfo": {
     "elapsed": 2342,
     "status": "ok",
     "timestamp": 1582989564083,
     "user": {
      "displayName": "GOURAB HAZRA",
      "photoUrl": "https://lh3.googleusercontent.com/a-/AOh14GiV5LcY5TILfyTv14CM8FI6Ar76G1ZTqnHlDGG2=s64",
      "userId": "12230592498902526703"
     },
     "user_tz": -330
    },
    "id": "_Rvp5-tOJ0KI",
    "outputId": "11ac2db5-ad18-4131-87af-26b630b77bb4"
   },
   "outputs": [
    {
     "data": {
      "text/html": [
       "<div>\n",
       "<style scoped>\n",
       "    .dataframe tbody tr th:only-of-type {\n",
       "        vertical-align: middle;\n",
       "    }\n",
       "\n",
       "    .dataframe tbody tr th {\n",
       "        vertical-align: top;\n",
       "    }\n",
       "\n",
       "    .dataframe thead th {\n",
       "        text-align: right;\n",
       "    }\n",
       "</style>\n",
       "<table border=\"1\" class=\"dataframe\">\n",
       "  <thead>\n",
       "    <tr style=\"text-align: right;\">\n",
       "      <th></th>\n",
       "      <th>Total</th>\n",
       "      <th>Percent</th>\n",
       "    </tr>\n",
       "  </thead>\n",
       "  <tbody>\n",
       "    <tr>\n",
       "      <th>release_day</th>\n",
       "      <td>0</td>\n",
       "      <td>0.0</td>\n",
       "    </tr>\n",
       "    <tr>\n",
       "      <th>release_month</th>\n",
       "      <td>0</td>\n",
       "      <td>0.0</td>\n",
       "    </tr>\n",
       "    <tr>\n",
       "      <th>release_year</th>\n",
       "      <td>0</td>\n",
       "      <td>0.0</td>\n",
       "    </tr>\n",
       "    <tr>\n",
       "      <th>editors_choice</th>\n",
       "      <td>0</td>\n",
       "      <td>0.0</td>\n",
       "    </tr>\n",
       "    <tr>\n",
       "      <th>genre</th>\n",
       "      <td>0</td>\n",
       "      <td>0.0</td>\n",
       "    </tr>\n",
       "    <tr>\n",
       "      <th>score</th>\n",
       "      <td>0</td>\n",
       "      <td>0.0</td>\n",
       "    </tr>\n",
       "    <tr>\n",
       "      <th>platform</th>\n",
       "      <td>0</td>\n",
       "      <td>0.0</td>\n",
       "    </tr>\n",
       "    <tr>\n",
       "      <th>title</th>\n",
       "      <td>0</td>\n",
       "      <td>0.0</td>\n",
       "    </tr>\n",
       "    <tr>\n",
       "      <th>score_phrase</th>\n",
       "      <td>0</td>\n",
       "      <td>0.0</td>\n",
       "    </tr>\n",
       "  </tbody>\n",
       "</table>\n",
       "</div>"
      ],
      "text/plain": [
       "                Total  Percent\n",
       "release_day         0      0.0\n",
       "release_month       0      0.0\n",
       "release_year        0      0.0\n",
       "editors_choice      0      0.0\n",
       "genre               0      0.0\n",
       "score               0      0.0\n",
       "platform            0      0.0\n",
       "title               0      0.0\n",
       "score_phrase        0      0.0"
      ]
     },
     "execution_count": 10,
     "metadata": {
      "tags": []
     },
     "output_type": "execute_result"
    }
   ],
   "source": [
    "def draw_missing_data_table(df):\n",
    "    total = df.isnull().sum().sort_values(ascending=False)\n",
    "    percent = (df.isnull().sum()/df.isnull().count()).sort_values(ascending=False)\n",
    "    missing_data = pd.concat([total, percent], axis=1, keys=['Total', 'Percent'])\n",
    "    return missing_data\n",
    "draw_missing_data_table(df)"
   ]
  },
  {
   "cell_type": "code",
   "execution_count": 0,
   "metadata": {
    "colab": {
     "base_uri": "https://localhost:8080/",
     "height": 185
    },
    "colab_type": "code",
    "executionInfo": {
     "elapsed": 2326,
     "status": "ok",
     "timestamp": 1582989564085,
     "user": {
      "displayName": "GOURAB HAZRA",
      "photoUrl": "https://lh3.googleusercontent.com/a-/AOh14GiV5LcY5TILfyTv14CM8FI6Ar76G1ZTqnHlDGG2=s64",
      "userId": "12230592498902526703"
     },
     "user_tz": -330
    },
    "id": "rieiHaa2J0KP",
    "outputId": "51fa190b-e92a-4910-8cde-6e50298958c6"
   },
   "outputs": [
    {
     "name": "stdout",
     "output_type": "stream",
     "text": [
      "score_phrase      0\n",
      "title             0\n",
      "platform          0\n",
      "score             0\n",
      "genre             0\n",
      "editors_choice    0\n",
      "release_year      0\n",
      "release_month     0\n",
      "release_day       0\n",
      "dtype: int64\n"
     ]
    }
   ],
   "source": [
    "print(df.isnull().sum())"
   ]
  },
  {
   "cell_type": "code",
   "execution_count": 0,
   "metadata": {
    "colab": {
     "base_uri": "https://localhost:8080/",
     "height": 252
    },
    "colab_type": "code",
    "executionInfo": {
     "elapsed": 2309,
     "status": "ok",
     "timestamp": 1582989564086,
     "user": {
      "displayName": "GOURAB HAZRA",
      "photoUrl": "https://lh3.googleusercontent.com/a-/AOh14GiV5LcY5TILfyTv14CM8FI6Ar76G1ZTqnHlDGG2=s64",
      "userId": "12230592498902526703"
     },
     "user_tz": -330
    },
    "id": "P54GL0M1J0KS",
    "outputId": "7457ebc3-b4b1-419c-96b0-69280a26ad1d"
   },
   "outputs": [
    {
     "name": "stdout",
     "output_type": "stream",
     "text": [
      "<class 'pandas.core.frame.DataFrame'>\n",
      "Int64Index: 18577 entries, 0 to 18624\n",
      "Data columns (total 9 columns):\n",
      "score_phrase      18577 non-null object\n",
      "title             18577 non-null object\n",
      "platform          18577 non-null object\n",
      "score             18577 non-null float64\n",
      "genre             18577 non-null object\n",
      "editors_choice    18577 non-null int64\n",
      "release_year      18577 non-null int64\n",
      "release_month     18577 non-null int64\n",
      "release_day       18577 non-null int64\n",
      "dtypes: float64(1), int64(4), object(4)\n",
      "memory usage: 1.4+ MB\n"
     ]
    }
   ],
   "source": [
    "df.info()"
   ]
  },
  {
   "cell_type": "code",
   "execution_count": 0,
   "metadata": {
    "colab": {
     "base_uri": "https://localhost:8080/",
     "height": 350
    },
    "colab_type": "code",
    "executionInfo": {
     "elapsed": 2297,
     "status": "ok",
     "timestamp": 1582989564094,
     "user": {
      "displayName": "GOURAB HAZRA",
      "photoUrl": "https://lh3.googleusercontent.com/a-/AOh14GiV5LcY5TILfyTv14CM8FI6Ar76G1ZTqnHlDGG2=s64",
      "userId": "12230592498902526703"
     },
     "user_tz": -330
    },
    "id": "-4pG-Q7AcfG1",
    "outputId": "b9a9e450-3eff-4fe5-d29e-0dd8ea90cbe0"
   },
   "outputs": [
    {
     "data": {
      "text/plain": [
       "<matplotlib.axes._subplots.AxesSubplot at 0x7f7d7718e208>"
      ]
     },
     "execution_count": 13,
     "metadata": {
      "tags": []
     },
     "output_type": "execute_result"
    },
    {
     "data": {
      "image/png": "[encoded data removed]",
      "text/plain": [
       "<Figure size 432x288 with 2 Axes>"
      ]
     },
     "metadata": {
      "tags": []
     },
     "output_type": "display_data"
    }
   ],
   "source": [
    "import seaborn as sns\n",
    "import matplotlib.pyplot as plt\n",
    "%matplotlib inline\n",
    "corr = df.corr()\n",
    "sns.heatmap(corr, \n",
    "        xticklabels=corr.columns,\n",
    "        yticklabels=corr.columns)"
   ]
  },
  {
   "cell_type": "code",
   "execution_count": 0,
   "metadata": {
    "colab": {},
    "colab_type": "code",
    "id": "260Rra5UcvhN"
   },
   "outputs": [],
   "source": [
    "from sklearn import preprocessing\n",
    "from collections import defaultdict\n",
    "d = defaultdict(preprocessing.LabelEncoder)\n",
    "\n",
    "# Encoding the categorical variable\n",
    "fit = df.select_dtypes(include=['object']).fillna('NA').apply(lambda x: d[x.name].fit_transform(x))\n",
    "\n",
    "#Convert the categorical columns based on encoding\n",
    "for i in list(d.keys()):\n",
    "    df[i] = d[i].transform(df[i].fillna('NA'))"
   ]
  },
  {
   "cell_type": "code",
   "execution_count": 0,
   "metadata": {
    "colab": {},
    "colab_type": "code",
    "id": "s0p9W9zTeNsu"
   },
   "outputs": [],
   "source": [
    "features = df[df.columns.difference(['editors_choice'])]\n",
    "labels = df['editors_choice']"
   ]
  },
  {
   "cell_type": "code",
   "execution_count": 0,
   "metadata": {
    "colab": {},
    "colab_type": "code",
    "id": "JFvdilwxehhP"
   },
   "outputs": [],
   "source": [
    "features = features.fillna(0)"
   ]
  },
  {
   "cell_type": "markdown",
   "metadata": {
    "colab_type": "text",
    "id": "ZfY7EDZ5gpa6"
   },
   "source": [
    "WOE and IV"
   ]
  },
  {
   "cell_type": "code",
   "execution_count": 0,
   "metadata": {
    "colab": {},
    "colab_type": "code",
    "id": "4gTrT2zfe5H8"
   },
   "outputs": [],
   "source": [
    "# import packages\n",
    "import pandas as pd\n",
    "import numpy as np\n",
    "import pandas.core.algorithms as algos\n",
    "from pandas import Series\n",
    "import scipy.stats.stats as stats\n",
    "import re\n",
    "import traceback\n",
    "import string\n",
    "\n",
    "max_bin = 20\n",
    "force_bin = 3\n",
    "\n",
    "# define a binning function\n",
    "def mono_bin(Y, X, n = max_bin):\n",
    "    \n",
    "    df1 = pd.DataFrame({\"X\": X, \"Y\": Y})\n",
    "    justmiss = df1[['X','Y']][df1.X.isnull()]\n",
    "    notmiss = df1[['X','Y']][df1.X.notnull()]\n",
    "    r = 0\n",
    "    while np.abs(r) < 1:\n",
    "        try:\n",
    "            d1 = pd.DataFrame({\"X\": notmiss.X, \"Y\": notmiss.Y, \"Bucket\": pd.qcut(notmiss.X, n)})\n",
    "            d2 = d1.groupby('Bucket', as_index=True)\n",
    "            r, p = stats.spearmanr(d2.mean().X, d2.mean().Y)\n",
    "            n = n - 1 \n",
    "        except Exception as e:\n",
    "            n = n - 1\n",
    "\n",
    "    if len(d2) == 1:\n",
    "        n = force_bin         \n",
    "        bins = algos.quantile(notmiss.X, np.linspace(0, 1, n))\n",
    "        if len(np.unique(bins)) == 2:\n",
    "            bins = np.insert(bins, 0, 1)\n",
    "            bins[1] = bins[1]-(bins[1]/2)\n",
    "        d1 = pd.DataFrame({\"X\": notmiss.X, \"Y\": notmiss.Y, \"Bucket\": pd.cut(notmiss.X, np.unique(bins),include_lowest=True)}) \n",
    "        d2 = d1.groupby('Bucket', as_index=True)\n",
    "    \n",
    "    d3 = pd.DataFrame({},index=[])\n",
    "    d3[\"MIN_VALUE\"] = d2.min().X\n",
    "    d3[\"MAX_VALUE\"] = d2.max().X\n",
    "    d3[\"COUNT\"] = d2.count().Y\n",
    "    d3[\"EVENT\"] = d2.sum().Y\n",
    "    d3[\"NONEVENT\"] = d2.count().Y - d2.sum().Y\n",
    "    d3=d3.reset_index(drop=True)\n",
    "    \n",
    "    if len(justmiss.index) > 0:\n",
    "        d4 = pd.DataFrame({'MIN_VALUE':np.nan},index=[0])\n",
    "        d4[\"MAX_VALUE\"] = np.nan\n",
    "        d4[\"COUNT\"] = justmiss.count().Y\n",
    "        d4[\"EVENT\"] = justmiss.sum().Y\n",
    "        d4[\"NONEVENT\"] = justmiss.count().Y - justmiss.sum().Y\n",
    "        d3 = d3.append(d4,ignore_index=True)\n",
    "    \n",
    "    d3[\"EVENT_RATE\"] = d3.EVENT/d3.COUNT\n",
    "    d3[\"NON_EVENT_RATE\"] = d3.NONEVENT/d3.COUNT\n",
    "    d3[\"DIST_EVENT\"] = d3.EVENT/d3.sum().EVENT\n",
    "    d3[\"DIST_NON_EVENT\"] = d3.NONEVENT/d3.sum().NONEVENT\n",
    "    d3[\"WOE\"] = np.log(d3.DIST_EVENT/d3.DIST_NON_EVENT)\n",
    "    d3[\"IV\"] = (d3.DIST_EVENT-d3.DIST_NON_EVENT)*np.log(d3.DIST_EVENT/d3.DIST_NON_EVENT)\n",
    "    d3[\"VAR_NAME\"] = \"VAR\"\n",
    "    d3 = d3[['VAR_NAME','MIN_VALUE', 'MAX_VALUE', 'COUNT', 'EVENT', 'EVENT_RATE', 'NONEVENT', 'NON_EVENT_RATE', 'DIST_EVENT','DIST_NON_EVENT','WOE', 'IV']]       \n",
    "    d3 = d3.replace([np.inf, -np.inf], 0)\n",
    "    d3.IV = d3.IV.sum()\n",
    "    \n",
    "    return(d3)\n",
    "\n",
    "def char_bin(Y, X):\n",
    "        \n",
    "    df1 = pd.DataFrame({\"X\": X, \"Y\": Y})\n",
    "    justmiss = df1[['X','Y']][df1.X.isnull()]\n",
    "    notmiss = df1[['X','Y']][df1.X.notnull()]    \n",
    "    df2 = notmiss.groupby('X',as_index=True)\n",
    "    \n",
    "    d3 = pd.DataFrame({},index=[])\n",
    "    d3[\"COUNT\"] = df2.count().Y\n",
    "    d3[\"MIN_VALUE\"] = df2.sum().Y.index\n",
    "    d3[\"MAX_VALUE\"] = d3[\"MIN_VALUE\"]\n",
    "    d3[\"EVENT\"] = df2.sum().Y\n",
    "    d3[\"NONEVENT\"] = df2.count().Y - df2.sum().Y\n",
    "    \n",
    "    if len(justmiss.index) > 0:\n",
    "        d4 = pd.DataFrame({'MIN_VALUE':np.nan},index=[0])\n",
    "        d4[\"MAX_VALUE\"] = np.nan\n",
    "        d4[\"COUNT\"] = justmiss.count().Y\n",
    "        d4[\"EVENT\"] = justmiss.sum().Y\n",
    "        d4[\"NONEVENT\"] = justmiss.count().Y - justmiss.sum().Y\n",
    "        d3 = d3.append(d4,ignore_index=True)\n",
    "    \n",
    "    d3[\"EVENT_RATE\"] = d3.EVENT/d3.COUNT\n",
    "    d3[\"NON_EVENT_RATE\"] = d3.NONEVENT/d3.COUNT\n",
    "    d3[\"DIST_EVENT\"] = d3.EVENT/d3.sum().EVENT\n",
    "    d3[\"DIST_NON_EVENT\"] = d3.NONEVENT/d3.sum().NONEVENT\n",
    "    d3[\"WOE\"] = np.log(d3.DIST_EVENT/d3.DIST_NON_EVENT)\n",
    "    d3[\"IV\"] = (d3.DIST_EVENT-d3.DIST_NON_EVENT)*np.log(d3.DIST_EVENT/d3.DIST_NON_EVENT)\n",
    "    d3[\"VAR_NAME\"] = \"VAR\"\n",
    "    d3 = d3[['VAR_NAME','MIN_VALUE', 'MAX_VALUE', 'COUNT', 'EVENT', 'EVENT_RATE', 'NONEVENT', 'NON_EVENT_RATE', 'DIST_EVENT','DIST_NON_EVENT','WOE', 'IV']]      \n",
    "    d3 = d3.replace([np.inf, -np.inf], 0)\n",
    "    d3.IV = d3.IV.sum()\n",
    "    d3 = d3.reset_index(drop=True)\n",
    "    \n",
    "    return(d3)\n",
    "\n",
    "def data_vars(df1, target):\n",
    "    \n",
    "    stack = traceback.extract_stack()\n",
    "    filename, lineno, function_name, code = stack[-2]\n",
    "    vars_name = re.compile(r'\\((.*?)\\).*$').search(code).groups()[0]\n",
    "    final = (re.findall(r\"[\\w']+\", vars_name))[-1]\n",
    "    \n",
    "    x = df1.dtypes.index\n",
    "    count = -1\n",
    "    \n",
    "    for i in x:\n",
    "        if i.upper() not in (final.upper()):\n",
    "            if np.issubdtype(df1[i], np.number) and len(Series.unique(df1[i])) > 2:\n",
    "                conv = mono_bin(target, df1[i])\n",
    "                conv[\"VAR_NAME\"] = i\n",
    "                count = count + 1\n",
    "            else:\n",
    "                conv = char_bin(target, df1[i])\n",
    "                conv[\"VAR_NAME\"] = i            \n",
    "                count = count + 1\n",
    "                \n",
    "            if count == 0:\n",
    "                iv_df = conv\n",
    "            else:\n",
    "                iv_df = iv_df.append(conv,ignore_index=True)\n",
    "    \n",
    "    iv = pd.DataFrame({'IV':iv_df.groupby('VAR_NAME').IV.max()})\n",
    "    iv = iv.reset_index()\n",
    "    return(iv_df,iv)"
   ]
  },
  {
   "cell_type": "code",
   "execution_count": 0,
   "metadata": {
    "colab": {
     "base_uri": "https://localhost:8080/",
     "height": 50
    },
    "colab_type": "code",
    "executionInfo": {
     "elapsed": 3460,
     "status": "ok",
     "timestamp": 1582989565340,
     "user": {
      "displayName": "GOURAB HAZRA",
      "photoUrl": "https://lh3.googleusercontent.com/a-/AOh14GiV5LcY5TILfyTv14CM8FI6Ar76G1ZTqnHlDGG2=s64",
      "userId": "12230592498902526703"
     },
     "user_tz": -330
    },
    "id": "nDN_yycXgBrr",
    "outputId": "2832e32c-0bb0-40d6-b072-b1e30164d7dd"
   },
   "outputs": [
    {
     "name": "stderr",
     "output_type": "stream",
     "text": [
      "/usr/local/lib/python3.6/dist-packages/pandas/core/series.py:856: RuntimeWarning: divide by zero encountered in log\n",
      "  result = getattr(ufunc, method)(*inputs, **kwargs)\n"
     ]
    }
   ],
   "source": [
    "final_iv, IV = data_vars(df[df.columns.difference(['editors_choice'])],df.editors_choice)"
   ]
  },
  {
   "cell_type": "code",
   "execution_count": 0,
   "metadata": {
    "colab": {
     "base_uri": "https://localhost:8080/",
     "height": 610
    },
    "colab_type": "code",
    "executionInfo": {
     "elapsed": 3445,
     "status": "ok",
     "timestamp": 1582989565340,
     "user": {
      "displayName": "GOURAB HAZRA",
      "photoUrl": "https://lh3.googleusercontent.com/a-/AOh14GiV5LcY5TILfyTv14CM8FI6Ar76G1ZTqnHlDGG2=s64",
      "userId": "12230592498902526703"
     },
     "user_tz": -330
    },
    "id": "dm7UsHNvgI-L",
    "outputId": "56119e8e-4a30-4006-8cf2-6cf7955d7289"
   },
   "outputs": [
    {
     "data": {
      "text/html": [
       "<div>\n",
       "<style scoped>\n",
       "    .dataframe tbody tr th:only-of-type {\n",
       "        vertical-align: middle;\n",
       "    }\n",
       "\n",
       "    .dataframe tbody tr th {\n",
       "        vertical-align: top;\n",
       "    }\n",
       "\n",
       "    .dataframe thead th {\n",
       "        text-align: right;\n",
       "    }\n",
       "</style>\n",
       "<table border=\"1\" class=\"dataframe\">\n",
       "  <thead>\n",
       "    <tr style=\"text-align: right;\">\n",
       "      <th></th>\n",
       "      <th>VAR_NAME</th>\n",
       "      <th>MIN_VALUE</th>\n",
       "      <th>MAX_VALUE</th>\n",
       "      <th>COUNT</th>\n",
       "      <th>EVENT</th>\n",
       "      <th>EVENT_RATE</th>\n",
       "      <th>NONEVENT</th>\n",
       "      <th>NON_EVENT_RATE</th>\n",
       "      <th>DIST_EVENT</th>\n",
       "      <th>DIST_NON_EVENT</th>\n",
       "      <th>WOE</th>\n",
       "      <th>IV</th>\n",
       "    </tr>\n",
       "  </thead>\n",
       "  <tbody>\n",
       "    <tr>\n",
       "      <th>0</th>\n",
       "      <td>genre</td>\n",
       "      <td>0.0</td>\n",
       "      <td>13.0</td>\n",
       "      <td>6198</td>\n",
       "      <td>983</td>\n",
       "      <td>0.158600</td>\n",
       "      <td>5215</td>\n",
       "      <td>0.841400</td>\n",
       "      <td>0.280137</td>\n",
       "      <td>0.346098</td>\n",
       "      <td>-0.211443</td>\n",
       "      <td>0.020350</td>\n",
       "    </tr>\n",
       "    <tr>\n",
       "      <th>1</th>\n",
       "      <td>genre</td>\n",
       "      <td>14.0</td>\n",
       "      <td>80.0</td>\n",
       "      <td>6237</td>\n",
       "      <td>1263</td>\n",
       "      <td>0.202501</td>\n",
       "      <td>4974</td>\n",
       "      <td>0.797499</td>\n",
       "      <td>0.359932</td>\n",
       "      <td>0.330104</td>\n",
       "      <td>0.086508</td>\n",
       "      <td>0.020350</td>\n",
       "    </tr>\n",
       "    <tr>\n",
       "      <th>2</th>\n",
       "      <td>genre</td>\n",
       "      <td>81.0</td>\n",
       "      <td>112.0</td>\n",
       "      <td>6142</td>\n",
       "      <td>1263</td>\n",
       "      <td>0.205633</td>\n",
       "      <td>4879</td>\n",
       "      <td>0.794367</td>\n",
       "      <td>0.359932</td>\n",
       "      <td>0.323799</td>\n",
       "      <td>0.105792</td>\n",
       "      <td>0.020350</td>\n",
       "    </tr>\n",
       "    <tr>\n",
       "      <th>3</th>\n",
       "      <td>platform</td>\n",
       "      <td>0.0</td>\n",
       "      <td>29.0</td>\n",
       "      <td>7414</td>\n",
       "      <td>1265</td>\n",
       "      <td>0.170623</td>\n",
       "      <td>6149</td>\n",
       "      <td>0.829377</td>\n",
       "      <td>0.360502</td>\n",
       "      <td>0.408083</td>\n",
       "      <td>-0.123975</td>\n",
       "      <td>0.012560</td>\n",
       "    </tr>\n",
       "    <tr>\n",
       "      <th>4</th>\n",
       "      <td>platform</td>\n",
       "      <td>30.0</td>\n",
       "      <td>35.0</td>\n",
       "      <td>5039</td>\n",
       "      <td>951</td>\n",
       "      <td>0.188728</td>\n",
       "      <td>4088</td>\n",
       "      <td>0.811272</td>\n",
       "      <td>0.271017</td>\n",
       "      <td>0.271303</td>\n",
       "      <td>-0.001055</td>\n",
       "      <td>0.012560</td>\n",
       "    </tr>\n",
       "    <tr>\n",
       "      <th>5</th>\n",
       "      <td>platform</td>\n",
       "      <td>36.0</td>\n",
       "      <td>58.0</td>\n",
       "      <td>6124</td>\n",
       "      <td>1293</td>\n",
       "      <td>0.211137</td>\n",
       "      <td>4831</td>\n",
       "      <td>0.788863</td>\n",
       "      <td>0.368481</td>\n",
       "      <td>0.320613</td>\n",
       "      <td>0.139154</td>\n",
       "      <td>0.012560</td>\n",
       "    </tr>\n",
       "    <tr>\n",
       "      <th>6</th>\n",
       "      <td>release_day</td>\n",
       "      <td>1.0</td>\n",
       "      <td>15.0</td>\n",
       "      <td>9292</td>\n",
       "      <td>1726</td>\n",
       "      <td>0.185751</td>\n",
       "      <td>7566</td>\n",
       "      <td>0.814249</td>\n",
       "      <td>0.491878</td>\n",
       "      <td>0.502124</td>\n",
       "      <td>-0.020616</td>\n",
       "      <td>0.000420</td>\n",
       "    </tr>\n",
       "    <tr>\n",
       "      <th>7</th>\n",
       "      <td>release_day</td>\n",
       "      <td>16.0</td>\n",
       "      <td>31.0</td>\n",
       "      <td>9285</td>\n",
       "      <td>1783</td>\n",
       "      <td>0.192030</td>\n",
       "      <td>7502</td>\n",
       "      <td>0.807970</td>\n",
       "      <td>0.508122</td>\n",
       "      <td>0.497876</td>\n",
       "      <td>0.020370</td>\n",
       "      <td>0.000420</td>\n",
       "    </tr>\n",
       "    <tr>\n",
       "      <th>8</th>\n",
       "      <td>release_month</td>\n",
       "      <td>1.0</td>\n",
       "      <td>8.0</td>\n",
       "      <td>10425</td>\n",
       "      <td>1930</td>\n",
       "      <td>0.185132</td>\n",
       "      <td>8495</td>\n",
       "      <td>0.814868</td>\n",
       "      <td>0.550014</td>\n",
       "      <td>0.563778</td>\n",
       "      <td>-0.024716</td>\n",
       "      <td>0.000768</td>\n",
       "    </tr>\n",
       "    <tr>\n",
       "      <th>9</th>\n",
       "      <td>release_month</td>\n",
       "      <td>9.0</td>\n",
       "      <td>12.0</td>\n",
       "      <td>8152</td>\n",
       "      <td>1579</td>\n",
       "      <td>0.193695</td>\n",
       "      <td>6573</td>\n",
       "      <td>0.806305</td>\n",
       "      <td>0.449986</td>\n",
       "      <td>0.436222</td>\n",
       "      <td>0.031064</td>\n",
       "      <td>0.000768</td>\n",
       "    </tr>\n",
       "    <tr>\n",
       "      <th>10</th>\n",
       "      <td>release_year</td>\n",
       "      <td>1970.0</td>\n",
       "      <td>2007.0</td>\n",
       "      <td>9977</td>\n",
       "      <td>1891</td>\n",
       "      <td>0.189536</td>\n",
       "      <td>8086</td>\n",
       "      <td>0.810464</td>\n",
       "      <td>0.538900</td>\n",
       "      <td>0.536634</td>\n",
       "      <td>0.004214</td>\n",
       "      <td>0.000021</td>\n",
       "    </tr>\n",
       "    <tr>\n",
       "      <th>11</th>\n",
       "      <td>release_year</td>\n",
       "      <td>2008.0</td>\n",
       "      <td>2016.0</td>\n",
       "      <td>8600</td>\n",
       "      <td>1618</td>\n",
       "      <td>0.188140</td>\n",
       "      <td>6982</td>\n",
       "      <td>0.811860</td>\n",
       "      <td>0.461100</td>\n",
       "      <td>0.463366</td>\n",
       "      <td>-0.004902</td>\n",
       "      <td>0.000021</td>\n",
       "    </tr>\n",
       "    <tr>\n",
       "      <th>12</th>\n",
       "      <td>score</td>\n",
       "      <td>0.5</td>\n",
       "      <td>6.5</td>\n",
       "      <td>6490</td>\n",
       "      <td>0</td>\n",
       "      <td>0.000000</td>\n",
       "      <td>6490</td>\n",
       "      <td>1.000000</td>\n",
       "      <td>0.000000</td>\n",
       "      <td>0.430714</td>\n",
       "      <td>0.000000</td>\n",
       "      <td>2.836895</td>\n",
       "    </tr>\n",
       "    <tr>\n",
       "      <th>13</th>\n",
       "      <td>score</td>\n",
       "      <td>6.6</td>\n",
       "      <td>8.0</td>\n",
       "      <td>7222</td>\n",
       "      <td>174</td>\n",
       "      <td>0.024093</td>\n",
       "      <td>7048</td>\n",
       "      <td>0.975907</td>\n",
       "      <td>0.049587</td>\n",
       "      <td>0.467746</td>\n",
       "      <td>-2.244202</td>\n",
       "      <td>2.836895</td>\n",
       "    </tr>\n",
       "    <tr>\n",
       "      <th>14</th>\n",
       "      <td>score</td>\n",
       "      <td>8.1</td>\n",
       "      <td>10.0</td>\n",
       "      <td>4865</td>\n",
       "      <td>3335</td>\n",
       "      <td>0.685509</td>\n",
       "      <td>1530</td>\n",
       "      <td>0.314491</td>\n",
       "      <td>0.950413</td>\n",
       "      <td>0.101540</td>\n",
       "      <td>2.236447</td>\n",
       "      <td>2.836895</td>\n",
       "    </tr>\n",
       "    <tr>\n",
       "      <th>15</th>\n",
       "      <td>score_phrase</td>\n",
       "      <td>0.0</td>\n",
       "      <td>5.0</td>\n",
       "      <td>13219</td>\n",
       "      <td>3459</td>\n",
       "      <td>0.261669</td>\n",
       "      <td>9760</td>\n",
       "      <td>0.738331</td>\n",
       "      <td>0.985751</td>\n",
       "      <td>0.647730</td>\n",
       "      <td>0.419929</td>\n",
       "      <td>1.226215</td>\n",
       "    </tr>\n",
       "    <tr>\n",
       "      <th>16</th>\n",
       "      <td>score_phrase</td>\n",
       "      <td>6.0</td>\n",
       "      <td>10.0</td>\n",
       "      <td>5358</td>\n",
       "      <td>50</td>\n",
       "      <td>0.009332</td>\n",
       "      <td>5308</td>\n",
       "      <td>0.990668</td>\n",
       "      <td>0.014249</td>\n",
       "      <td>0.352270</td>\n",
       "      <td>-3.207705</td>\n",
       "      <td>1.226215</td>\n",
       "    </tr>\n",
       "    <tr>\n",
       "      <th>17</th>\n",
       "      <td>title</td>\n",
       "      <td>0.0</td>\n",
       "      <td>6356.0</td>\n",
       "      <td>9290</td>\n",
       "      <td>1673</td>\n",
       "      <td>0.180086</td>\n",
       "      <td>7617</td>\n",
       "      <td>0.819914</td>\n",
       "      <td>0.476774</td>\n",
       "      <td>0.505508</td>\n",
       "      <td>-0.058522</td>\n",
       "      <td>0.003305</td>\n",
       "    </tr>\n",
       "    <tr>\n",
       "      <th>18</th>\n",
       "      <td>title</td>\n",
       "      <td>6357.0</td>\n",
       "      <td>12588.0</td>\n",
       "      <td>9287</td>\n",
       "      <td>1836</td>\n",
       "      <td>0.197696</td>\n",
       "      <td>7451</td>\n",
       "      <td>0.802304</td>\n",
       "      <td>0.523226</td>\n",
       "      <td>0.494492</td>\n",
       "      <td>0.056483</td>\n",
       "      <td>0.003305</td>\n",
       "    </tr>\n",
       "  </tbody>\n",
       "</table>\n",
       "</div>"
      ],
      "text/plain": [
       "         VAR_NAME  MIN_VALUE  MAX_VALUE  ...  DIST_NON_EVENT       WOE        IV\n",
       "0           genre        0.0       13.0  ...        0.346098 -0.211443  0.020350\n",
       "1           genre       14.0       80.0  ...        0.330104  0.086508  0.020350\n",
       "2           genre       81.0      112.0  ...        0.323799  0.105792  0.020350\n",
       "3        platform        0.0       29.0  ...        0.408083 -0.123975  0.012560\n",
       "4        platform       30.0       35.0  ...        0.271303 -0.001055  0.012560\n",
       "5        platform       36.0       58.0  ...        0.320613  0.139154  0.012560\n",
       "6     release_day        1.0       15.0  ...        0.502124 -0.020616  0.000420\n",
       "7     release_day       16.0       31.0  ...        0.497876  0.020370  0.000420\n",
       "8   release_month        1.0        8.0  ...        0.563778 -0.024716  0.000768\n",
       "9   release_month        9.0       12.0  ...        0.436222  0.031064  0.000768\n",
       "10   release_year     1970.0     2007.0  ...        0.536634  0.004214  0.000021\n",
       "11   release_year     2008.0     2016.0  ...        0.463366 -0.004902  0.000021\n",
       "12          score        0.5        6.5  ...        0.430714  0.000000  2.836895\n",
       "13          score        6.6        8.0  ...        0.467746 -2.244202  2.836895\n",
       "14          score        8.1       10.0  ...        0.101540  2.236447  2.836895\n",
       "15   score_phrase        0.0        5.0  ...        0.647730  0.419929  1.226215\n",
       "16   score_phrase        6.0       10.0  ...        0.352270 -3.207705  1.226215\n",
       "17          title        0.0     6356.0  ...        0.505508 -0.058522  0.003305\n",
       "18          title     6357.0    12588.0  ...        0.494492  0.056483  0.003305\n",
       "\n",
       "[19 rows x 12 columns]"
      ]
     },
     "execution_count": 19,
     "metadata": {
      "tags": []
     },
     "output_type": "execute_result"
    }
   ],
   "source": [
    "final_iv"
   ]
  },
  {
   "cell_type": "code",
   "execution_count": 0,
   "metadata": {
    "colab": {
     "base_uri": "https://localhost:8080/",
     "height": 284
    },
    "colab_type": "code",
    "executionInfo": {
     "elapsed": 3427,
     "status": "ok",
     "timestamp": 1582989565341,
     "user": {
      "displayName": "GOURAB HAZRA",
      "photoUrl": "https://lh3.googleusercontent.com/a-/AOh14GiV5LcY5TILfyTv14CM8FI6Ar76G1ZTqnHlDGG2=s64",
      "userId": "12230592498902526703"
     },
     "user_tz": -330
    },
    "id": "gi77s-PbgVuD",
    "outputId": "c9c032e7-ce33-4d05-df37-985269d80f40"
   },
   "outputs": [
    {
     "data": {
      "text/html": [
       "<div>\n",
       "<style scoped>\n",
       "    .dataframe tbody tr th:only-of-type {\n",
       "        vertical-align: middle;\n",
       "    }\n",
       "\n",
       "    .dataframe tbody tr th {\n",
       "        vertical-align: top;\n",
       "    }\n",
       "\n",
       "    .dataframe thead th {\n",
       "        text-align: right;\n",
       "    }\n",
       "</style>\n",
       "<table border=\"1\" class=\"dataframe\">\n",
       "  <thead>\n",
       "    <tr style=\"text-align: right;\">\n",
       "      <th></th>\n",
       "      <th>index</th>\n",
       "      <th>IV</th>\n",
       "    </tr>\n",
       "  </thead>\n",
       "  <tbody>\n",
       "    <tr>\n",
       "      <th>5</th>\n",
       "      <td>score</td>\n",
       "      <td>2.836895</td>\n",
       "    </tr>\n",
       "    <tr>\n",
       "      <th>6</th>\n",
       "      <td>score_phrase</td>\n",
       "      <td>1.226215</td>\n",
       "    </tr>\n",
       "    <tr>\n",
       "      <th>0</th>\n",
       "      <td>genre</td>\n",
       "      <td>0.020350</td>\n",
       "    </tr>\n",
       "    <tr>\n",
       "      <th>1</th>\n",
       "      <td>platform</td>\n",
       "      <td>0.012560</td>\n",
       "    </tr>\n",
       "    <tr>\n",
       "      <th>7</th>\n",
       "      <td>title</td>\n",
       "      <td>0.003305</td>\n",
       "    </tr>\n",
       "    <tr>\n",
       "      <th>3</th>\n",
       "      <td>release_month</td>\n",
       "      <td>0.000768</td>\n",
       "    </tr>\n",
       "    <tr>\n",
       "      <th>2</th>\n",
       "      <td>release_day</td>\n",
       "      <td>0.000420</td>\n",
       "    </tr>\n",
       "    <tr>\n",
       "      <th>4</th>\n",
       "      <td>release_year</td>\n",
       "      <td>0.000021</td>\n",
       "    </tr>\n",
       "  </tbody>\n",
       "</table>\n",
       "</div>"
      ],
      "text/plain": [
       "           index        IV\n",
       "5          score  2.836895\n",
       "6   score_phrase  1.226215\n",
       "0          genre  0.020350\n",
       "1       platform  0.012560\n",
       "7          title  0.003305\n",
       "3  release_month  0.000768\n",
       "2    release_day  0.000420\n",
       "4   release_year  0.000021"
      ]
     },
     "execution_count": 20,
     "metadata": {
      "tags": []
     },
     "output_type": "execute_result"
    }
   ],
   "source": [
    "IV = IV.rename(columns={'VAR_NAME':'index'})\n",
    "IV.sort_values(['IV'],ascending=0)"
   ]
  },
  {
   "cell_type": "markdown",
   "metadata": {
    "colab_type": "text",
    "id": "Y9rGssgoghP_"
   },
   "source": [
    "Apply WOE values to your dataframe columns¶\n",
    "The below code snippet can be used to apply the WOE values to your dataframe columns."
   ]
  },
  {
   "cell_type": "code",
   "execution_count": 0,
   "metadata": {
    "colab": {},
    "colab_type": "code",
    "id": "WSqlDoBnge7M"
   },
   "outputs": [],
   "source": [
    "transform_vars_list = df.columns.difference(['editors_choice'])\n",
    "transform_prefix = 'new_' # leave this value blank if you need replace the original column values"
   ]
  },
  {
   "cell_type": "code",
   "execution_count": 0,
   "metadata": {
    "colab": {
     "base_uri": "https://localhost:8080/",
     "height": 67
    },
    "colab_type": "code",
    "executionInfo": {
     "elapsed": 3388,
     "status": "ok",
     "timestamp": 1582989565342,
     "user": {
      "displayName": "GOURAB HAZRA",
      "photoUrl": "https://lh3.googleusercontent.com/a-/AOh14GiV5LcY5TILfyTv14CM8FI6Ar76G1ZTqnHlDGG2=s64",
      "userId": "12230592498902526703"
     },
     "user_tz": -330
    },
    "id": "25KzfiLzhQct",
    "outputId": "89f2d3fa-958b-4671-df56-190c77d9735e"
   },
   "outputs": [
    {
     "data": {
      "text/plain": [
       "Index(['genre', 'platform', 'release_day', 'release_month', 'release_year',\n",
       "       'score', 'score_phrase', 'title'],\n",
       "      dtype='object')"
      ]
     },
     "execution_count": 22,
     "metadata": {
      "tags": []
     },
     "output_type": "execute_result"
    }
   ],
   "source": [
    "transform_vars_list"
   ]
  },
  {
   "cell_type": "code",
   "execution_count": 0,
   "metadata": {
    "colab": {},
    "colab_type": "code",
    "id": "KmNhroG5hTh7"
   },
   "outputs": [],
   "source": [
    "for var in transform_vars_list:\n",
    "    small_df = final_iv[final_iv['VAR_NAME'] == var]\n",
    "    transform_dict = dict(zip(small_df.MAX_VALUE,small_df.WOE))\n",
    "    replace_cmd = ''\n",
    "    replace_cmd1 = ''\n",
    "    for i in sorted(transform_dict.items()):\n",
    "        replace_cmd = replace_cmd + str(i[1]) + str(' if x <= ') + str(i[0]) + ' else '\n",
    "        replace_cmd1 = replace_cmd1 + str(i[1]) + str(' if x == \"') + str(i[0]) + '\" else '\n",
    "    replace_cmd = replace_cmd + '0'\n",
    "    replace_cmd1 = replace_cmd1 + '0'\n",
    "    if replace_cmd != '0':\n",
    "        try:\n",
    "            df[transform_prefix + var] = df[var].apply(lambda x: eval(replace_cmd))\n",
    "        except:\n",
    "            df[transform_prefix + var] = df[var].apply(lambda x: eval(replace_cmd1))"
   ]
  },
  {
   "cell_type": "code",
   "execution_count": 0,
   "metadata": {
    "colab": {
     "base_uri": "https://localhost:8080/",
     "height": 34
    },
    "colab_type": "code",
    "executionInfo": {
     "elapsed": 6652,
     "status": "ok",
     "timestamp": 1582989568648,
     "user": {
      "displayName": "GOURAB HAZRA",
      "photoUrl": "https://lh3.googleusercontent.com/a-/AOh14GiV5LcY5TILfyTv14CM8FI6Ar76G1ZTqnHlDGG2=s64",
      "userId": "12230592498902526703"
     },
     "user_tz": -330
    },
    "id": "XS9ctWyGhYek",
    "outputId": "de06102b-7104-40fd-c29f-6e22358bfea4"
   },
   "outputs": [
    {
     "name": "stdout",
     "output_type": "stream",
     "text": [
      "1.0\n"
     ]
    }
   ],
   "source": [
    "from sklearn.ensemble import RandomForestClassifier\n",
    "clf = RandomForestClassifier()\n",
    "\n",
    "clf.fit(features,labels)\n",
    "\n",
    "preds = clf.predict(features)\n",
    "\n",
    "from sklearn.metrics import accuracy_score\n",
    "accuracy = accuracy_score(preds,labels)\n",
    "print(accuracy)"
   ]
  },
  {
   "cell_type": "code",
   "execution_count": 0,
   "metadata": {
    "colab": {},
    "colab_type": "code",
    "id": "ahpWePLwhcln"
   },
   "outputs": [],
   "source": [
    "from pandas import DataFrame\n",
    "VI = DataFrame(clf.feature_importances_, columns = [\"RF\"], index=features.columns)"
   ]
  },
  {
   "cell_type": "code",
   "execution_count": 0,
   "metadata": {
    "colab": {
     "base_uri": "https://localhost:8080/",
     "height": 284
    },
    "colab_type": "code",
    "executionInfo": {
     "elapsed": 6618,
     "status": "ok",
     "timestamp": 1582989568649,
     "user": {
      "displayName": "GOURAB HAZRA",
      "photoUrl": "https://lh3.googleusercontent.com/a-/AOh14GiV5LcY5TILfyTv14CM8FI6Ar76G1ZTqnHlDGG2=s64",
      "userId": "12230592498902526703"
     },
     "user_tz": -330
    },
    "id": "tBDHD-1JhfBW",
    "outputId": "dbc6aba3-cce3-486f-926e-1a5b58098e67"
   },
   "outputs": [
    {
     "data": {
      "text/html": [
       "<div>\n",
       "<style scoped>\n",
       "    .dataframe tbody tr th:only-of-type {\n",
       "        vertical-align: middle;\n",
       "    }\n",
       "\n",
       "    .dataframe tbody tr th {\n",
       "        vertical-align: top;\n",
       "    }\n",
       "\n",
       "    .dataframe thead th {\n",
       "        text-align: right;\n",
       "    }\n",
       "</style>\n",
       "<table border=\"1\" class=\"dataframe\">\n",
       "  <thead>\n",
       "    <tr style=\"text-align: right;\">\n",
       "      <th></th>\n",
       "      <th>index</th>\n",
       "      <th>RF</th>\n",
       "    </tr>\n",
       "  </thead>\n",
       "  <tbody>\n",
       "    <tr>\n",
       "      <th>5</th>\n",
       "      <td>score</td>\n",
       "      <td>0.573752</td>\n",
       "    </tr>\n",
       "    <tr>\n",
       "      <th>6</th>\n",
       "      <td>score_phrase</td>\n",
       "      <td>0.183730</td>\n",
       "    </tr>\n",
       "    <tr>\n",
       "      <th>4</th>\n",
       "      <td>release_year</td>\n",
       "      <td>0.062925</td>\n",
       "    </tr>\n",
       "    <tr>\n",
       "      <th>7</th>\n",
       "      <td>title</td>\n",
       "      <td>0.047687</td>\n",
       "    </tr>\n",
       "    <tr>\n",
       "      <th>1</th>\n",
       "      <td>platform</td>\n",
       "      <td>0.041174</td>\n",
       "    </tr>\n",
       "    <tr>\n",
       "      <th>2</th>\n",
       "      <td>release_day</td>\n",
       "      <td>0.034913</td>\n",
       "    </tr>\n",
       "    <tr>\n",
       "      <th>0</th>\n",
       "      <td>genre</td>\n",
       "      <td>0.028857</td>\n",
       "    </tr>\n",
       "    <tr>\n",
       "      <th>3</th>\n",
       "      <td>release_month</td>\n",
       "      <td>0.026962</td>\n",
       "    </tr>\n",
       "  </tbody>\n",
       "</table>\n",
       "</div>"
      ],
      "text/plain": [
       "           index        RF\n",
       "5          score  0.573752\n",
       "6   score_phrase  0.183730\n",
       "4   release_year  0.062925\n",
       "7          title  0.047687\n",
       "1       platform  0.041174\n",
       "2    release_day  0.034913\n",
       "0          genre  0.028857\n",
       "3  release_month  0.026962"
      ]
     },
     "execution_count": 26,
     "metadata": {
      "tags": []
     },
     "output_type": "execute_result"
    }
   ],
   "source": [
    "VI = VI.reset_index()\n",
    "VI.sort_values(['RF'],ascending=0)"
   ]
  },
  {
   "cell_type": "markdown",
   "metadata": {
    "colab_type": "text",
    "id": "ixnLncMrhjLW"
   },
   "source": [
    "Recursive Feature Elimination"
   ]
  },
  {
   "cell_type": "code",
   "execution_count": 0,
   "metadata": {
    "colab": {
     "base_uri": "https://localhost:8080/",
     "height": 151
    },
    "colab_type": "code",
    "executionInfo": {
     "elapsed": 6972,
     "status": "ok",
     "timestamp": 1582989569018,
     "user": {
      "displayName": "GOURAB HAZRA",
      "photoUrl": "https://lh3.googleusercontent.com/a-/AOh14GiV5LcY5TILfyTv14CM8FI6Ar76G1ZTqnHlDGG2=s64",
      "userId": "12230592498902526703"
     },
     "user_tz": -330
    },
    "id": "WEpqXMG9hkMT",
    "outputId": "ed4b39a0-c5cc-40d6-dd17-5fb24a2c8bf0"
   },
   "outputs": [
    {
     "name": "stderr",
     "output_type": "stream",
     "text": [
      "/usr/local/lib/python3.6/dist-packages/sklearn/linear_model/_logistic.py:940: ConvergenceWarning: lbfgs failed to converge (status=1):\n",
      "STOP: TOTAL NO. of ITERATIONS REACHED LIMIT.\n",
      "\n",
      "Increase the number of iterations (max_iter) or scale the data as shown in:\n",
      "    https://scikit-learn.org/stable/modules/preprocessing.html\n",
      "Please also refer to the documentation for alternative solver options:\n",
      "    https://scikit-learn.org/stable/modules/linear_model.html#logistic-regression\n",
      "  extra_warning_msg=_LOGISTIC_SOLVER_CONVERGENCE_MSG)\n"
     ]
    }
   ],
   "source": [
    "from sklearn.feature_selection import RFE\n",
    "from sklearn.linear_model import LogisticRegression\n",
    "\n",
    "model = LogisticRegression()\n",
    "rfe = RFE(model, 20)\n",
    "fit = rfe.fit(features, labels)"
   ]
  },
  {
   "cell_type": "code",
   "execution_count": 0,
   "metadata": {
    "colab": {},
    "colab_type": "code",
    "id": "2yTG-dTNiDed"
   },
   "outputs": [],
   "source": [
    "from pandas import DataFrame\n",
    "Selected = DataFrame(rfe.support_, columns = [\"RFE\"], index=features.columns)\n",
    "Selected = Selected.reset_index()"
   ]
  },
  {
   "cell_type": "code",
   "execution_count": 0,
   "metadata": {
    "colab": {
     "base_uri": "https://localhost:8080/",
     "height": 284
    },
    "colab_type": "code",
    "executionInfo": {
     "elapsed": 959,
     "status": "ok",
     "timestamp": 1582989697208,
     "user": {
      "displayName": "GOURAB HAZRA",
      "photoUrl": "https://lh3.googleusercontent.com/a-/AOh14GiV5LcY5TILfyTv14CM8FI6Ar76G1ZTqnHlDGG2=s64",
      "userId": "12230592498902526703"
     },
     "user_tz": -330
    },
    "id": "Au1IEA6MiaVO",
    "outputId": "f9e3b81a-87a2-4260-93cc-230698a42d7b"
   },
   "outputs": [
    {
     "data": {
      "text/html": [
       "<div>\n",
       "<style scoped>\n",
       "    .dataframe tbody tr th:only-of-type {\n",
       "        vertical-align: middle;\n",
       "    }\n",
       "\n",
       "    .dataframe tbody tr th {\n",
       "        vertical-align: top;\n",
       "    }\n",
       "\n",
       "    .dataframe thead th {\n",
       "        text-align: right;\n",
       "    }\n",
       "</style>\n",
       "<table border=\"1\" class=\"dataframe\">\n",
       "  <thead>\n",
       "    <tr style=\"text-align: right;\">\n",
       "      <th></th>\n",
       "      <th>index</th>\n",
       "      <th>RFE</th>\n",
       "    </tr>\n",
       "  </thead>\n",
       "  <tbody>\n",
       "    <tr>\n",
       "      <th>0</th>\n",
       "      <td>genre</td>\n",
       "      <td>True</td>\n",
       "    </tr>\n",
       "    <tr>\n",
       "      <th>1</th>\n",
       "      <td>platform</td>\n",
       "      <td>True</td>\n",
       "    </tr>\n",
       "    <tr>\n",
       "      <th>2</th>\n",
       "      <td>release_day</td>\n",
       "      <td>True</td>\n",
       "    </tr>\n",
       "    <tr>\n",
       "      <th>3</th>\n",
       "      <td>release_month</td>\n",
       "      <td>True</td>\n",
       "    </tr>\n",
       "    <tr>\n",
       "      <th>4</th>\n",
       "      <td>release_year</td>\n",
       "      <td>True</td>\n",
       "    </tr>\n",
       "    <tr>\n",
       "      <th>5</th>\n",
       "      <td>score</td>\n",
       "      <td>True</td>\n",
       "    </tr>\n",
       "    <tr>\n",
       "      <th>6</th>\n",
       "      <td>score_phrase</td>\n",
       "      <td>True</td>\n",
       "    </tr>\n",
       "    <tr>\n",
       "      <th>7</th>\n",
       "      <td>title</td>\n",
       "      <td>True</td>\n",
       "    </tr>\n",
       "  </tbody>\n",
       "</table>\n",
       "</div>"
      ],
      "text/plain": [
       "           index   RFE\n",
       "0          genre  True\n",
       "1       platform  True\n",
       "2    release_day  True\n",
       "3  release_month  True\n",
       "4   release_year  True\n",
       "5          score  True\n",
       "6   score_phrase  True\n",
       "7          title  True"
      ]
     },
     "execution_count": 30,
     "metadata": {
      "tags": []
     },
     "output_type": "execute_result"
    }
   ],
   "source": [
    "Selected[Selected['RFE'] == True]"
   ]
  },
  {
   "cell_type": "markdown",
   "metadata": {
    "colab_type": "text",
    "id": "BmxsDS-AihEc"
   },
   "source": [
    "Variable Importance using Extratrees Classifier\n",
    "\n",
    "1.   \n",
    "\n"
   ]
  },
  {
   "cell_type": "code",
   "execution_count": 0,
   "metadata": {
    "colab": {
     "base_uri": "https://localhost:8080/",
     "height": 50
    },
    "colab_type": "code",
    "executionInfo": {
     "elapsed": 1586,
     "status": "ok",
     "timestamp": 1582989721686,
     "user": {
      "displayName": "GOURAB HAZRA",
      "photoUrl": "https://lh3.googleusercontent.com/a-/AOh14GiV5LcY5TILfyTv14CM8FI6Ar76G1ZTqnHlDGG2=s64",
      "userId": "12230592498902526703"
     },
     "user_tz": -330
    },
    "id": "lL6JjoKLiiCx",
    "outputId": "988fd421-0615-4446-ec40-e8cb76802239"
   },
   "outputs": [
    {
     "name": "stdout",
     "output_type": "stream",
     "text": [
      "[0.0392466  0.04545486 0.04458897 0.03544346 0.06223042 0.41398011\n",
      " 0.30838737 0.0506682 ]\n"
     ]
    }
   ],
   "source": [
    "from sklearn.ensemble import ExtraTreesClassifier\n",
    "\n",
    "model = ExtraTreesClassifier()\n",
    "model.fit(features, labels)\n",
    "\n",
    "print(model.feature_importances_)"
   ]
  },
  {
   "cell_type": "code",
   "execution_count": 0,
   "metadata": {
    "colab": {},
    "colab_type": "code",
    "id": "1Rl70Wy7ilOy"
   },
   "outputs": [],
   "source": [
    "from pandas import DataFrame\n",
    "FI = DataFrame(model.feature_importances_, columns = [\"Extratrees\"], index=features.columns)"
   ]
  },
  {
   "cell_type": "code",
   "execution_count": 0,
   "metadata": {
    "colab": {},
    "colab_type": "code",
    "id": "UmISAMbWim6a"
   },
   "outputs": [],
   "source": [
    "FI = FI.reset_index()"
   ]
  },
  {
   "cell_type": "code",
   "execution_count": 0,
   "metadata": {
    "colab": {
     "base_uri": "https://localhost:8080/",
     "height": 284
    },
    "colab_type": "code",
    "executionInfo": {
     "elapsed": 727,
     "status": "ok",
     "timestamp": 1582989747642,
     "user": {
      "displayName": "GOURAB HAZRA",
      "photoUrl": "https://lh3.googleusercontent.com/a-/AOh14GiV5LcY5TILfyTv14CM8FI6Ar76G1ZTqnHlDGG2=s64",
      "userId": "12230592498902526703"
     },
     "user_tz": -330
    },
    "id": "Qc_dVwcYipDS",
    "outputId": "974b72cc-30d3-46ad-c571-c9b652035e34"
   },
   "outputs": [
    {
     "data": {
      "text/html": [
       "<div>\n",
       "<style scoped>\n",
       "    .dataframe tbody tr th:only-of-type {\n",
       "        vertical-align: middle;\n",
       "    }\n",
       "\n",
       "    .dataframe tbody tr th {\n",
       "        vertical-align: top;\n",
       "    }\n",
       "\n",
       "    .dataframe thead th {\n",
       "        text-align: right;\n",
       "    }\n",
       "</style>\n",
       "<table border=\"1\" class=\"dataframe\">\n",
       "  <thead>\n",
       "    <tr style=\"text-align: right;\">\n",
       "      <th></th>\n",
       "      <th>index</th>\n",
       "      <th>Extratrees</th>\n",
       "    </tr>\n",
       "  </thead>\n",
       "  <tbody>\n",
       "    <tr>\n",
       "      <th>5</th>\n",
       "      <td>score</td>\n",
       "      <td>0.413980</td>\n",
       "    </tr>\n",
       "    <tr>\n",
       "      <th>6</th>\n",
       "      <td>score_phrase</td>\n",
       "      <td>0.308387</td>\n",
       "    </tr>\n",
       "    <tr>\n",
       "      <th>4</th>\n",
       "      <td>release_year</td>\n",
       "      <td>0.062230</td>\n",
       "    </tr>\n",
       "    <tr>\n",
       "      <th>7</th>\n",
       "      <td>title</td>\n",
       "      <td>0.050668</td>\n",
       "    </tr>\n",
       "    <tr>\n",
       "      <th>1</th>\n",
       "      <td>platform</td>\n",
       "      <td>0.045455</td>\n",
       "    </tr>\n",
       "    <tr>\n",
       "      <th>2</th>\n",
       "      <td>release_day</td>\n",
       "      <td>0.044589</td>\n",
       "    </tr>\n",
       "    <tr>\n",
       "      <th>0</th>\n",
       "      <td>genre</td>\n",
       "      <td>0.039247</td>\n",
       "    </tr>\n",
       "    <tr>\n",
       "      <th>3</th>\n",
       "      <td>release_month</td>\n",
       "      <td>0.035443</td>\n",
       "    </tr>\n",
       "  </tbody>\n",
       "</table>\n",
       "</div>"
      ],
      "text/plain": [
       "           index  Extratrees\n",
       "5          score    0.413980\n",
       "6   score_phrase    0.308387\n",
       "4   release_year    0.062230\n",
       "7          title    0.050668\n",
       "1       platform    0.045455\n",
       "2    release_day    0.044589\n",
       "0          genre    0.039247\n",
       "3  release_month    0.035443"
      ]
     },
     "execution_count": 34,
     "metadata": {
      "tags": []
     },
     "output_type": "execute_result"
    }
   ],
   "source": [
    "FI.sort_values(['Extratrees'],ascending=0)"
   ]
  },
  {
   "cell_type": "markdown",
   "metadata": {
    "colab_type": "text",
    "id": "90giIIV7it4G"
   },
   "source": [
    "Chi Square"
   ]
  },
  {
   "cell_type": "code",
   "execution_count": 0,
   "metadata": {
    "colab": {},
    "colab_type": "code",
    "id": "qt8iWCWziu6V"
   },
   "outputs": [],
   "source": [
    "from sklearn.feature_selection import SelectKBest\n",
    "from sklearn.feature_selection import chi2\n",
    "\n",
    "model = SelectKBest(score_func=chi2, k=5)\n",
    "fit = model.fit(features.abs(), labels)"
   ]
  },
  {
   "cell_type": "code",
   "execution_count": 0,
   "metadata": {
    "colab": {},
    "colab_type": "code",
    "id": "w3zaNC1piy8_"
   },
   "outputs": [],
   "source": [
    "from pandas import DataFrame\n",
    "pd.options.display.float_format = '{:.2f}'.format\n",
    "chi_sq = DataFrame(fit.scores_, columns = [\"Chi_Square\"], index=features.columns)"
   ]
  },
  {
   "cell_type": "code",
   "execution_count": 0,
   "metadata": {
    "colab": {},
    "colab_type": "code",
    "id": "87xXdpzvi0hC"
   },
   "outputs": [],
   "source": [
    "chi_sq = chi_sq.reset_index()"
   ]
  },
  {
   "cell_type": "code",
   "execution_count": 0,
   "metadata": {
    "colab": {
     "base_uri": "https://localhost:8080/",
     "height": 284
    },
    "colab_type": "code",
    "executionInfo": {
     "elapsed": 1184,
     "status": "ok",
     "timestamp": 1582989811306,
     "user": {
      "displayName": "GOURAB HAZRA",
      "photoUrl": "https://lh3.googleusercontent.com/a-/AOh14GiV5LcY5TILfyTv14CM8FI6Ar76G1ZTqnHlDGG2=s64",
      "userId": "12230592498902526703"
     },
     "user_tz": -330
    },
    "id": "EdSTsNlyi4Oj",
    "outputId": "27c6e40d-8c6d-4450-c454-4744a4f2f04c"
   },
   "outputs": [
    {
     "data": {
      "text/html": [
       "<div>\n",
       "<style scoped>\n",
       "    .dataframe tbody tr th:only-of-type {\n",
       "        vertical-align: middle;\n",
       "    }\n",
       "\n",
       "    .dataframe tbody tr th {\n",
       "        vertical-align: top;\n",
       "    }\n",
       "\n",
       "    .dataframe thead th {\n",
       "        text-align: right;\n",
       "    }\n",
       "</style>\n",
       "<table border=\"1\" class=\"dataframe\">\n",
       "  <thead>\n",
       "    <tr style=\"text-align: right;\">\n",
       "      <th></th>\n",
       "      <th>index</th>\n",
       "      <th>Chi_Square</th>\n",
       "    </tr>\n",
       "  </thead>\n",
       "  <tbody>\n",
       "    <tr>\n",
       "      <th>7</th>\n",
       "      <td>title</td>\n",
       "      <td>15180.18</td>\n",
       "    </tr>\n",
       "    <tr>\n",
       "      <th>6</th>\n",
       "      <td>score_phrase</td>\n",
       "      <td>3977.54</td>\n",
       "    </tr>\n",
       "    <tr>\n",
       "      <th>5</th>\n",
       "      <td>score</td>\n",
       "      <td>2289.62</td>\n",
       "    </tr>\n",
       "    <tr>\n",
       "      <th>0</th>\n",
       "      <td>genre</td>\n",
       "      <td>2039.58</td>\n",
       "    </tr>\n",
       "    <tr>\n",
       "      <th>1</th>\n",
       "      <td>platform</td>\n",
       "      <td>256.37</td>\n",
       "    </tr>\n",
       "    <tr>\n",
       "      <th>2</th>\n",
       "      <td>release_day</td>\n",
       "      <td>6.42</td>\n",
       "    </tr>\n",
       "    <tr>\n",
       "      <th>3</th>\n",
       "      <td>release_month</td>\n",
       "      <td>1.53</td>\n",
       "    </tr>\n",
       "    <tr>\n",
       "      <th>4</th>\n",
       "      <td>release_year</td>\n",
       "      <td>0.07</td>\n",
       "    </tr>\n",
       "  </tbody>\n",
       "</table>\n",
       "</div>"
      ],
      "text/plain": [
       "           index  Chi_Square\n",
       "7          title    15180.18\n",
       "6   score_phrase     3977.54\n",
       "5          score     2289.62\n",
       "0          genre     2039.58\n",
       "1       platform      256.37\n",
       "2    release_day        6.42\n",
       "3  release_month        1.53\n",
       "4   release_year        0.07"
      ]
     },
     "execution_count": 38,
     "metadata": {
      "tags": []
     },
     "output_type": "execute_result"
    }
   ],
   "source": [
    "chi_sq.sort_values('Chi_Square',ascending=0)"
   ]
  },
  {
   "cell_type": "markdown",
   "metadata": {
    "colab_type": "text",
    "id": "dlwVzqGYi9De"
   },
   "source": [
    "L1 feature selection\n",
    "\n",
    "\n"
   ]
  },
  {
   "cell_type": "code",
   "execution_count": 0,
   "metadata": {
    "colab": {
     "base_uri": "https://localhost:8080/",
     "height": 70
    },
    "colab_type": "code",
    "executionInfo": {
     "elapsed": 2352,
     "status": "ok",
     "timestamp": 1582989836909,
     "user": {
      "displayName": "GOURAB HAZRA",
      "photoUrl": "https://lh3.googleusercontent.com/a-/AOh14GiV5LcY5TILfyTv14CM8FI6Ar76G1ZTqnHlDGG2=s64",
      "userId": "12230592498902526703"
     },
     "user_tz": -330
    },
    "id": "prKT0AdAi8t3",
    "outputId": "37292ef1-09a8-40e8-dc1b-0ff7b94569a7"
   },
   "outputs": [
    {
     "name": "stderr",
     "output_type": "stream",
     "text": [
      "/usr/local/lib/python3.6/dist-packages/sklearn/svm/_base.py:947: ConvergenceWarning: Liblinear failed to converge, increase the number of iterations.\n",
      "  \"the number of iterations.\", ConvergenceWarning)\n"
     ]
    }
   ],
   "source": [
    "from sklearn.svm import LinearSVC\n",
    "from sklearn.feature_selection import SelectFromModel\n",
    "lsvc = LinearSVC(C=0.01, penalty=\"l1\", dual=False).fit(features, labels)\n",
    "model = SelectFromModel(lsvc,prefit=True)"
   ]
  },
  {
   "cell_type": "code",
   "execution_count": 0,
   "metadata": {
    "colab": {},
    "colab_type": "code",
    "id": "oLQbJms1jBJZ"
   },
   "outputs": [],
   "source": [
    "from pandas import DataFrame\n",
    "l1 = DataFrame(model.get_support(), columns = [\"L1\"], index=features.columns)\n",
    "l1 = l1.reset_index()"
   ]
  },
  {
   "cell_type": "code",
   "execution_count": 0,
   "metadata": {
    "colab": {
     "base_uri": "https://localhost:8080/",
     "height": 254
    },
    "colab_type": "code",
    "executionInfo": {
     "elapsed": 759,
     "status": "ok",
     "timestamp": 1582989852962,
     "user": {
      "displayName": "GOURAB HAZRA",
      "photoUrl": "https://lh3.googleusercontent.com/a-/AOh14GiV5LcY5TILfyTv14CM8FI6Ar76G1ZTqnHlDGG2=s64",
      "userId": "12230592498902526703"
     },
     "user_tz": -330
    },
    "id": "lCJavZq5jDaL",
    "outputId": "0c71df27-977c-4fa1-d2fa-310bf4626c5d"
   },
   "outputs": [
    {
     "data": {
      "text/html": [
       "<div>\n",
       "<style scoped>\n",
       "    .dataframe tbody tr th:only-of-type {\n",
       "        vertical-align: middle;\n",
       "    }\n",
       "\n",
       "    .dataframe tbody tr th {\n",
       "        vertical-align: top;\n",
       "    }\n",
       "\n",
       "    .dataframe thead th {\n",
       "        text-align: right;\n",
       "    }\n",
       "</style>\n",
       "<table border=\"1\" class=\"dataframe\">\n",
       "  <thead>\n",
       "    <tr style=\"text-align: right;\">\n",
       "      <th></th>\n",
       "      <th>index</th>\n",
       "      <th>L1</th>\n",
       "    </tr>\n",
       "  </thead>\n",
       "  <tbody>\n",
       "    <tr>\n",
       "      <th>0</th>\n",
       "      <td>genre</td>\n",
       "      <td>True</td>\n",
       "    </tr>\n",
       "    <tr>\n",
       "      <th>1</th>\n",
       "      <td>platform</td>\n",
       "      <td>True</td>\n",
       "    </tr>\n",
       "    <tr>\n",
       "      <th>2</th>\n",
       "      <td>release_day</td>\n",
       "      <td>True</td>\n",
       "    </tr>\n",
       "    <tr>\n",
       "      <th>3</th>\n",
       "      <td>release_month</td>\n",
       "      <td>True</td>\n",
       "    </tr>\n",
       "    <tr>\n",
       "      <th>4</th>\n",
       "      <td>release_year</td>\n",
       "      <td>True</td>\n",
       "    </tr>\n",
       "    <tr>\n",
       "      <th>5</th>\n",
       "      <td>score</td>\n",
       "      <td>True</td>\n",
       "    </tr>\n",
       "    <tr>\n",
       "      <th>6</th>\n",
       "      <td>score_phrase</td>\n",
       "      <td>True</td>\n",
       "    </tr>\n",
       "  </tbody>\n",
       "</table>\n",
       "</div>"
      ],
      "text/plain": [
       "           index    L1\n",
       "0          genre  True\n",
       "1       platform  True\n",
       "2    release_day  True\n",
       "3  release_month  True\n",
       "4   release_year  True\n",
       "5          score  True\n",
       "6   score_phrase  True"
      ]
     },
     "execution_count": 41,
     "metadata": {
      "tags": []
     },
     "output_type": "execute_result"
    }
   ],
   "source": [
    "l1[l1['L1'] == True]"
   ]
  },
  {
   "cell_type": "markdown",
   "metadata": {
    "colab_type": "text",
    "id": "t4krYPJZjRm3"
   },
   "source": [
    "Combine all together"
   ]
  },
  {
   "cell_type": "code",
   "execution_count": 0,
   "metadata": {
    "colab": {},
    "colab_type": "code",
    "id": "kL48aVydjNXc"
   },
   "outputs": [],
   "source": [
    "from functools import reduce\n",
    "dfs = [IV, VI, Selected, FI, chi_sq, l1]\n",
    "final_results = reduce(lambda left,right: pd.merge(left,right,on='index'), dfs)"
   ]
  },
  {
   "cell_type": "code",
   "execution_count": 0,
   "metadata": {
    "colab": {},
    "colab_type": "code",
    "id": "q8qt8bC-jUvq"
   },
   "outputs": [],
   "source": [
    "columns = ['IV', 'RF', 'Extratrees', 'Chi_Square']\n",
    "\n",
    "score_table = pd.DataFrame({},[])\n",
    "score_table['index'] = final_results['index']\n",
    "\n",
    "for i in columns:\n",
    "    score_table[i] = final_results['index'].isin(list(final_results.nlargest(5,i)['index'])).astype(int)\n",
    "    \n",
    "score_table['RFE'] = final_results['RFE'].astype(int)\n",
    "score_table['L1'] = final_results['L1'].astype(int)"
   ]
  },
  {
   "cell_type": "code",
   "execution_count": 0,
   "metadata": {
    "colab": {},
    "colab_type": "code",
    "id": "X143c6V_jYO1"
   },
   "outputs": [],
   "source": [
    "score_table['final_score'] = score_table.sum(axis=1)"
   ]
  },
  {
   "cell_type": "code",
   "execution_count": 0,
   "metadata": {
    "colab": {
     "base_uri": "https://localhost:8080/",
     "height": 284
    },
    "colab_type": "code",
    "executionInfo": {
     "elapsed": 727,
     "status": "ok",
     "timestamp": 1582989944289,
     "user": {
      "displayName": "GOURAB HAZRA",
      "photoUrl": "https://lh3.googleusercontent.com/a-/AOh14GiV5LcY5TILfyTv14CM8FI6Ar76G1ZTqnHlDGG2=s64",
      "userId": "12230592498902526703"
     },
     "user_tz": -330
    },
    "id": "WHCzdmHUjZy0",
    "outputId": "5eec3737-b00a-4731-ddb3-566dd5c886a0"
   },
   "outputs": [
    {
     "data": {
      "text/html": [
       "<div>\n",
       "<style scoped>\n",
       "    .dataframe tbody tr th:only-of-type {\n",
       "        vertical-align: middle;\n",
       "    }\n",
       "\n",
       "    .dataframe tbody tr th {\n",
       "        vertical-align: top;\n",
       "    }\n",
       "\n",
       "    .dataframe thead th {\n",
       "        text-align: right;\n",
       "    }\n",
       "</style>\n",
       "<table border=\"1\" class=\"dataframe\">\n",
       "  <thead>\n",
       "    <tr style=\"text-align: right;\">\n",
       "      <th></th>\n",
       "      <th>index</th>\n",
       "      <th>IV</th>\n",
       "      <th>RF</th>\n",
       "      <th>Extratrees</th>\n",
       "      <th>Chi_Square</th>\n",
       "      <th>RFE</th>\n",
       "      <th>L1</th>\n",
       "      <th>final_score</th>\n",
       "    </tr>\n",
       "  </thead>\n",
       "  <tbody>\n",
       "    <tr>\n",
       "      <th>1</th>\n",
       "      <td>platform</td>\n",
       "      <td>1</td>\n",
       "      <td>1</td>\n",
       "      <td>1</td>\n",
       "      <td>1</td>\n",
       "      <td>1</td>\n",
       "      <td>1</td>\n",
       "      <td>6</td>\n",
       "    </tr>\n",
       "    <tr>\n",
       "      <th>5</th>\n",
       "      <td>score</td>\n",
       "      <td>1</td>\n",
       "      <td>1</td>\n",
       "      <td>1</td>\n",
       "      <td>1</td>\n",
       "      <td>1</td>\n",
       "      <td>1</td>\n",
       "      <td>6</td>\n",
       "    </tr>\n",
       "    <tr>\n",
       "      <th>6</th>\n",
       "      <td>score_phrase</td>\n",
       "      <td>1</td>\n",
       "      <td>1</td>\n",
       "      <td>1</td>\n",
       "      <td>1</td>\n",
       "      <td>1</td>\n",
       "      <td>1</td>\n",
       "      <td>6</td>\n",
       "    </tr>\n",
       "    <tr>\n",
       "      <th>7</th>\n",
       "      <td>title</td>\n",
       "      <td>1</td>\n",
       "      <td>1</td>\n",
       "      <td>1</td>\n",
       "      <td>1</td>\n",
       "      <td>1</td>\n",
       "      <td>0</td>\n",
       "      <td>5</td>\n",
       "    </tr>\n",
       "    <tr>\n",
       "      <th>0</th>\n",
       "      <td>genre</td>\n",
       "      <td>1</td>\n",
       "      <td>0</td>\n",
       "      <td>0</td>\n",
       "      <td>1</td>\n",
       "      <td>1</td>\n",
       "      <td>1</td>\n",
       "      <td>4</td>\n",
       "    </tr>\n",
       "    <tr>\n",
       "      <th>4</th>\n",
       "      <td>release_year</td>\n",
       "      <td>0</td>\n",
       "      <td>1</td>\n",
       "      <td>1</td>\n",
       "      <td>0</td>\n",
       "      <td>1</td>\n",
       "      <td>1</td>\n",
       "      <td>4</td>\n",
       "    </tr>\n",
       "    <tr>\n",
       "      <th>2</th>\n",
       "      <td>release_day</td>\n",
       "      <td>0</td>\n",
       "      <td>0</td>\n",
       "      <td>0</td>\n",
       "      <td>0</td>\n",
       "      <td>1</td>\n",
       "      <td>1</td>\n",
       "      <td>2</td>\n",
       "    </tr>\n",
       "    <tr>\n",
       "      <th>3</th>\n",
       "      <td>release_month</td>\n",
       "      <td>0</td>\n",
       "      <td>0</td>\n",
       "      <td>0</td>\n",
       "      <td>0</td>\n",
       "      <td>1</td>\n",
       "      <td>1</td>\n",
       "      <td>2</td>\n",
       "    </tr>\n",
       "  </tbody>\n",
       "</table>\n",
       "</div>"
      ],
      "text/plain": [
       "           index  IV  RF  Extratrees  Chi_Square  RFE  L1  final_score\n",
       "1       platform   1   1           1           1    1   1            6\n",
       "5          score   1   1           1           1    1   1            6\n",
       "6   score_phrase   1   1           1           1    1   1            6\n",
       "7          title   1   1           1           1    1   0            5\n",
       "0          genre   1   0           0           1    1   1            4\n",
       "4   release_year   0   1           1           0    1   1            4\n",
       "2    release_day   0   0           0           0    1   1            2\n",
       "3  release_month   0   0           0           0    1   1            2"
      ]
     },
     "execution_count": 45,
     "metadata": {
      "tags": []
     },
     "output_type": "execute_result"
    }
   ],
   "source": [
    "score_table.sort_values('final_score',ascending=0)"
   ]
  },
  {
   "cell_type": "markdown",
   "metadata": {
    "colab_type": "text",
    "id": "JgJB6SPVjdpe"
   },
   "source": [
    "Multicollinearity"
   ]
  },
  {
   "cell_type": "code",
   "execution_count": 0,
   "metadata": {
    "colab": {},
    "colab_type": "code",
    "id": "hR_D2mFCjcmY"
   },
   "outputs": [],
   "source": [
    "from statsmodels.stats.outliers_influence import variance_inflation_factor"
   ]
  },
  {
   "cell_type": "code",
   "execution_count": 0,
   "metadata": {
    "colab": {},
    "colab_type": "code",
    "id": "mPvazwgjjhV7"
   },
   "outputs": [],
   "source": [
    "def calculate_vif(features):\n",
    "    vif = pd.DataFrame()\n",
    "    vif[\"Features\"] = features.columns\n",
    "    vif[\"VIF\"] = [variance_inflation_factor(features.values, i) for i in range(features.shape[1])]    \n",
    "    return(vif)"
   ]
  },
  {
   "cell_type": "code",
   "execution_count": 0,
   "metadata": {
    "colab": {},
    "colab_type": "code",
    "id": "riL_T40Sjj_d"
   },
   "outputs": [],
   "source": [
    "features = features[list(score_table[score_table['final_score'] >= 2]['index'])]"
   ]
  },
  {
   "cell_type": "code",
   "execution_count": 0,
   "metadata": {
    "colab": {},
    "colab_type": "code",
    "id": "0jwERCg8jm5D"
   },
   "outputs": [],
   "source": [
    "vif = calculate_vif(features)\n",
    "while vif['VIF'][vif['VIF'] > 10].any():\n",
    "    remove = vif.sort_values('VIF',ascending=0)['Features'][:1]\n",
    "    features.drop(remove,axis=1,inplace=True)\n",
    "    vif = calculate_vif(features)"
   ]
  },
  {
   "cell_type": "code",
   "execution_count": 0,
   "metadata": {
    "colab": {
     "base_uri": "https://localhost:8080/",
     "height": 34
    },
    "colab_type": "code",
    "executionInfo": {
     "elapsed": 787,
     "status": "ok",
     "timestamp": 1582990006788,
     "user": {
      "displayName": "GOURAB HAZRA",
      "photoUrl": "https://lh3.googleusercontent.com/a-/AOh14GiV5LcY5TILfyTv14CM8FI6Ar76G1ZTqnHlDGG2=s64",
      "userId": "12230592498902526703"
     },
     "user_tz": -330
    },
    "id": "kdpxeq_Tjo-n",
    "outputId": "96cef012-11f5-4e8c-c18d-784ba052363c"
   },
   "outputs": [
    {
     "data": {
      "text/plain": [
       "['genre', 'platform', 'release_day', 'release_month', 'score_phrase', 'title']"
      ]
     },
     "execution_count": 50,
     "metadata": {
      "tags": []
     },
     "output_type": "execute_result"
    }
   ],
   "source": [
    "list(vif['Features'])"
   ]
  },
  {
   "cell_type": "markdown",
   "metadata": {
    "colab_type": "text",
    "id": "KeC6uCJgjsOv"
   },
   "source": [
    "Descriptive Stats and Visualization - For selected variables"
   ]
  },
  {
   "cell_type": "code",
   "execution_count": 0,
   "metadata": {
    "colab": {},
    "colab_type": "code",
    "id": "YDavmYRGjs8d"
   },
   "outputs": [],
   "source": [
    "final_vars = list(vif['Features']) + ['editors_choice']"
   ]
  },
  {
   "cell_type": "code",
   "execution_count": 0,
   "metadata": {
    "colab": {},
    "colab_type": "code",
    "id": "ooFhzxGjjzeT"
   },
   "outputs": [],
   "source": [
    "df1 = df[final_vars].fillna(0)"
   ]
  },
  {
   "cell_type": "code",
   "execution_count": 0,
   "metadata": {
    "colab": {
     "base_uri": "https://localhost:8080/",
     "height": 284
    },
    "colab_type": "code",
    "executionInfo": {
     "elapsed": 12532,
     "status": "ok",
     "timestamp": 1582990118359,
     "user": {
      "displayName": "GOURAB HAZRA",
      "photoUrl": "https://lh3.googleusercontent.com/a-/AOh14GiV5LcY5TILfyTv14CM8FI6Ar76G1ZTqnHlDGG2=s64",
      "userId": "12230592498902526703"
     },
     "user_tz": -330
    },
    "id": "RVsvCc0Pj31Z",
    "outputId": "0be91b83-6460-4e33-cbe6-21fd2ec865c7"
   },
   "outputs": [
    {
     "data": {
      "text/html": [
       "<div>\n",
       "<style scoped>\n",
       "    .dataframe tbody tr th:only-of-type {\n",
       "        vertical-align: middle;\n",
       "    }\n",
       "\n",
       "    .dataframe tbody tr th {\n",
       "        vertical-align: top;\n",
       "    }\n",
       "\n",
       "    .dataframe thead th {\n",
       "        text-align: right;\n",
       "    }\n",
       "</style>\n",
       "<table border=\"1\" class=\"dataframe\">\n",
       "  <thead>\n",
       "    <tr style=\"text-align: right;\">\n",
       "      <th></th>\n",
       "      <th>genre</th>\n",
       "      <th>platform</th>\n",
       "      <th>release_day</th>\n",
       "      <th>release_month</th>\n",
       "      <th>score_phrase</th>\n",
       "      <th>title</th>\n",
       "      <th>editors_choice</th>\n",
       "    </tr>\n",
       "  </thead>\n",
       "  <tbody>\n",
       "    <tr>\n",
       "      <th>count</th>\n",
       "      <td>18577.00</td>\n",
       "      <td>18577.00</td>\n",
       "      <td>18577.00</td>\n",
       "      <td>18577.00</td>\n",
       "      <td>18577.00</td>\n",
       "      <td>18577.00</td>\n",
       "      <td>18577.00</td>\n",
       "    </tr>\n",
       "    <tr>\n",
       "      <th>mean</th>\n",
       "      <td>52.46</td>\n",
       "      <td>34.61</td>\n",
       "      <td>15.60</td>\n",
       "      <td>7.14</td>\n",
       "      <td>4.69</td>\n",
       "      <td>6364.62</td>\n",
       "      <td>0.19</td>\n",
       "    </tr>\n",
       "    <tr>\n",
       "      <th>std</th>\n",
       "      <td>39.41</td>\n",
       "      <td>13.75</td>\n",
       "      <td>8.69</td>\n",
       "      <td>3.48</td>\n",
       "      <td>2.45</td>\n",
       "      <td>3622.78</td>\n",
       "      <td>0.39</td>\n",
       "    </tr>\n",
       "    <tr>\n",
       "      <th>min</th>\n",
       "      <td>0.00</td>\n",
       "      <td>0.00</td>\n",
       "      <td>1.00</td>\n",
       "      <td>1.00</td>\n",
       "      <td>0.00</td>\n",
       "      <td>0.00</td>\n",
       "      <td>0.00</td>\n",
       "    </tr>\n",
       "    <tr>\n",
       "      <th>25%</th>\n",
       "      <td>4.00</td>\n",
       "      <td>29.00</td>\n",
       "      <td>8.00</td>\n",
       "      <td>4.00</td>\n",
       "      <td>4.00</td>\n",
       "      <td>3237.00</td>\n",
       "      <td>0.00</td>\n",
       "    </tr>\n",
       "    <tr>\n",
       "      <th>50%</th>\n",
       "      <td>68.00</td>\n",
       "      <td>31.00</td>\n",
       "      <td>15.00</td>\n",
       "      <td>8.00</td>\n",
       "      <td>5.00</td>\n",
       "      <td>6356.00</td>\n",
       "      <td>0.00</td>\n",
       "    </tr>\n",
       "    <tr>\n",
       "      <th>75%</th>\n",
       "      <td>86.00</td>\n",
       "      <td>47.00</td>\n",
       "      <td>23.00</td>\n",
       "      <td>10.00</td>\n",
       "      <td>7.00</td>\n",
       "      <td>9564.00</td>\n",
       "      <td>0.00</td>\n",
       "    </tr>\n",
       "    <tr>\n",
       "      <th>max</th>\n",
       "      <td>112.00</td>\n",
       "      <td>58.00</td>\n",
       "      <td>31.00</td>\n",
       "      <td>12.00</td>\n",
       "      <td>10.00</td>\n",
       "      <td>12588.00</td>\n",
       "      <td>1.00</td>\n",
       "    </tr>\n",
       "  </tbody>\n",
       "</table>\n",
       "</div>"
      ],
      "text/plain": [
       "         genre  platform  release_day  ...  score_phrase    title  editors_choice\n",
       "count 18577.00  18577.00     18577.00  ...      18577.00 18577.00        18577.00\n",
       "mean     52.46     34.61        15.60  ...          4.69  6364.62            0.19\n",
       "std      39.41     13.75         8.69  ...          2.45  3622.78            0.39\n",
       "min       0.00      0.00         1.00  ...          0.00     0.00            0.00\n",
       "25%       4.00     29.00         8.00  ...          4.00  3237.00            0.00\n",
       "50%      68.00     31.00        15.00  ...          5.00  6356.00            0.00\n",
       "75%      86.00     47.00        23.00  ...          7.00  9564.00            0.00\n",
       "max     112.00     58.00        31.00  ...         10.00 12588.00            1.00\n",
       "\n",
       "[8 rows x 7 columns]"
      ]
     },
     "execution_count": 55,
     "metadata": {
      "tags": []
     },
     "output_type": "execute_result"
    }
   ],
   "source": [
    "df1.describe()"
   ]
  },
  {
   "cell_type": "code",
   "execution_count": 0,
   "metadata": {
    "colab": {
     "base_uri": "https://localhost:8080/",
     "height": 1000
    },
    "colab_type": "code",
    "executionInfo": {
     "elapsed": 2878,
     "status": "ok",
     "timestamp": 1582990151842,
     "user": {
      "displayName": "GOURAB HAZRA",
      "photoUrl": "https://lh3.googleusercontent.com/a-/AOh14GiV5LcY5TILfyTv14CM8FI6Ar76G1ZTqnHlDGG2=s64",
      "userId": "12230592498902526703"
     },
     "user_tz": -330
    },
    "id": "zWReABtVkGRt",
    "outputId": "a8d2f552-66ea-4d6e-fca1-181373acf79a"
   },
   "outputs": [
    {
     "data": {
      "image/png": "[encoded data removed]",
      "text/plain": [
       "<Figure size 432x288 with 1 Axes>"
      ]
     },
     "metadata": {
      "tags": []
     },
     "output_type": "display_data"
    },
    {
     "data": {
      "image/png": "[encoded data removed]",
      "text/plain": [
       "<Figure size 432x288 with 1 Axes>"
      ]
     },
     "metadata": {
      "tags": []
     },
     "output_type": "display_data"
    },
    {
     "data": {
      "image/png": "[encoded data removed]",
      "text/plain": [
       "<Figure size 432x288 with 1 Axes>"
      ]
     },
     "metadata": {
      "tags": []
     },
     "output_type": "display_data"
    },
    {
     "data": {
      "image/png": "[encoded data removed]",
      "text/plain": [
       "<Figure size 432x288 with 1 Axes>"
      ]
     },
     "metadata": {
      "tags": []
     },
     "output_type": "display_data"
    },
    {
     "data": {
      "image/png": "[encoded data removed]",
      "text/plain": [
       "<Figure size 432x288 with 1 Axes>"
      ]
     },
     "metadata": {
      "tags": []
     },
     "output_type": "display_data"
    },
    {
     "data": {
      "image/png": "[encoded data removed]",
      "text/plain": [
       "<Figure size 432x288 with 1 Axes>"
      ]
     },
     "metadata": {
      "tags": []
     },
     "output_type": "display_data"
    }
   ],
   "source": [
    "bar_color = '#058caa'\n",
    "num_color = '#ed8549'\n",
    "\n",
    "final_iv,_ = data_vars(df1,df1['editors_choice'])\n",
    "final_iv = final_iv[(final_iv.VAR_NAME != 'editors_choice')]\n",
    "grouped = final_iv.groupby(['VAR_NAME'])\n",
    "for key, group in grouped:\n",
    "    ax = group.plot('MIN_VALUE','EVENT_RATE',kind='bar',color=bar_color,linewidth=1.0,edgecolor=['black'])\n",
    "    ax.set_title(str(key) + \" vs \" + str('target'))\n",
    "    ax.set_xlabel(key)\n",
    "    ax.set_ylabel(str('target') + \" %\")\n",
    "    rects = ax.patches\n",
    "    for rect in rects:\n",
    "        height = rect.get_height()\n",
    "        ax.text(rect.get_x()+rect.get_width()/2., 1.01*height, str(round(height*100,1)) + '%', \n",
    "                ha='center', va='bottom', color=num_color, fontweight='bold')"
   ]
  },
  {
   "cell_type": "markdown",
   "metadata": {
    "colab_type": "text",
    "id": "57qqG9svkUlo"
   },
   "source": [
    "Model"
   ]
  },
  {
   "cell_type": "code",
   "execution_count": 0,
   "metadata": {
    "colab": {},
    "colab_type": "code",
    "id": "R5YgmuIPkQyj"
   },
   "outputs": [],
   "source": [
    "from sklearn.model_selection import train_test_split\n",
    "\n",
    "train, test = train_test_split(df1, test_size = 0.4)\n",
    "train = train.reset_index(drop=True)\n",
    "test = test.reset_index(drop=True)\n",
    "\n",
    "features_train = train[list(vif['Features'])]\n",
    "label_train = train['editors_choice']\n",
    "features_test = test[list(vif['Features'])]\n",
    "label_test = test['editors_choice']"
   ]
  },
  {
   "cell_type": "markdown",
   "metadata": {
    "colab_type": "text",
    "id": "uvVgO_XzktAx"
   },
   "source": [
    "Random Forest"
   ]
  },
  {
   "cell_type": "code",
   "execution_count": 0,
   "metadata": {
    "colab": {
     "base_uri": "https://localhost:8080/",
     "height": 34
    },
    "colab_type": "code",
    "executionInfo": {
     "elapsed": 2020,
     "status": "ok",
     "timestamp": 1582990293102,
     "user": {
      "displayName": "GOURAB HAZRA",
      "photoUrl": "https://lh3.googleusercontent.com/a-/AOh14GiV5LcY5TILfyTv14CM8FI6Ar76G1ZTqnHlDGG2=s64",
      "userId": "12230592498902526703"
     },
     "user_tz": -330
    },
    "id": "CXwGn3kzkugV",
    "outputId": "212bc968-5ed2-40e6-ed3d-225ee5166fbe"
   },
   "outputs": [
    {
     "name": "stdout",
     "output_type": "stream",
     "text": [
      "1.0 0.9037814560624411 1.0 0.9592012623074747\n"
     ]
    }
   ],
   "source": [
    "from sklearn.ensemble import RandomForestClassifier\n",
    "clf = RandomForestClassifier()\n",
    "\n",
    "clf.fit(features_train,label_train)\n",
    "\n",
    "pred_train = clf.predict(features_train)\n",
    "pred_test = clf.predict(features_test)\n",
    "\n",
    "from sklearn.metrics import accuracy_score\n",
    "accuracy_train = accuracy_score(pred_train,label_train)\n",
    "accuracy_test = accuracy_score(pred_test,label_test)\n",
    "\n",
    "from sklearn import metrics\n",
    "fpr, tpr, _ = metrics.roc_curve(np.array(label_train), clf.predict_proba(features_train)[:,1])\n",
    "auc_train = metrics.auc(fpr,tpr)\n",
    "\n",
    "fpr, tpr, _ = metrics.roc_curve(np.array(label_test), clf.predict_proba(features_test)[:,1])\n",
    "auc_test = metrics.auc(fpr,tpr)\n",
    "\n",
    "print(accuracy_train,accuracy_test,auc_train,auc_test)"
   ]
  },
  {
   "cell_type": "code",
   "execution_count": 0,
   "metadata": {
    "colab": {
     "base_uri": "https://localhost:8080/",
     "height": 136
    },
    "colab_type": "code",
    "executionInfo": {
     "elapsed": 709,
     "status": "ok",
     "timestamp": 1582990326420,
     "user": {
      "displayName": "GOURAB HAZRA",
      "photoUrl": "https://lh3.googleusercontent.com/a-/AOh14GiV5LcY5TILfyTv14CM8FI6Ar76G1ZTqnHlDGG2=s64",
      "userId": "12230592498902526703"
     },
     "user_tz": -330
    },
    "id": "hGH7pgl4kzL6",
    "outputId": "7f208cde-1ec2-4c9f-f993-f901f9c609e4"
   },
   "outputs": [
    {
     "data": {
      "text/html": [
       "<div>\n",
       "<style scoped>\n",
       "    .dataframe tbody tr th:only-of-type {\n",
       "        vertical-align: middle;\n",
       "    }\n",
       "\n",
       "    .dataframe tbody tr th {\n",
       "        vertical-align: top;\n",
       "    }\n",
       "\n",
       "    .dataframe thead th {\n",
       "        text-align: right;\n",
       "    }\n",
       "</style>\n",
       "<table border=\"1\" class=\"dataframe\">\n",
       "  <thead>\n",
       "    <tr style=\"text-align: right;\">\n",
       "      <th>PRED</th>\n",
       "      <th>0</th>\n",
       "      <th>1</th>\n",
       "    </tr>\n",
       "    <tr>\n",
       "      <th>ACTUAL</th>\n",
       "      <th></th>\n",
       "      <th></th>\n",
       "    </tr>\n",
       "  </thead>\n",
       "  <tbody>\n",
       "    <tr>\n",
       "      <th>0</th>\n",
       "      <td>9080</td>\n",
       "      <td>0</td>\n",
       "    </tr>\n",
       "    <tr>\n",
       "      <th>1</th>\n",
       "      <td>0</td>\n",
       "      <td>2066</td>\n",
       "    </tr>\n",
       "  </tbody>\n",
       "</table>\n",
       "</div>"
      ],
      "text/plain": [
       "PRED       0     1\n",
       "ACTUAL            \n",
       "0       9080     0\n",
       "1          0  2066"
      ]
     },
     "execution_count": 63,
     "metadata": {
      "tags": []
     },
     "output_type": "execute_result"
    }
   ],
   "source": [
    "pd.crosstab(label_train,pd.Series(pred_train),rownames=['ACTUAL'],colnames=['PRED'])"
   ]
  },
  {
   "cell_type": "code",
   "execution_count": 0,
   "metadata": {
    "colab": {
     "base_uri": "https://localhost:8080/",
     "height": 136
    },
    "colab_type": "code",
    "executionInfo": {
     "elapsed": 590,
     "status": "ok",
     "timestamp": 1582990326852,
     "user": {
      "displayName": "GOURAB HAZRA",
      "photoUrl": "https://lh3.googleusercontent.com/a-/AOh14GiV5LcY5TILfyTv14CM8FI6Ar76G1ZTqnHlDGG2=s64",
      "userId": "12230592498902526703"
     },
     "user_tz": -330
    },
    "id": "VK6yK52Ik1gt",
    "outputId": "d3133937-3a50-4021-c263-04bb8317a725"
   },
   "outputs": [
    {
     "data": {
      "text/html": [
       "<div>\n",
       "<style scoped>\n",
       "    .dataframe tbody tr th:only-of-type {\n",
       "        vertical-align: middle;\n",
       "    }\n",
       "\n",
       "    .dataframe tbody tr th {\n",
       "        vertical-align: top;\n",
       "    }\n",
       "\n",
       "    .dataframe thead th {\n",
       "        text-align: right;\n",
       "    }\n",
       "</style>\n",
       "<table border=\"1\" class=\"dataframe\">\n",
       "  <thead>\n",
       "    <tr style=\"text-align: right;\">\n",
       "      <th>PRED</th>\n",
       "      <th>0</th>\n",
       "      <th>1</th>\n",
       "    </tr>\n",
       "    <tr>\n",
       "      <th>ACTUAL</th>\n",
       "      <th></th>\n",
       "      <th></th>\n",
       "    </tr>\n",
       "  </thead>\n",
       "  <tbody>\n",
       "    <tr>\n",
       "      <th>0</th>\n",
       "      <td>5799</td>\n",
       "      <td>189</td>\n",
       "    </tr>\n",
       "    <tr>\n",
       "      <th>1</th>\n",
       "      <td>526</td>\n",
       "      <td>917</td>\n",
       "    </tr>\n",
       "  </tbody>\n",
       "</table>\n",
       "</div>"
      ],
      "text/plain": [
       "PRED       0    1\n",
       "ACTUAL           \n",
       "0       5799  189\n",
       "1        526  917"
      ]
     },
     "execution_count": 64,
     "metadata": {
      "tags": []
     },
     "output_type": "execute_result"
    }
   ],
   "source": [
    "pd.crosstab(label_test,pd.Series(pred_test),rownames=['ACTUAL'],colnames=['PRED'])"
   ]
  },
  {
   "cell_type": "markdown",
   "metadata": {
    "colab_type": "text",
    "id": "27xDxp3Pk7ht"
   },
   "source": [
    "\n",
    "Logistic Regression"
   ]
  },
  {
   "cell_type": "code",
   "execution_count": 0,
   "metadata": {
    "colab": {
     "base_uri": "https://localhost:8080/",
     "height": 34
    },
    "colab_type": "code",
    "executionInfo": {
     "elapsed": 749,
     "status": "ok",
     "timestamp": 1582990357056,
     "user": {
      "displayName": "GOURAB HAZRA",
      "photoUrl": "https://lh3.googleusercontent.com/a-/AOh14GiV5LcY5TILfyTv14CM8FI6Ar76G1ZTqnHlDGG2=s64",
      "userId": "12230592498902526703"
     },
     "user_tz": -330
    },
    "id": "aKNdIsrEk6s6",
    "outputId": "ab1cac15-1cb5-4906-a0c7-d1d838e022f0"
   },
   "outputs": [
    {
     "name": "stdout",
     "output_type": "stream",
     "text": [
      "0.8849811591602369 0.8763288924774593 0.7348190335663203 0.7304676342752495\n"
     ]
    }
   ],
   "source": [
    "clf = LogisticRegression()\n",
    "\n",
    "clf.fit(features_train,label_train)\n",
    "\n",
    "pred_train = clf.predict(features_train)\n",
    "pred_test = clf.predict(features_test)\n",
    "\n",
    "from sklearn.metrics import accuracy_score\n",
    "accuracy_train = accuracy_score(pred_train,label_train)\n",
    "accuracy_test = accuracy_score(pred_test,label_test)\n",
    "\n",
    "from sklearn import metrics\n",
    "fpr, tpr, _ = metrics.roc_curve(np.array(label_train), clf.predict_proba(features_train)[:,1])\n",
    "auc_train = metrics.auc(fpr,tpr)\n",
    "\n",
    "fpr, tpr, _ = metrics.roc_curve(np.array(label_test), clf.predict_proba(features_test)[:,1])\n",
    "auc_test = metrics.auc(fpr,tpr)\n",
    "\n",
    "print(accuracy_train,accuracy_test,auc_train,auc_test)"
   ]
  },
  {
   "cell_type": "code",
   "execution_count": 0,
   "metadata": {
    "colab": {
     "base_uri": "https://localhost:8080/",
     "height": 136
    },
    "colab_type": "code",
    "executionInfo": {
     "elapsed": 791,
     "status": "ok",
     "timestamp": 1582990371040,
     "user": {
      "displayName": "GOURAB HAZRA",
      "photoUrl": "https://lh3.googleusercontent.com/a-/AOh14GiV5LcY5TILfyTv14CM8FI6Ar76G1ZTqnHlDGG2=s64",
      "userId": "12230592498902526703"
     },
     "user_tz": -330
    },
    "id": "drnWFOHglB2w",
    "outputId": "dfbb3311-8df6-4860-d995-a589a60f7ae6"
   },
   "outputs": [
    {
     "data": {
      "text/html": [
       "<div>\n",
       "<style scoped>\n",
       "    .dataframe tbody tr th:only-of-type {\n",
       "        vertical-align: middle;\n",
       "    }\n",
       "\n",
       "    .dataframe tbody tr th {\n",
       "        vertical-align: top;\n",
       "    }\n",
       "\n",
       "    .dataframe thead th {\n",
       "        text-align: right;\n",
       "    }\n",
       "</style>\n",
       "<table border=\"1\" class=\"dataframe\">\n",
       "  <thead>\n",
       "    <tr style=\"text-align: right;\">\n",
       "      <th>PRED</th>\n",
       "      <th>0</th>\n",
       "      <th>1</th>\n",
       "    </tr>\n",
       "    <tr>\n",
       "      <th>ACTUAL</th>\n",
       "      <th></th>\n",
       "      <th></th>\n",
       "    </tr>\n",
       "  </thead>\n",
       "  <tbody>\n",
       "    <tr>\n",
       "      <th>0</th>\n",
       "      <td>8887</td>\n",
       "      <td>193</td>\n",
       "    </tr>\n",
       "    <tr>\n",
       "      <th>1</th>\n",
       "      <td>1089</td>\n",
       "      <td>977</td>\n",
       "    </tr>\n",
       "  </tbody>\n",
       "</table>\n",
       "</div>"
      ],
      "text/plain": [
       "PRED       0    1\n",
       "ACTUAL           \n",
       "0       8887  193\n",
       "1       1089  977"
      ]
     },
     "execution_count": 66,
     "metadata": {
      "tags": []
     },
     "output_type": "execute_result"
    }
   ],
   "source": [
    "pd.crosstab(label_train,pd.Series(pred_train),rownames=['ACTUAL'],colnames=['PRED'])"
   ]
  },
  {
   "cell_type": "code",
   "execution_count": 0,
   "metadata": {
    "colab": {
     "base_uri": "https://localhost:8080/",
     "height": 136
    },
    "colab_type": "code",
    "executionInfo": {
     "elapsed": 761,
     "status": "ok",
     "timestamp": 1582990380087,
     "user": {
      "displayName": "GOURAB HAZRA",
      "photoUrl": "https://lh3.googleusercontent.com/a-/AOh14GiV5LcY5TILfyTv14CM8FI6Ar76G1ZTqnHlDGG2=s64",
      "userId": "12230592498902526703"
     },
     "user_tz": -330
    },
    "id": "M-Ie3t2elEJj",
    "outputId": "40c8e3ce-b34b-4368-892c-5a01bb769e80"
   },
   "outputs": [
    {
     "data": {
      "text/html": [
       "<div>\n",
       "<style scoped>\n",
       "    .dataframe tbody tr th:only-of-type {\n",
       "        vertical-align: middle;\n",
       "    }\n",
       "\n",
       "    .dataframe tbody tr th {\n",
       "        vertical-align: top;\n",
       "    }\n",
       "\n",
       "    .dataframe thead th {\n",
       "        text-align: right;\n",
       "    }\n",
       "</style>\n",
       "<table border=\"1\" class=\"dataframe\">\n",
       "  <thead>\n",
       "    <tr style=\"text-align: right;\">\n",
       "      <th>PRED</th>\n",
       "      <th>0</th>\n",
       "      <th>1</th>\n",
       "    </tr>\n",
       "    <tr>\n",
       "      <th>ACTUAL</th>\n",
       "      <th></th>\n",
       "      <th></th>\n",
       "    </tr>\n",
       "  </thead>\n",
       "  <tbody>\n",
       "    <tr>\n",
       "      <th>0</th>\n",
       "      <td>5838</td>\n",
       "      <td>150</td>\n",
       "    </tr>\n",
       "    <tr>\n",
       "      <th>1</th>\n",
       "      <td>769</td>\n",
       "      <td>674</td>\n",
       "    </tr>\n",
       "  </tbody>\n",
       "</table>\n",
       "</div>"
      ],
      "text/plain": [
       "PRED       0    1\n",
       "ACTUAL           \n",
       "0       5838  150\n",
       "1        769  674"
      ]
     },
     "execution_count": 67,
     "metadata": {
      "tags": []
     },
     "output_type": "execute_result"
    }
   ],
   "source": [
    "\n",
    "pd.crosstab(label_test,pd.Series(pred_test),rownames=['ACTUAL'],colnames=['PRED'])"
   ]
  },
  {
   "cell_type": "markdown",
   "metadata": {
    "colab_type": "text",
    "id": "sKe69pUmlG2J"
   },
   "source": [
    "Neural Network"
   ]
  },
  {
   "cell_type": "code",
   "execution_count": 0,
   "metadata": {
    "colab": {
     "base_uri": "https://localhost:8080/",
     "height": 34
    },
    "colab_type": "code",
    "executionInfo": {
     "elapsed": 2806,
     "status": "ok",
     "timestamp": 1582990404009,
     "user": {
      "displayName": "GOURAB HAZRA",
      "photoUrl": "https://lh3.googleusercontent.com/a-/AOh14GiV5LcY5TILfyTv14CM8FI6Ar76G1ZTqnHlDGG2=s64",
      "userId": "12230592498902526703"
     },
     "user_tz": -330
    },
    "id": "pYM56WEplGXb",
    "outputId": "aa05f528-4cef-4180-d9cc-6bff34c15d78"
   },
   "outputs": [
    {
     "name": "stdout",
     "output_type": "stream",
     "text": [
      "0.863179616005742 0.851971470865294 0.7536564303107582 0.7451148543332913\n"
     ]
    }
   ],
   "source": [
    "from sklearn.neural_network import MLPClassifier\n",
    "clf = MLPClassifier()\n",
    "\n",
    "clf.fit(features_train,label_train)\n",
    "\n",
    "pred_train = clf.predict(features_train)\n",
    "pred_test = clf.predict(features_test)\n",
    "\n",
    "from sklearn.metrics import accuracy_score\n",
    "accuracy_train = accuracy_score(pred_train,label_train)\n",
    "accuracy_test = accuracy_score(pred_test,label_test)\n",
    "\n",
    "from sklearn import metrics\n",
    "fpr, tpr, _ = metrics.roc_curve(np.array(label_train), clf.predict_proba(features_train)[:,1])\n",
    "auc_train = metrics.auc(fpr,tpr)\n",
    "\n",
    "fpr, tpr, _ = metrics.roc_curve(np.array(label_test), clf.predict_proba(features_test)[:,1])\n",
    "auc_test = metrics.auc(fpr,tpr)\n",
    "\n",
    "print(accuracy_train,accuracy_test,auc_train,auc_test)"
   ]
  },
  {
   "cell_type": "code",
   "execution_count": 0,
   "metadata": {
    "colab": {
     "base_uri": "https://localhost:8080/",
     "height": 136
    },
    "colab_type": "code",
    "executionInfo": {
     "elapsed": 736,
     "status": "ok",
     "timestamp": 1582990410101,
     "user": {
      "displayName": "GOURAB HAZRA",
      "photoUrl": "https://lh3.googleusercontent.com/a-/AOh14GiV5LcY5TILfyTv14CM8FI6Ar76G1ZTqnHlDGG2=s64",
      "userId": "12230592498902526703"
     },
     "user_tz": -330
    },
    "id": "qXZVl6A4lLYX",
    "outputId": "9ce6a893-7b01-44c7-cd8d-1a5fbb9d2fcc"
   },
   "outputs": [
    {
     "data": {
      "text/html": [
       "<div>\n",
       "<style scoped>\n",
       "    .dataframe tbody tr th:only-of-type {\n",
       "        vertical-align: middle;\n",
       "    }\n",
       "\n",
       "    .dataframe tbody tr th {\n",
       "        vertical-align: top;\n",
       "    }\n",
       "\n",
       "    .dataframe thead th {\n",
       "        text-align: right;\n",
       "    }\n",
       "</style>\n",
       "<table border=\"1\" class=\"dataframe\">\n",
       "  <thead>\n",
       "    <tr style=\"text-align: right;\">\n",
       "      <th>PRED</th>\n",
       "      <th>0</th>\n",
       "      <th>1</th>\n",
       "    </tr>\n",
       "    <tr>\n",
       "      <th>ACTUAL</th>\n",
       "      <th></th>\n",
       "      <th></th>\n",
       "    </tr>\n",
       "  </thead>\n",
       "  <tbody>\n",
       "    <tr>\n",
       "      <th>0</th>\n",
       "      <td>8857</td>\n",
       "      <td>223</td>\n",
       "    </tr>\n",
       "    <tr>\n",
       "      <th>1</th>\n",
       "      <td>1302</td>\n",
       "      <td>764</td>\n",
       "    </tr>\n",
       "  </tbody>\n",
       "</table>\n",
       "</div>"
      ],
      "text/plain": [
       "PRED       0    1\n",
       "ACTUAL           \n",
       "0       8857  223\n",
       "1       1302  764"
      ]
     },
     "execution_count": 69,
     "metadata": {
      "tags": []
     },
     "output_type": "execute_result"
    }
   ],
   "source": [
    "pd.crosstab(label_train,pd.Series(pred_train),rownames=['ACTUAL'],colnames=['PRED'])"
   ]
  },
  {
   "cell_type": "code",
   "execution_count": 0,
   "metadata": {
    "colab": {
     "base_uri": "https://localhost:8080/",
     "height": 136
    },
    "colab_type": "code",
    "executionInfo": {
     "elapsed": 786,
     "status": "ok",
     "timestamp": 1582990420030,
     "user": {
      "displayName": "GOURAB HAZRA",
      "photoUrl": "https://lh3.googleusercontent.com/a-/AOh14GiV5LcY5TILfyTv14CM8FI6Ar76G1ZTqnHlDGG2=s64",
      "userId": "12230592498902526703"
     },
     "user_tz": -330
    },
    "id": "qBBuiR1tlN2b",
    "outputId": "076965f8-40ec-4801-f9d9-5580337d66cd"
   },
   "outputs": [
    {
     "data": {
      "text/html": [
       "<div>\n",
       "<style scoped>\n",
       "    .dataframe tbody tr th:only-of-type {\n",
       "        vertical-align: middle;\n",
       "    }\n",
       "\n",
       "    .dataframe tbody tr th {\n",
       "        vertical-align: top;\n",
       "    }\n",
       "\n",
       "    .dataframe thead th {\n",
       "        text-align: right;\n",
       "    }\n",
       "</style>\n",
       "<table border=\"1\" class=\"dataframe\">\n",
       "  <thead>\n",
       "    <tr style=\"text-align: right;\">\n",
       "      <th>PRED</th>\n",
       "      <th>0</th>\n",
       "      <th>1</th>\n",
       "    </tr>\n",
       "    <tr>\n",
       "      <th>ACTUAL</th>\n",
       "      <th></th>\n",
       "      <th></th>\n",
       "    </tr>\n",
       "  </thead>\n",
       "  <tbody>\n",
       "    <tr>\n",
       "      <th>0</th>\n",
       "      <td>5809</td>\n",
       "      <td>179</td>\n",
       "    </tr>\n",
       "    <tr>\n",
       "      <th>1</th>\n",
       "      <td>921</td>\n",
       "      <td>522</td>\n",
       "    </tr>\n",
       "  </tbody>\n",
       "</table>\n",
       "</div>"
      ],
      "text/plain": [
       "PRED       0    1\n",
       "ACTUAL           \n",
       "0       5809  179\n",
       "1        921  522"
      ]
     },
     "execution_count": 70,
     "metadata": {
      "tags": []
     },
     "output_type": "execute_result"
    }
   ],
   "source": [
    "pd.crosstab(label_test,pd.Series(pred_test),rownames=['ACTUAL'],colnames=['PRED'])"
   ]
  },
  {
   "cell_type": "markdown",
   "metadata": {
    "colab_type": "text",
    "id": "RH546BgYlQMG"
   },
   "source": [
    "\n",
    "Naive Bayes"
   ]
  },
  {
   "cell_type": "code",
   "execution_count": 0,
   "metadata": {
    "colab": {
     "base_uri": "https://localhost:8080/",
     "height": 34
    },
    "colab_type": "code",
    "executionInfo": {
     "elapsed": 763,
     "status": "ok",
     "timestamp": 1582990435048,
     "user": {
      "displayName": "GOURAB HAZRA",
      "photoUrl": "https://lh3.googleusercontent.com/a-/AOh14GiV5LcY5TILfyTv14CM8FI6Ar76G1ZTqnHlDGG2=s64",
      "userId": "12230592498902526703"
     },
     "user_tz": -330
    },
    "id": "cWj0X4c4lQrC",
    "outputId": "974654a8-f26b-4367-9467-bfebb8d9abd7"
   },
   "outputs": [
    {
     "name": "stdout",
     "output_type": "stream",
     "text": [
      "0.8816615826305401 0.8724263221639079 0.7414020154291636 0.7358499628038706\n"
     ]
    }
   ],
   "source": [
    "from sklearn.naive_bayes import GaussianNB \n",
    "clf = GaussianNB()\n",
    "\n",
    "clf.fit(features_train,label_train)\n",
    "\n",
    "pred_train = clf.predict(features_train)\n",
    "pred_test = clf.predict(features_test)\n",
    "\n",
    "from sklearn.metrics import accuracy_score\n",
    "accuracy_train = accuracy_score(pred_train,label_train)\n",
    "accuracy_test = accuracy_score(pred_test,label_test)\n",
    "\n",
    "from sklearn import metrics\n",
    "fpr, tpr, _ = metrics.roc_curve(np.array(label_train), clf.predict_proba(features_train)[:,1])\n",
    "auc_train = metrics.auc(fpr,tpr)\n",
    "\n",
    "fpr, tpr, _ = metrics.roc_curve(np.array(label_test), clf.predict_proba(features_test)[:,1])\n",
    "auc_test = metrics.auc(fpr,tpr)\n",
    "\n",
    "print(accuracy_train,accuracy_test,auc_train,auc_test)"
   ]
  },
  {
   "cell_type": "code",
   "execution_count": 0,
   "metadata": {
    "colab": {
     "base_uri": "https://localhost:8080/",
     "height": 136
    },
    "colab_type": "code",
    "executionInfo": {
     "elapsed": 842,
     "status": "ok",
     "timestamp": 1582990450250,
     "user": {
      "displayName": "GOURAB HAZRA",
      "photoUrl": "https://lh3.googleusercontent.com/a-/AOh14GiV5LcY5TILfyTv14CM8FI6Ar76G1ZTqnHlDGG2=s64",
      "userId": "12230592498902526703"
     },
     "user_tz": -330
    },
    "id": "IWCQ_FwklTqX",
    "outputId": "c21b05a7-ab1c-4ee4-f917-af0414b09c22"
   },
   "outputs": [
    {
     "data": {
      "text/html": [
       "<div>\n",
       "<style scoped>\n",
       "    .dataframe tbody tr th:only-of-type {\n",
       "        vertical-align: middle;\n",
       "    }\n",
       "\n",
       "    .dataframe tbody tr th {\n",
       "        vertical-align: top;\n",
       "    }\n",
       "\n",
       "    .dataframe thead th {\n",
       "        text-align: right;\n",
       "    }\n",
       "</style>\n",
       "<table border=\"1\" class=\"dataframe\">\n",
       "  <thead>\n",
       "    <tr style=\"text-align: right;\">\n",
       "      <th>PRED</th>\n",
       "      <th>0</th>\n",
       "      <th>1</th>\n",
       "    </tr>\n",
       "    <tr>\n",
       "      <th>ACTUAL</th>\n",
       "      <th></th>\n",
       "      <th></th>\n",
       "    </tr>\n",
       "  </thead>\n",
       "  <tbody>\n",
       "    <tr>\n",
       "      <th>0</th>\n",
       "      <td>8832</td>\n",
       "      <td>248</td>\n",
       "    </tr>\n",
       "    <tr>\n",
       "      <th>1</th>\n",
       "      <td>1071</td>\n",
       "      <td>995</td>\n",
       "    </tr>\n",
       "  </tbody>\n",
       "</table>\n",
       "</div>"
      ],
      "text/plain": [
       "PRED       0    1\n",
       "ACTUAL           \n",
       "0       8832  248\n",
       "1       1071  995"
      ]
     },
     "execution_count": 72,
     "metadata": {
      "tags": []
     },
     "output_type": "execute_result"
    }
   ],
   "source": [
    "pd.crosstab(label_train,pd.Series(pred_train),rownames=['ACTUAL'],colnames=['PRED'])"
   ]
  },
  {
   "cell_type": "code",
   "execution_count": 0,
   "metadata": {
    "colab": {
     "base_uri": "https://localhost:8080/",
     "height": 136
    },
    "colab_type": "code",
    "executionInfo": {
     "elapsed": 844,
     "status": "ok",
     "timestamp": 1582990452945,
     "user": {
      "displayName": "GOURAB HAZRA",
      "photoUrl": "https://lh3.googleusercontent.com/a-/AOh14GiV5LcY5TILfyTv14CM8FI6Ar76G1ZTqnHlDGG2=s64",
      "userId": "12230592498902526703"
     },
     "user_tz": -330
    },
    "id": "7wrRjqxblV1y",
    "outputId": "67f79ab0-ffc6-4cb9-c1b2-730b2c36c3e4"
   },
   "outputs": [
    {
     "data": {
      "text/html": [
       "<div>\n",
       "<style scoped>\n",
       "    .dataframe tbody tr th:only-of-type {\n",
       "        vertical-align: middle;\n",
       "    }\n",
       "\n",
       "    .dataframe tbody tr th {\n",
       "        vertical-align: top;\n",
       "    }\n",
       "\n",
       "    .dataframe thead th {\n",
       "        text-align: right;\n",
       "    }\n",
       "</style>\n",
       "<table border=\"1\" class=\"dataframe\">\n",
       "  <thead>\n",
       "    <tr style=\"text-align: right;\">\n",
       "      <th>PRED</th>\n",
       "      <th>0</th>\n",
       "      <th>1</th>\n",
       "    </tr>\n",
       "    <tr>\n",
       "      <th>ACTUAL</th>\n",
       "      <th></th>\n",
       "      <th></th>\n",
       "    </tr>\n",
       "  </thead>\n",
       "  <tbody>\n",
       "    <tr>\n",
       "      <th>0</th>\n",
       "      <td>5796</td>\n",
       "      <td>192</td>\n",
       "    </tr>\n",
       "    <tr>\n",
       "      <th>1</th>\n",
       "      <td>756</td>\n",
       "      <td>687</td>\n",
       "    </tr>\n",
       "  </tbody>\n",
       "</table>\n",
       "</div>"
      ],
      "text/plain": [
       "PRED       0    1\n",
       "ACTUAL           \n",
       "0       5796  192\n",
       "1        756  687"
      ]
     },
     "execution_count": 73,
     "metadata": {
      "tags": []
     },
     "output_type": "execute_result"
    }
   ],
   "source": [
    "pd.crosstab(label_test,pd.Series(pred_test),rownames=['ACTUAL'],colnames=['PRED'])"
   ]
  },
  {
   "cell_type": "markdown",
   "metadata": {
    "colab_type": "text",
    "id": "rkyi-Z-mlXyG"
   },
   "source": [
    "Gradient Boosting"
   ]
  },
  {
   "cell_type": "code",
   "execution_count": 0,
   "metadata": {
    "colab": {
     "base_uri": "https://localhost:8080/",
     "height": 34
    },
    "colab_type": "code",
    "executionInfo": {
     "elapsed": 1875,
     "status": "ok",
     "timestamp": 1582990467098,
     "user": {
      "displayName": "GOURAB HAZRA",
      "photoUrl": "https://lh3.googleusercontent.com/a-/AOh14GiV5LcY5TILfyTv14CM8FI6Ar76G1ZTqnHlDGG2=s64",
      "userId": "12230592498902526703"
     },
     "user_tz": -330
    },
    "id": "5Hv4OQaTlYMq",
    "outputId": "7e7cbb61-fbad-4b05-e64e-694e7bd3e7ba"
   },
   "outputs": [
    {
     "name": "stdout",
     "output_type": "stream",
     "text": [
      "0.9115377713978109 0.9059345983044005 0.9694822775714207 0.959131071105019\n"
     ]
    }
   ],
   "source": [
    "from sklearn.ensemble import GradientBoostingClassifier\n",
    "clf = GradientBoostingClassifier()\n",
    "\n",
    "clf.fit(features_train,label_train)\n",
    "\n",
    "pred_train = clf.predict(features_train)\n",
    "pred_test = clf.predict(features_test)\n",
    "\n",
    "from sklearn.metrics import accuracy_score\n",
    "accuracy_train = accuracy_score(pred_train,label_train)\n",
    "accuracy_test = accuracy_score(pred_test,label_test)\n",
    "\n",
    "from sklearn import metrics\n",
    "fpr, tpr, _ = metrics.roc_curve(np.array(label_train), clf.predict_proba(features_train)[:,1])\n",
    "auc_train = metrics.auc(fpr,tpr)\n",
    "\n",
    "fpr, tpr, _ = metrics.roc_curve(np.array(label_test), clf.predict_proba(features_test)[:,1])\n",
    "auc_test = metrics.auc(fpr,tpr)\n",
    "\n",
    "print(accuracy_train,accuracy_test,auc_train,auc_test)"
   ]
  },
  {
   "cell_type": "code",
   "execution_count": 0,
   "metadata": {
    "colab": {
     "base_uri": "https://localhost:8080/",
     "height": 136
    },
    "colab_type": "code",
    "executionInfo": {
     "elapsed": 784,
     "status": "ok",
     "timestamp": 1582990476438,
     "user": {
      "displayName": "GOURAB HAZRA",
      "photoUrl": "https://lh3.googleusercontent.com/a-/AOh14GiV5LcY5TILfyTv14CM8FI6Ar76G1ZTqnHlDGG2=s64",
      "userId": "12230592498902526703"
     },
     "user_tz": -330
    },
    "id": "99OJXklyla9W",
    "outputId": "7842acff-548d-4616-c182-216e6bc6802e"
   },
   "outputs": [
    {
     "data": {
      "text/html": [
       "<div>\n",
       "<style scoped>\n",
       "    .dataframe tbody tr th:only-of-type {\n",
       "        vertical-align: middle;\n",
       "    }\n",
       "\n",
       "    .dataframe tbody tr th {\n",
       "        vertical-align: top;\n",
       "    }\n",
       "\n",
       "    .dataframe thead th {\n",
       "        text-align: right;\n",
       "    }\n",
       "</style>\n",
       "<table border=\"1\" class=\"dataframe\">\n",
       "  <thead>\n",
       "    <tr style=\"text-align: right;\">\n",
       "      <th>PRED</th>\n",
       "      <th>0</th>\n",
       "      <th>1</th>\n",
       "    </tr>\n",
       "    <tr>\n",
       "      <th>ACTUAL</th>\n",
       "      <th></th>\n",
       "      <th></th>\n",
       "    </tr>\n",
       "  </thead>\n",
       "  <tbody>\n",
       "    <tr>\n",
       "      <th>0</th>\n",
       "      <td>8986</td>\n",
       "      <td>94</td>\n",
       "    </tr>\n",
       "    <tr>\n",
       "      <th>1</th>\n",
       "      <td>892</td>\n",
       "      <td>1174</td>\n",
       "    </tr>\n",
       "  </tbody>\n",
       "</table>\n",
       "</div>"
      ],
      "text/plain": [
       "PRED       0     1\n",
       "ACTUAL            \n",
       "0       8986    94\n",
       "1        892  1174"
      ]
     },
     "execution_count": 75,
     "metadata": {
      "tags": []
     },
     "output_type": "execute_result"
    }
   ],
   "source": [
    "pd.crosstab(label_train,pd.Series(pred_train),rownames=['ACTUAL'],colnames=['PRED'])"
   ]
  },
  {
   "cell_type": "code",
   "execution_count": 0,
   "metadata": {
    "colab": {
     "base_uri": "https://localhost:8080/",
     "height": 136
    },
    "colab_type": "code",
    "executionInfo": {
     "elapsed": 733,
     "status": "ok",
     "timestamp": 1582990485489,
     "user": {
      "displayName": "GOURAB HAZRA",
      "photoUrl": "https://lh3.googleusercontent.com/a-/AOh14GiV5LcY5TILfyTv14CM8FI6Ar76G1ZTqnHlDGG2=s64",
      "userId": "12230592498902526703"
     },
     "user_tz": -330
    },
    "id": "9S64E6AsldUh",
    "outputId": "f3c7951b-e3b8-4cae-8cfe-3151b12d04ce"
   },
   "outputs": [
    {
     "data": {
      "text/html": [
       "<div>\n",
       "<style scoped>\n",
       "    .dataframe tbody tr th:only-of-type {\n",
       "        vertical-align: middle;\n",
       "    }\n",
       "\n",
       "    .dataframe tbody tr th {\n",
       "        vertical-align: top;\n",
       "    }\n",
       "\n",
       "    .dataframe thead th {\n",
       "        text-align: right;\n",
       "    }\n",
       "</style>\n",
       "<table border=\"1\" class=\"dataframe\">\n",
       "  <thead>\n",
       "    <tr style=\"text-align: right;\">\n",
       "      <th>PRED</th>\n",
       "      <th>0</th>\n",
       "      <th>1</th>\n",
       "    </tr>\n",
       "    <tr>\n",
       "      <th>ACTUAL</th>\n",
       "      <th></th>\n",
       "      <th></th>\n",
       "    </tr>\n",
       "  </thead>\n",
       "  <tbody>\n",
       "    <tr>\n",
       "      <th>0</th>\n",
       "      <td>5924</td>\n",
       "      <td>64</td>\n",
       "    </tr>\n",
       "    <tr>\n",
       "      <th>1</th>\n",
       "      <td>635</td>\n",
       "      <td>808</td>\n",
       "    </tr>\n",
       "  </tbody>\n",
       "</table>\n",
       "</div>"
      ],
      "text/plain": [
       "PRED       0    1\n",
       "ACTUAL           \n",
       "0       5924   64\n",
       "1        635  808"
      ]
     },
     "execution_count": 76,
     "metadata": {
      "tags": []
     },
     "output_type": "execute_result"
    }
   ],
   "source": [
    "pd.crosstab(label_test,pd.Series(pred_test),rownames=['ACTUAL'],colnames=['PRED'])"
   ]
  },
  {
   "cell_type": "markdown",
   "metadata": {
    "colab_type": "text",
    "id": "1KaLLI-hlf-v"
   },
   "source": [
    "Performance Tuning\n",
    "Random Forest - Hyper parameter tuning"
   ]
  },
  {
   "cell_type": "code",
   "execution_count": 0,
   "metadata": {
    "colab": {
     "base_uri": "https://localhost:8080/",
     "height": 84
    },
    "colab_type": "code",
    "executionInfo": {
     "elapsed": 12527,
     "status": "ok",
     "timestamp": 1582990527164,
     "user": {
      "displayName": "GOURAB HAZRA",
      "photoUrl": "https://lh3.googleusercontent.com/a-/AOh14GiV5LcY5TILfyTv14CM8FI6Ar76G1ZTqnHlDGG2=s64",
      "userId": "12230592498902526703"
     },
     "user_tz": -330
    },
    "id": "ZbVYH84VliBf",
    "outputId": "b317d06f-e315-4d3f-da30-33ae0bea279b"
   },
   "outputs": [
    {
     "name": "stdout",
     "output_type": "stream",
     "text": [
      "Fitting 2 folds for each of 10 candidates, totalling 20 fits\n"
     ]
    },
    {
     "name": "stderr",
     "output_type": "stream",
     "text": [
      "[Parallel(n_jobs=-1)]: Using backend LokyBackend with 2 concurrent workers.\n",
      "[Parallel(n_jobs=-1)]: Done  20 out of  20 | elapsed:   10.8s finished\n"
     ]
    },
    {
     "name": "stdout",
     "output_type": "stream",
     "text": [
      "{'n_estimators': 118, 'min_samples_split': 10, 'min_samples_leaf': 1, 'max_features': 'sqrt', 'max_depth': None, 'bootstrap': True}\n"
     ]
    }
   ],
   "source": [
    "from sklearn.model_selection import RandomizedSearchCV\n",
    "from sklearn.ensemble import RandomForestClassifier\n",
    "\n",
    "n_estimators = [int(x) for x in np.linspace(start = 10, stop = 500, num = 10)]\n",
    "max_features = ['auto', 'sqrt']\n",
    "max_depth = [int(x) for x in np.linspace(3, 10, num = 1)]\n",
    "max_depth.append(None)\n",
    "min_samples_split = [2, 5, 10]\n",
    "min_samples_leaf = [1, 2, 4]\n",
    "bootstrap = [True, False]\n",
    "\n",
    "random_grid = {'n_estimators': n_estimators,\n",
    "               'max_features': max_features,\n",
    "               'max_depth': max_depth,\n",
    "               'min_samples_split': min_samples_split,\n",
    "               'min_samples_leaf': min_samples_leaf,\n",
    "               'bootstrap': bootstrap}\n",
    "\n",
    "rf = RandomForestClassifier()\n",
    "\n",
    "rf_random = RandomizedSearchCV(estimator = rf, param_distributions = random_grid, n_iter = 10, cv = 2, verbose=2, random_state=42, n_jobs = -1)\n",
    "rf_random.fit(features_train, label_train)\n",
    "\n",
    "print(rf_random.best_params_)"
   ]
  },
  {
   "cell_type": "code",
   "execution_count": 0,
   "metadata": {
    "colab": {
     "base_uri": "https://localhost:8080/",
     "height": 34
    },
    "colab_type": "code",
    "executionInfo": {
     "elapsed": 2202,
     "status": "ok",
     "timestamp": 1582990538550,
     "user": {
      "displayName": "GOURAB HAZRA",
      "photoUrl": "https://lh3.googleusercontent.com/a-/AOh14GiV5LcY5TILfyTv14CM8FI6Ar76G1ZTqnHlDGG2=s64",
      "userId": "12230592498902526703"
     },
     "user_tz": -330
    },
    "id": "bAsR7rO-lpt_",
    "outputId": "c9562406-810c-4435-a279-f142dff8a663"
   },
   "outputs": [
    {
     "name": "stdout",
     "output_type": "stream",
     "text": [
      "0.9679705724026557 0.9063383124747678 0.9969452452332925 0.9596775556194393\n"
     ]
    }
   ],
   "source": [
    "from sklearn.ensemble import RandomForestClassifier\n",
    "clf = RandomForestClassifier(**rf_random.best_params_)\n",
    "\n",
    "clf.fit(features_train,label_train)\n",
    "\n",
    "pred_train = clf.predict(features_train)\n",
    "pred_test = clf.predict(features_test)\n",
    "\n",
    "from sklearn.metrics import accuracy_score\n",
    "accuracy_train = accuracy_score(pred_train,label_train)\n",
    "accuracy_test = accuracy_score(pred_test,label_test)\n",
    "\n",
    "from sklearn import metrics\n",
    "fpr, tpr, _ = metrics.roc_curve(np.array(label_train), clf.predict_proba(features_train)[:,1])\n",
    "auc_train = metrics.auc(fpr,tpr)\n",
    "\n",
    "fpr, tpr, _ = metrics.roc_curve(np.array(label_test), clf.predict_proba(features_test)[:,1])\n",
    "auc_test = metrics.auc(fpr,tpr)\n",
    "\n",
    "print(accuracy_train,accuracy_test,auc_train,auc_test)"
   ]
  },
  {
   "cell_type": "markdown",
   "metadata": {
    "colab_type": "text",
    "id": "01AiEfTSlto9"
   },
   "source": [
    "Gradient Boosting - Hyper parameter tuning"
   ]
  },
  {
   "cell_type": "code",
   "execution_count": 0,
   "metadata": {
    "colab": {
     "base_uri": "https://localhost:8080/",
     "height": 151
    },
    "colab_type": "code",
    "executionInfo": {
     "elapsed": 1070267,
     "status": "ok",
     "timestamp": 1582991746340,
     "user": {
      "displayName": "GOURAB HAZRA",
      "photoUrl": "https://lh3.googleusercontent.com/a-/AOh14GiV5LcY5TILfyTv14CM8FI6Ar76G1ZTqnHlDGG2=s64",
      "userId": "12230592498902526703"
     },
     "user_tz": -330
    },
    "id": "BWDpjwGcluJW",
    "outputId": "5b4aafc0-39e4-4905-baed-ab13f7cdb910"
   },
   "outputs": [
    {
     "name": "stdout",
     "output_type": "stream",
     "text": [
      "Fitting 2 folds for each of 360 candidates, totalling 720 fits\n"
     ]
    },
    {
     "name": "stderr",
     "output_type": "stream",
     "text": [
      "[Parallel(n_jobs=-1)]: Using backend LokyBackend with 2 concurrent workers.\n",
      "[Parallel(n_jobs=-1)]: Done  41 tasks      | elapsed:   39.0s\n",
      "[Parallel(n_jobs=-1)]: Done 162 tasks      | elapsed:  2.7min\n",
      "[Parallel(n_jobs=-1)]: Done 365 tasks      | elapsed:  4.6min\n",
      "[Parallel(n_jobs=-1)]: Done 648 tasks      | elapsed: 14.6min\n",
      "[Parallel(n_jobs=-1)]: Done 720 out of 720 | elapsed: 17.8min finished\n"
     ]
    },
    {
     "name": "stdout",
     "output_type": "stream",
     "text": [
      "{'max_depth': 3, 'max_features': 'auto', 'min_samples_leaf': 1, 'min_samples_split': 5, 'n_estimators': 64}\n"
     ]
    }
   ],
   "source": [
    "from sklearn import metrics\n",
    "from sklearn.model_selection import cross_validate\n",
    "from sklearn.model_selection import learning_curve, GridSearchCV\n",
    "from sklearn.ensemble import GradientBoostingClassifier\n",
    "\n",
    "n_estimators = [int(x) for x in np.linspace(start = 10, stop = 500, num = 10)]\n",
    "max_features = ['auto', 'sqrt']\n",
    "max_depth = [int(x) for x in np.linspace(3, 10, num = 1)]\n",
    "max_depth.append(None)\n",
    "min_samples_split = [2, 5, 10]\n",
    "min_samples_leaf = [1, 2, 4]\n",
    "\n",
    "grid = {'n_estimators': n_estimators,\n",
    "               'max_features': max_features,\n",
    "               'max_depth': max_depth,\n",
    "               'min_samples_split': min_samples_split,\n",
    "               'min_samples_leaf': min_samples_leaf}\n",
    "\n",
    "gb = GradientBoostingClassifier()\n",
    "\n",
    "gf_tune = GridSearchCV(estimator = gb, param_grid = grid, cv = 2, verbose=2, n_jobs = -1)\n",
    "gf_tune.fit(features_train, label_train)\n",
    "\n",
    "print(gf_tune.best_params_)"
   ]
  },
  {
   "cell_type": "code",
   "execution_count": 0,
   "metadata": {
    "colab": {
     "base_uri": "https://localhost:8080/",
     "height": 34
    },
    "colab_type": "code",
    "executionInfo": {
     "elapsed": 799,
     "status": "ok",
     "timestamp": 1582991803008,
     "user": {
      "displayName": "GOURAB HAZRA",
      "photoUrl": "https://lh3.googleusercontent.com/a-/AOh14GiV5LcY5TILfyTv14CM8FI6Ar76G1ZTqnHlDGG2=s64",
      "userId": "12230592498902526703"
     },
     "user_tz": -330
    },
    "id": "jIy8rvaZmOMH",
    "outputId": "40ecacf0-6db6-474d-b296-70045bede04b"
   },
   "outputs": [
    {
     "name": "stdout",
     "output_type": "stream",
     "text": [
      "{'max_depth': 3, 'max_features': 'auto', 'min_samples_leaf': 1, 'min_samples_split': 5, 'n_estimators': 64}\n"
     ]
    }
   ],
   "source": [
    "print(gf_tune.best_params_)"
   ]
  },
  {
   "cell_type": "code",
   "execution_count": 0,
   "metadata": {
    "colab": {
     "base_uri": "https://localhost:8080/",
     "height": 34
    },
    "colab_type": "code",
    "executionInfo": {
     "elapsed": 1148,
     "status": "ok",
     "timestamp": 1582991805883,
     "user": {
      "displayName": "GOURAB HAZRA",
      "photoUrl": "https://lh3.googleusercontent.com/a-/AOh14GiV5LcY5TILfyTv14CM8FI6Ar76G1ZTqnHlDGG2=s64",
      "userId": "12230592498902526703"
     },
     "user_tz": -330
    },
    "id": "ePeuz03imQr_",
    "outputId": "416f24cc-5d08-413f-cad6-d52d88ec21ee"
   },
   "outputs": [
    {
     "name": "stdout",
     "output_type": "stream",
     "text": [
      "0.9096536874214965 0.9041851702328085 0.9640312954441749 0.9579964965736509\n"
     ]
    }
   ],
   "source": [
    "from sklearn.ensemble import GradientBoostingClassifier\n",
    "clf = GradientBoostingClassifier(**gf_tune.best_params_)\n",
    "\n",
    "clf.fit(features_train,label_train)\n",
    "\n",
    "pred_train = clf.predict(features_train)\n",
    "pred_test = clf.predict(features_test)\n",
    "\n",
    "from sklearn.metrics import accuracy_score\n",
    "accuracy_train = accuracy_score(pred_train,label_train)\n",
    "accuracy_test = accuracy_score(pred_test,label_test)\n",
    "\n",
    "from sklearn import metrics\n",
    "fpr, tpr, _ = metrics.roc_curve(np.array(label_train), clf.predict_proba(features_train)[:,1])\n",
    "auc_train = metrics.auc(fpr,tpr)\n",
    "\n",
    "fpr, tpr, _ = metrics.roc_curve(np.array(label_test), clf.predict_proba(features_test)[:,1])\n",
    "auc_test = metrics.auc(fpr,tpr)\n",
    "\n",
    "print(accuracy_train,accuracy_test,auc_train,auc_test)"
   ]
  },
  {
   "cell_type": "markdown",
   "metadata": {
    "colab_type": "text",
    "id": "rxBtSEJXmT0x"
   },
   "source": [
    "Final Model and Model Performance"
   ]
  },
  {
   "cell_type": "code",
   "execution_count": 0,
   "metadata": {
    "colab": {
     "base_uri": "https://localhost:8080/",
     "height": 34
    },
    "colab_type": "code",
    "executionInfo": {
     "elapsed": 777,
     "status": "ok",
     "timestamp": 1582991809829,
     "user": {
      "displayName": "GOURAB HAZRA",
      "photoUrl": "https://lh3.googleusercontent.com/a-/AOh14GiV5LcY5TILfyTv14CM8FI6Ar76G1ZTqnHlDGG2=s64",
      "userId": "12230592498902526703"
     },
     "user_tz": -330
    },
    "id": "IjkM0iIqmURq",
    "outputId": "ea259b78-63cf-40f3-befc-d558eb8e06ff"
   },
   "outputs": [
    {
     "name": "stdout",
     "output_type": "stream",
     "text": [
      "0.8849811591602369 0.8763288924774593 0.7348190335663203 0.7304676342752495\n"
     ]
    }
   ],
   "source": [
    "from sklearn.linear_model import LogisticRegression\n",
    "clf = LogisticRegression()\n",
    "\n",
    "clf.fit(features_train,label_train)\n",
    "\n",
    "pred_train = clf.predict(features_train)\n",
    "pred_test = clf.predict(features_test)\n",
    "\n",
    "from sklearn.metrics import accuracy_score\n",
    "accuracy_train = accuracy_score(pred_train,label_train)\n",
    "accuracy_test = accuracy_score(pred_test,label_test)\n",
    "\n",
    "from sklearn import metrics\n",
    "fpr, tpr, _ = metrics.roc_curve(np.array(label_train), clf.predict_proba(features_train)[:,1])\n",
    "auc_train = metrics.auc(fpr,tpr)\n",
    "\n",
    "fpr, tpr, _ = metrics.roc_curve(np.array(label_test), clf.predict_proba(features_test)[:,1])\n",
    "auc_test = metrics.auc(fpr,tpr)\n",
    "\n",
    "print(accuracy_train,accuracy_test,auc_train,auc_test)"
   ]
  },
  {
   "cell_type": "code",
   "execution_count": 0,
   "metadata": {
    "colab": {
     "base_uri": "https://localhost:8080/",
     "height": 136
    },
    "colab_type": "code",
    "executionInfo": {
     "elapsed": 823,
     "status": "ok",
     "timestamp": 1582991812795,
     "user": {
      "displayName": "GOURAB HAZRA",
      "photoUrl": "https://lh3.googleusercontent.com/a-/AOh14GiV5LcY5TILfyTv14CM8FI6Ar76G1ZTqnHlDGG2=s64",
      "userId": "12230592498902526703"
     },
     "user_tz": -330
    },
    "id": "EwaROcnHmW3B",
    "outputId": "07754fe5-90e0-42f5-8951-c9430089506f"
   },
   "outputs": [
    {
     "data": {
      "text/html": [
       "<div>\n",
       "<style scoped>\n",
       "    .dataframe tbody tr th:only-of-type {\n",
       "        vertical-align: middle;\n",
       "    }\n",
       "\n",
       "    .dataframe tbody tr th {\n",
       "        vertical-align: top;\n",
       "    }\n",
       "\n",
       "    .dataframe thead th {\n",
       "        text-align: right;\n",
       "    }\n",
       "</style>\n",
       "<table border=\"1\" class=\"dataframe\">\n",
       "  <thead>\n",
       "    <tr style=\"text-align: right;\">\n",
       "      <th>PRED</th>\n",
       "      <th>0</th>\n",
       "      <th>1</th>\n",
       "    </tr>\n",
       "    <tr>\n",
       "      <th>ACTUAL</th>\n",
       "      <th></th>\n",
       "      <th></th>\n",
       "    </tr>\n",
       "  </thead>\n",
       "  <tbody>\n",
       "    <tr>\n",
       "      <th>0</th>\n",
       "      <td>8887</td>\n",
       "      <td>193</td>\n",
       "    </tr>\n",
       "    <tr>\n",
       "      <th>1</th>\n",
       "      <td>1089</td>\n",
       "      <td>977</td>\n",
       "    </tr>\n",
       "  </tbody>\n",
       "</table>\n",
       "</div>"
      ],
      "text/plain": [
       "PRED       0    1\n",
       "ACTUAL           \n",
       "0       8887  193\n",
       "1       1089  977"
      ]
     },
     "execution_count": 86,
     "metadata": {
      "tags": []
     },
     "output_type": "execute_result"
    }
   ],
   "source": [
    "pd.crosstab(label_train,pd.Series(pred_train),rownames=['ACTUAL'],colnames=['PRED'])"
   ]
  },
  {
   "cell_type": "code",
   "execution_count": 0,
   "metadata": {
    "colab": {
     "base_uri": "https://localhost:8080/",
     "height": 136
    },
    "colab_type": "code",
    "executionInfo": {
     "elapsed": 601,
     "status": "ok",
     "timestamp": 1582991813312,
     "user": {
      "displayName": "GOURAB HAZRA",
      "photoUrl": "https://lh3.googleusercontent.com/a-/AOh14GiV5LcY5TILfyTv14CM8FI6Ar76G1ZTqnHlDGG2=s64",
      "userId": "12230592498902526703"
     },
     "user_tz": -330
    },
    "id": "Q4TwL-NGmYct",
    "outputId": "9f4f113a-ea7e-4db4-cf16-66d3ac920395"
   },
   "outputs": [
    {
     "data": {
      "text/html": [
       "<div>\n",
       "<style scoped>\n",
       "    .dataframe tbody tr th:only-of-type {\n",
       "        vertical-align: middle;\n",
       "    }\n",
       "\n",
       "    .dataframe tbody tr th {\n",
       "        vertical-align: top;\n",
       "    }\n",
       "\n",
       "    .dataframe thead th {\n",
       "        text-align: right;\n",
       "    }\n",
       "</style>\n",
       "<table border=\"1\" class=\"dataframe\">\n",
       "  <thead>\n",
       "    <tr style=\"text-align: right;\">\n",
       "      <th>PRED</th>\n",
       "      <th>0</th>\n",
       "      <th>1</th>\n",
       "    </tr>\n",
       "    <tr>\n",
       "      <th>ACTUAL</th>\n",
       "      <th></th>\n",
       "      <th></th>\n",
       "    </tr>\n",
       "  </thead>\n",
       "  <tbody>\n",
       "    <tr>\n",
       "      <th>0</th>\n",
       "      <td>5838</td>\n",
       "      <td>150</td>\n",
       "    </tr>\n",
       "    <tr>\n",
       "      <th>1</th>\n",
       "      <td>769</td>\n",
       "      <td>674</td>\n",
       "    </tr>\n",
       "  </tbody>\n",
       "</table>\n",
       "</div>"
      ],
      "text/plain": [
       "PRED       0    1\n",
       "ACTUAL           \n",
       "0       5838  150\n",
       "1        769  674"
      ]
     },
     "execution_count": 87,
     "metadata": {
      "tags": []
     },
     "output_type": "execute_result"
    }
   ],
   "source": [
    "pd.crosstab(label_test,pd.Series(pred_test),rownames=['ACTUAL'],colnames=['PRED'])"
   ]
  },
  {
   "cell_type": "code",
   "execution_count": 0,
   "metadata": {
    "colab": {
     "base_uri": "https://localhost:8080/",
     "height": 617
    },
    "colab_type": "code",
    "executionInfo": {
     "elapsed": 1135,
     "status": "ok",
     "timestamp": 1582992279012,
     "user": {
      "displayName": "GOURAB HAZRA",
      "photoUrl": "https://lh3.googleusercontent.com/a-/AOh14GiV5LcY5TILfyTv14CM8FI6Ar76G1ZTqnHlDGG2=s64",
      "userId": "12230592498902526703"
     },
     "user_tz": -330
    },
    "id": "uQNHRy_lmaRS",
    "outputId": "d13ad787-5849-4015-ddb4-4a70e19a67a4"
   },
   "outputs": [
    {
     "data": {
      "application/javascript": [
       "\n",
       "(function(root) {\n",
       "  function now() {\n",
       "    return new Date();\n",
       "  }\n",
       "\n",
       "  var force = true;\n",
       "\n",
       "  if (typeof root._bokeh_onload_callbacks === \"undefined\" || force === true) {\n",
       "    root._bokeh_onload_callbacks = [];\n",
       "    root._bokeh_is_loading = undefined;\n",
       "  }\n",
       "\n",
       "  var JS_MIME_TYPE = 'application/javascript';\n",
       "  var HTML_MIME_TYPE = 'text/html';\n",
       "  var EXEC_MIME_TYPE = 'application/vnd.bokehjs_exec.v0+json';\n",
       "  var CLASS_NAME = 'output_bokeh rendered_html';\n",
       "\n",
       "  /**\n",
       "   * Render data to the DOM node\n",
       "   */\n",
       "  function render(props, node) {\n",
       "    var script = document.createElement(\"script\");\n",
       "    node.appendChild(script);\n",
       "  }\n",
       "\n",
       "  /**\n",
       "   * Handle when an output is cleared or removed\n",
       "   */\n",
       "  function handleClearOutput(event, handle) {\n",
       "    var cell = handle.cell;\n",
       "\n",
       "    var id = cell.output_area._bokeh_element_id;\n",
       "    var server_id = cell.output_area._bokeh_server_id;\n",
       "    // Clean up Bokeh references\n",
       "    if (id != null && id in Bokeh.index) {\n",
       "      Bokeh.index[id].model.document.clear();\n",
       "      delete Bokeh.index[id];\n",
       "    }\n",
       "\n",
       "    if (server_id !== undefined) {\n",
       "      // Clean up Bokeh references\n",
       "      var cmd = \"from bokeh.io.state import curstate; print(curstate().uuid_to_server['\" + server_id + \"'].get_sessions()[0].document.roots[0]._id)\";\n",
       "      cell.notebook.kernel.execute(cmd, {\n",
       "        iopub: {\n",
       "          output: function(msg) {\n",
       "            var id = msg.content.text.trim();\n",
       "            if (id in Bokeh.index) {\n",
       "              Bokeh.index[id].model.document.clear();\n",
       "              delete Bokeh.index[id];\n",
       "            }\n",
       "          }\n",
       "        }\n",
       "      });\n",
       "      // Destroy server and session\n",
       "      var cmd = \"import bokeh.io.notebook as ion; ion.destroy_server('\" + server_id + \"')\";\n",
       "      cell.notebook.kernel.execute(cmd);\n",
       "    }\n",
       "  }\n",
       "\n",
       "  /**\n",
       "   * Handle when a new output is added\n",
       "   */\n",
       "  function handleAddOutput(event, handle) {\n",
       "    var output_area = handle.output_area;\n",
       "    var output = handle.output;\n",
       "\n",
       "    // limit handleAddOutput to display_data with EXEC_MIME_TYPE content only\n",
       "    if ((output.output_type != \"display_data\") || (!output.data.hasOwnProperty(EXEC_MIME_TYPE))) {\n",
       "      return\n",
       "    }\n",
       "\n",
       "    var toinsert = output_area.element.find(\".\" + CLASS_NAME.split(' ')[0]);\n",
       "\n",
       "    if (output.metadata[EXEC_MIME_TYPE][\"id\"] !== undefined) {\n",
       "      toinsert[toinsert.length - 1].firstChild.textContent = output.data[JS_MIME_TYPE];\n",
       "      // store reference to embed id on output_area\n",
       "      output_area._bokeh_element_id = output.metadata[EXEC_MIME_TYPE][\"id\"];\n",
       "    }\n",
       "    if (output.metadata[EXEC_MIME_TYPE][\"server_id\"] !== undefined) {\n",
       "      var bk_div = document.createElement(\"div\");\n",
       "      bk_div.innerHTML = output.data[HTML_MIME_TYPE];\n",
       "      var script_attrs = bk_div.children[0].attributes;\n",
       "      for (var i = 0; i < script_attrs.length; i++) {\n",
       "        toinsert[toinsert.length - 1].firstChild.setAttribute(script_attrs[i].name, script_attrs[i].value);\n",
       "      }\n",
       "      // store reference to server id on output_area\n",
       "      output_area._bokeh_server_id = output.metadata[EXEC_MIME_TYPE][\"server_id\"];\n",
       "    }\n",
       "  }\n",
       "\n",
       "  function register_renderer(events, OutputArea) {\n",
       "\n",
       "    function append_mime(data, metadata, element) {\n",
       "      // create a DOM node to render to\n",
       "      var toinsert = this.create_output_subarea(\n",
       "        metadata,\n",
       "        CLASS_NAME,\n",
       "        EXEC_MIME_TYPE\n",
       "      );\n",
       "      this.keyboard_manager.register_events(toinsert);\n",
       "      // Render to node\n",
       "      var props = {data: data, metadata: metadata[EXEC_MIME_TYPE]};\n",
       "      render(props, toinsert[toinsert.length - 1]);\n",
       "      element.append(toinsert);\n",
       "      return toinsert\n",
       "    }\n",
       "\n",
       "    /* Handle when an output is cleared or removed */\n",
       "    events.on('clear_output.CodeCell', handleClearOutput);\n",
       "    events.on('delete.Cell', handleClearOutput);\n",
       "\n",
       "    /* Handle when a new output is added */\n",
       "    events.on('output_added.OutputArea', handleAddOutput);\n",
       "\n",
       "    /**\n",
       "     * Register the mime type and append_mime function with output_area\n",
       "     */\n",
       "    OutputArea.prototype.register_mime_type(EXEC_MIME_TYPE, append_mime, {\n",
       "      /* Is output safe? */\n",
       "      safe: true,\n",
       "      /* Index of renderer in `output_area.display_order` */\n",
       "      index: 0\n",
       "    });\n",
       "  }\n",
       "\n",
       "  // register the mime type if in Jupyter Notebook environment and previously unregistered\n",
       "  if (root.Jupyter !== undefined) {\n",
       "    var events = require('base/js/events');\n",
       "    var OutputArea = require('notebook/js/outputarea').OutputArea;\n",
       "\n",
       "    if (OutputArea.prototype.mime_types().indexOf(EXEC_MIME_TYPE) == -1) {\n",
       "      register_renderer(events, OutputArea);\n",
       "    }\n",
       "  }\n",
       "\n",
       "  \n",
       "  if (typeof (root._bokeh_timeout) === \"undefined\" || force === true) {\n",
       "    root._bokeh_timeout = Date.now() + 5000;\n",
       "    root._bokeh_failed_load = false;\n",
       "  }\n",
       "\n",
       "  var NB_LOAD_WARNING = {'data': {'text/html':\n",
       "     \"<div style='background-color: #fdd'>\\n\"+\n",
       "     \"<p>\\n\"+\n",
       "     \"BokehJS does not appear to have successfully loaded. If loading BokehJS from CDN, this \\n\"+\n",
       "     \"may be due to a slow or bad network connection. Possible fixes:\\n\"+\n",
       "     \"</p>\\n\"+\n",
       "     \"<ul>\\n\"+\n",
       "     \"<li>re-rerun `output_notebook()` to attempt to load from CDN again, or</li>\\n\"+\n",
       "     \"<li>use INLINE resources instead, as so:</li>\\n\"+\n",
       "     \"</ul>\\n\"+\n",
       "     \"<code>\\n\"+\n",
       "     \"from bokeh.resources import INLINE\\n\"+\n",
       "     \"output_notebook(resources=INLINE)\\n\"+\n",
       "     \"</code>\\n\"+\n",
       "     \"</div>\"}};\n",
       "\n",
       "  function display_loaded() {\n",
       "    var el = document.getElementById(null);\n",
       "    if (el != null) {\n",
       "      el.textContent = \"BokehJS is loading...\";\n",
       "    }\n",
       "    if (root.Bokeh !== undefined) {\n",
       "      if (el != null) {\n",
       "        el.textContent = \"BokehJS \" + root.Bokeh.version + \" successfully loaded.\";\n",
       "      }\n",
       "    } else if (Date.now() < root._bokeh_timeout) {\n",
       "      setTimeout(display_loaded, 100)\n",
       "    }\n",
       "  }\n",
       "\n",
       "\n",
       "  function run_callbacks() {\n",
       "    try {\n",
       "      root._bokeh_onload_callbacks.forEach(function(callback) {\n",
       "        if (callback != null)\n",
       "          callback();\n",
       "      });\n",
       "    } finally {\n",
       "      delete root._bokeh_onload_callbacks\n",
       "    }\n",
       "    console.debug(\"Bokeh: all callbacks have finished\");\n",
       "  }\n",
       "\n",
       "  function load_libs(css_urls, js_urls, callback) {\n",
       "    if (css_urls == null) css_urls = [];\n",
       "    if (js_urls == null) js_urls = [];\n",
       "\n",
       "    root._bokeh_onload_callbacks.push(callback);\n",
       "    if (root._bokeh_is_loading > 0) {\n",
       "      console.debug(\"Bokeh: BokehJS is being loaded, scheduling callback at\", now());\n",
       "      return null;\n",
       "    }\n",
       "    if (js_urls == null || js_urls.length === 0) {\n",
       "      run_callbacks();\n",
       "      return null;\n",
       "    }\n",
       "    console.debug(\"Bokeh: BokehJS not loaded, scheduling load and callback at\", now());\n",
       "    root._bokeh_is_loading = css_urls.length + js_urls.length;\n",
       "\n",
       "    function on_load() {\n",
       "      root._bokeh_is_loading--;\n",
       "      if (root._bokeh_is_loading === 0) {\n",
       "        console.debug(\"Bokeh: all BokehJS libraries/stylesheets loaded\");\n",
       "        run_callbacks()\n",
       "      }\n",
       "    }\n",
       "\n",
       "    function on_error() {\n",
       "      console.error(\"failed to load \" + url);\n",
       "    }\n",
       "\n",
       "    for (var i = 0; i < css_urls.length; i++) {\n",
       "      var url = css_urls[i];\n",
       "      const element = document.createElement(\"link\");\n",
       "      element.onload = on_load;\n",
       "      element.onerror = on_error;\n",
       "      element.rel = \"stylesheet\";\n",
       "      element.type = \"text/css\";\n",
       "      element.href = url;\n",
       "      console.debug(\"Bokeh: injecting link tag for BokehJS stylesheet: \", url);\n",
       "      document.body.appendChild(element);\n",
       "    }\n",
       "\n",
       "    for (var i = 0; i < js_urls.length; i++) {\n",
       "      var url = js_urls[i];\n",
       "      var element = document.createElement('script');\n",
       "      element.onload = on_load;\n",
       "      element.onerror = on_error;\n",
       "      element.async = false;\n",
       "      element.src = url;\n",
       "      console.debug(\"Bokeh: injecting script tag for BokehJS library: \", url);\n",
       "      document.head.appendChild(element);\n",
       "    }\n",
       "  };\n",
       "\n",
       "  function inject_raw_css(css) {\n",
       "    const element = document.createElement(\"style\");\n",
       "    element.appendChild(document.createTextNode(css));\n",
       "    document.body.appendChild(element);\n",
       "  }\n",
       "\n",
       "  \n",
       "  var js_urls = [\"https://cdn.pydata.org/bokeh/release/bokeh-1.4.0.min.js\", \"https://cdn.pydata.org/bokeh/release/bokeh-widgets-1.4.0.min.js\", \"https://cdn.pydata.org/bokeh/release/bokeh-tables-1.4.0.min.js\", \"https://cdn.pydata.org/bokeh/release/bokeh-gl-1.4.0.min.js\"];\n",
       "  var css_urls = [];\n",
       "  \n",
       "\n",
       "  var inline_js = [\n",
       "    function(Bokeh) {\n",
       "      Bokeh.set_log_level(\"info\");\n",
       "    },\n",
       "    function(Bokeh) {\n",
       "    \n",
       "    \n",
       "    }\n",
       "  ];\n",
       "\n",
       "  function run_inline_js() {\n",
       "    \n",
       "    if (root.Bokeh !== undefined || force === true) {\n",
       "      \n",
       "    for (var i = 0; i < inline_js.length; i++) {\n",
       "      inline_js[i].call(root, root.Bokeh);\n",
       "    }\n",
       "    } else if (Date.now() < root._bokeh_timeout) {\n",
       "      setTimeout(run_inline_js, 100);\n",
       "    } else if (!root._bokeh_failed_load) {\n",
       "      console.log(\"Bokeh: BokehJS failed to load within specified timeout.\");\n",
       "      root._bokeh_failed_load = true;\n",
       "    } else if (force !== true) {\n",
       "      var cell = $(document.getElementById(null)).parents('.cell').data().cell;\n",
       "      cell.output_area.append_execute_result(NB_LOAD_WARNING)\n",
       "    }\n",
       "\n",
       "  }\n",
       "\n",
       "  if (root._bokeh_is_loading === 0) {\n",
       "    console.debug(\"Bokeh: BokehJS loaded, going straight to plotting\");\n",
       "    run_inline_js();\n",
       "  } else {\n",
       "    load_libs(css_urls, js_urls, function() {\n",
       "      console.debug(\"Bokeh: BokehJS plotting callback run at\", now());\n",
       "      run_inline_js();\n",
       "    });\n",
       "  }\n",
       "}(window));"
      ],
      "application/vnd.bokehjs_load.v0+json": "\n(function(root) {\n  function now() {\n    return new Date();\n  }\n\n  var force = true;\n\n  if (typeof root._bokeh_onload_callbacks === \"undefined\" || force === true) {\n    root._bokeh_onload_callbacks = [];\n    root._bokeh_is_loading = undefined;\n  }\n\n  \n\n  \n  if (typeof (root._bokeh_timeout) === \"undefined\" || force === true) {\n    root._bokeh_timeout = Date.now() + 5000;\n    root._bokeh_failed_load = false;\n  }\n\n  var NB_LOAD_WARNING = {'data': {'text/html':\n     \"<div style='background-color: #fdd'>\\n\"+\n     \"<p>\\n\"+\n     \"BokehJS does not appear to have successfully loaded. If loading BokehJS from CDN, this \\n\"+\n     \"may be due to a slow or bad network connection. Possible fixes:\\n\"+\n     \"</p>\\n\"+\n     \"<ul>\\n\"+\n     \"<li>re-rerun `output_notebook()` to attempt to load from CDN again, or</li>\\n\"+\n     \"<li>use INLINE resources instead, as so:</li>\\n\"+\n     \"</ul>\\n\"+\n     \"<code>\\n\"+\n     \"from bokeh.resources import INLINE\\n\"+\n     \"output_notebook(resources=INLINE)\\n\"+\n     \"</code>\\n\"+\n     \"</div>\"}};\n\n  function display_loaded() {\n    var el = document.getElementById(null);\n    if (el != null) {\n      el.textContent = \"BokehJS is loading...\";\n    }\n    if (root.Bokeh !== undefined) {\n      if (el != null) {\n        el.textContent = \"BokehJS \" + root.Bokeh.version + \" successfully loaded.\";\n      }\n    } else if (Date.now() < root._bokeh_timeout) {\n      setTimeout(display_loaded, 100)\n    }\n  }\n\n\n  function run_callbacks() {\n    try {\n      root._bokeh_onload_callbacks.forEach(function(callback) {\n        if (callback != null)\n          callback();\n      });\n    } finally {\n      delete root._bokeh_onload_callbacks\n    }\n    console.debug(\"Bokeh: all callbacks have finished\");\n  }\n\n  function load_libs(css_urls, js_urls, callback) {\n    if (css_urls == null) css_urls = [];\n    if (js_urls == null) js_urls = [];\n\n    root._bokeh_onload_callbacks.push(callback);\n    if (root._bokeh_is_loading > 0) {\n      console.debug(\"Bokeh: BokehJS is being loaded, scheduling callback at\", now());\n      return null;\n    }\n    if (js_urls == null || js_urls.length === 0) {\n      run_callbacks();\n      return null;\n    }\n    console.debug(\"Bokeh: BokehJS not loaded, scheduling load and callback at\", now());\n    root._bokeh_is_loading = css_urls.length + js_urls.length;\n\n    function on_load() {\n      root._bokeh_is_loading--;\n      if (root._bokeh_is_loading === 0) {\n        console.debug(\"Bokeh: all BokehJS libraries/stylesheets loaded\");\n        run_callbacks()\n      }\n    }\n\n    function on_error() {\n      console.error(\"failed to load \" + url);\n    }\n\n    for (var i = 0; i < css_urls.length; i++) {\n      var url = css_urls[i];\n      const element = document.createElement(\"link\");\n      element.onload = on_load;\n      element.onerror = on_error;\n      element.rel = \"stylesheet\";\n      element.type = \"text/css\";\n      element.href = url;\n      console.debug(\"Bokeh: injecting link tag for BokehJS stylesheet: \", url);\n      document.body.appendChild(element);\n    }\n\n    for (var i = 0; i < js_urls.length; i++) {\n      var url = js_urls[i];\n      var element = document.createElement('script');\n      element.onload = on_load;\n      element.onerror = on_error;\n      element.async = false;\n      element.src = url;\n      console.debug(\"Bokeh: injecting script tag for BokehJS library: \", url);\n      document.head.appendChild(element);\n    }\n  };\n\n  function inject_raw_css(css) {\n    const element = document.createElement(\"style\");\n    element.appendChild(document.createTextNode(css));\n    document.body.appendChild(element);\n  }\n\n  \n  var js_urls = [\"https://cdn.pydata.org/bokeh/release/bokeh-1.4.0.min.js\", \"https://cdn.pydata.org/bokeh/release/bokeh-widgets-1.4.0.min.js\", \"https://cdn.pydata.org/bokeh/release/bokeh-tables-1.4.0.min.js\", \"https://cdn.pydata.org/bokeh/release/bokeh-gl-1.4.0.min.js\"];\n  var css_urls = [];\n  \n\n  var inline_js = [\n    function(Bokeh) {\n      Bokeh.set_log_level(\"info\");\n    },\n    function(Bokeh) {\n    \n    \n    }\n  ];\n\n  function run_inline_js() {\n    \n    if (root.Bokeh !== undefined || force === true) {\n      \n    for (var i = 0; i < inline_js.length; i++) {\n      inline_js[i].call(root, root.Bokeh);\n    }\n    } else if (Date.now() < root._bokeh_timeout) {\n      setTimeout(run_inline_js, 100);\n    } else if (!root._bokeh_failed_load) {\n      console.log(\"Bokeh: BokehJS failed to load within specified timeout.\");\n      root._bokeh_failed_load = true;\n    } else if (force !== true) {\n      var cell = $(document.getElementById(null)).parents('.cell').data().cell;\n      cell.output_area.append_execute_result(NB_LOAD_WARNING)\n    }\n\n  }\n\n  if (root._bokeh_is_loading === 0) {\n    console.debug(\"Bokeh: BokehJS loaded, going straight to plotting\");\n    run_inline_js();\n  } else {\n    load_libs(css_urls, js_urls, function() {\n      console.debug(\"Bokeh: BokehJS plotting callback run at\", now());\n      run_inline_js();\n    });\n  }\n}(window));"
     },
     "metadata": {
      "tags": []
     },
     "output_type": "display_data"
    },
    {
     "data": {
      "text/html": [
       "\n",
       "\n",
       "\n",
       "\n",
       "\n",
       "\n",
       "  <div class=\"bk-root\" id=\"af049928-03ca-459f-95de-66615f4d6e92\" data-root-id=\"1397\"></div>\n"
      ]
     },
     "metadata": {
      "tags": []
     },
     "output_type": "display_data"
    },
    {
     "data": {
      "application/javascript": [
       "(function(root) {\n",
       "  function embed_document(root) {\n",
       "    \n",
       "  var docs_json = {\"cd1df993-c357-4faa-ac79-30ecf2fd02a2\":{\"roots\":{\"references\":[{\"attributes\":{\"below\":[{\"id\":\"1408\",\"type\":\"LinearAxis\"}],\"center\":[{\"id\":\"1412\",\"type\":\"Grid\"},{\"id\":\"1417\",\"type\":\"Grid\"},{\"id\":\"1442\",\"type\":\"Legend\"}],\"left\":[{\"id\":\"1413\",\"type\":\"LinearAxis\"}],\"renderers\":[{\"id\":\"1434\",\"type\":\"GlyphRenderer\"},{\"id\":\"1447\",\"type\":\"GlyphRenderer\"}],\"title\":{\"id\":\"1398\",\"type\":\"Title\"},\"toolbar\":{\"id\":\"1424\",\"type\":\"Toolbar\"},\"x_range\":{\"id\":\"1400\",\"type\":\"DataRange1d\"},\"x_scale\":{\"id\":\"1404\",\"type\":\"LinearScale\"},\"y_range\":{\"id\":\"1402\",\"type\":\"DataRange1d\"},\"y_scale\":{\"id\":\"1406\",\"type\":\"LinearScale\"}},\"id\":\"1397\",\"subtype\":\"Figure\",\"type\":\"Plot\"},{\"attributes\":{\"active_drag\":\"auto\",\"active_inspect\":\"auto\",\"active_multi\":null,\"active_scroll\":\"auto\",\"active_tap\":\"auto\",\"tools\":[{\"id\":\"1418\",\"type\":\"PanTool\"},{\"id\":\"1419\",\"type\":\"WheelZoomTool\"},{\"id\":\"1420\",\"type\":\"BoxZoomTool\"},{\"id\":\"1421\",\"type\":\"SaveTool\"},{\"id\":\"1422\",\"type\":\"ResetTool\"},{\"id\":\"1423\",\"type\":\"HelpTool\"}]},\"id\":\"1424\",\"type\":\"Toolbar\"},{\"attributes\":{},\"id\":\"1418\",\"type\":\"PanTool\"},{\"attributes\":{},\"id\":\"1409\",\"type\":\"BasicTicker\"},{\"attributes\":{},\"id\":\"1438\",\"type\":\"BasicTickFormatter\"},{\"attributes\":{\"line_color\":\"#d15555\",\"line_dash\":[2,4,6,4],\"line_width\":2,\"x\":{\"field\":\"x\"},\"y\":{\"field\":\"y\"}},\"id\":\"1445\",\"type\":\"Line\"},{\"attributes\":{},\"id\":\"1421\",\"type\":\"SaveTool\"},{\"attributes\":{},\"id\":\"1487\",\"type\":\"UnionRenderers\"},{\"attributes\":{\"callback\":null,\"data\":{\"x\":[0,1],\"y\":[0,1]},\"selected\":{\"id\":\"1488\",\"type\":\"Selection\"},\"selection_policy\":{\"id\":\"1487\",\"type\":\"UnionRenderers\"}},\"id\":\"1444\",\"type\":\"ColumnDataSource\"},{\"attributes\":{\"bottom_units\":\"screen\",\"fill_alpha\":{\"value\":0.5},\"fill_color\":{\"value\":\"lightgrey\"},\"left_units\":\"screen\",\"level\":\"overlay\",\"line_alpha\":{\"value\":1.0},\"line_color\":{\"value\":\"black\"},\"line_dash\":[4,4],\"line_width\":{\"value\":2},\"render_mode\":\"css\",\"right_units\":\"screen\",\"top_units\":\"screen\"},\"id\":\"1441\",\"type\":\"BoxAnnotation\"},{\"attributes\":{\"ticker\":{\"id\":\"1409\",\"type\":\"BasicTicker\"}},\"id\":\"1412\",\"type\":\"Grid\"},{\"attributes\":{\"source\":{\"id\":\"1431\",\"type\":\"ColumnDataSource\"}},\"id\":\"1435\",\"type\":\"CDSView\"},{\"attributes\":{\"line_alpha\":0.1,\"line_color\":\"#1f77b4\",\"line_width\":2,\"x\":{\"field\":\"x\"},\"y\":{\"field\":\"y\"}},\"id\":\"1433\",\"type\":\"Line\"},{\"attributes\":{},\"id\":\"1485\",\"type\":\"UnionRenderers\"},{\"attributes\":{\"items\":[{\"id\":\"1443\",\"type\":\"LegendItem\"}]},\"id\":\"1442\",\"type\":\"Legend\"},{\"attributes\":{},\"id\":\"1414\",\"type\":\"BasicTicker\"},{\"attributes\":{\"overlay\":{\"id\":\"1441\",\"type\":\"BoxAnnotation\"}},\"id\":\"1420\",\"type\":\"BoxZoomTool\"},{\"attributes\":{\"callback\":null,\"data\":{\"x\":{\"__ndarray__\":\"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\",\"dtype\":\"float64\",\"shape\":[1892]},\"y\":{\"__ndarray__\":\"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\",\"dtype\":\"float64\",\"shape\":[1892]}},\"selected\":{\"id\":\"1486\",\"type\":\"Selection\"},\"selection_policy\":{\"id\":\"1485\",\"type\":\"UnionRenderers\"}},\"id\":\"1431\",\"type\":\"ColumnDataSource\"},{\"attributes\":{\"dimension\":1,\"ticker\":{\"id\":\"1414\",\"type\":\"BasicTicker\"}},\"id\":\"1417\",\"type\":\"Grid\"},{\"attributes\":{},\"id\":\"1406\",\"type\":\"LinearScale\"},{\"attributes\":{},\"id\":\"1423\",\"type\":\"HelpTool\"},{\"attributes\":{\"label\":{\"value\":\"AUC = 0.735\"},\"renderers\":[{\"id\":\"1434\",\"type\":\"GlyphRenderer\"}]},\"id\":\"1443\",\"type\":\"LegendItem\"},{\"attributes\":{\"callback\":null},\"id\":\"1402\",\"type\":\"DataRange1d\"},{\"attributes\":{},\"id\":\"1486\",\"type\":\"Selection\"},{\"attributes\":{\"formatter\":{\"id\":\"1438\",\"type\":\"BasicTickFormatter\"},\"ticker\":{\"id\":\"1409\",\"type\":\"BasicTicker\"}},\"id\":\"1408\",\"type\":\"LinearAxis\"},{\"attributes\":{\"line_alpha\":0.1,\"line_color\":\"#1f77b4\",\"line_dash\":[2,4,6,4],\"line_width\":2,\"x\":{\"field\":\"x\"},\"y\":{\"field\":\"y\"}},\"id\":\"1446\",\"type\":\"Line\"},{\"attributes\":{\"callback\":null},\"id\":\"1400\",\"type\":\"DataRange1d\"},{\"attributes\":{\"source\":{\"id\":\"1444\",\"type\":\"ColumnDataSource\"}},\"id\":\"1448\",\"type\":\"CDSView\"},{\"attributes\":{},\"id\":\"1422\",\"type\":\"ResetTool\"},{\"attributes\":{\"formatter\":{\"id\":\"1440\",\"type\":\"BasicTickFormatter\"},\"ticker\":{\"id\":\"1414\",\"type\":\"BasicTicker\"}},\"id\":\"1413\",\"type\":\"LinearAxis\"},{\"attributes\":{},\"id\":\"1419\",\"type\":\"WheelZoomTool\"},{\"attributes\":{\"data_source\":{\"id\":\"1444\",\"type\":\"ColumnDataSource\"},\"glyph\":{\"id\":\"1445\",\"type\":\"Line\"},\"hover_glyph\":null,\"muted_glyph\":null,\"nonselection_glyph\":{\"id\":\"1446\",\"type\":\"Line\"},\"selection_glyph\":null,\"view\":{\"id\":\"1448\",\"type\":\"CDSView\"}},\"id\":\"1447\",\"type\":\"GlyphRenderer\"},{\"attributes\":{},\"id\":\"1488\",\"type\":\"Selection\"},{\"attributes\":{\"line_color\":\"#0077bc\",\"line_width\":2,\"x\":{\"field\":\"x\"},\"y\":{\"field\":\"y\"}},\"id\":\"1432\",\"type\":\"Line\"},{\"attributes\":{},\"id\":\"1404\",\"type\":\"LinearScale\"},{\"attributes\":{},\"id\":\"1440\",\"type\":\"BasicTickFormatter\"},{\"attributes\":{\"text\":\"ROC Curve - Train data\"},\"id\":\"1398\",\"type\":\"Title\"},{\"attributes\":{\"data_source\":{\"id\":\"1431\",\"type\":\"ColumnDataSource\"},\"glyph\":{\"id\":\"1432\",\"type\":\"Line\"},\"hover_glyph\":null,\"muted_glyph\":null,\"nonselection_glyph\":{\"id\":\"1433\",\"type\":\"Line\"},\"selection_glyph\":null,\"view\":{\"id\":\"1435\",\"type\":\"CDSView\"}},\"id\":\"1434\",\"type\":\"GlyphRenderer\"}],\"root_ids\":[\"1397\"]},\"title\":\"Bokeh Application\",\"version\":\"1.4.0\"}};\n",
       "  var render_items = [{\"docid\":\"cd1df993-c357-4faa-ac79-30ecf2fd02a2\",\"roots\":{\"1397\":\"af049928-03ca-459f-95de-66615f4d6e92\"}}];\n",
       "  root.Bokeh.embed.embed_items_notebook(docs_json, render_items);\n",
       "\n",
       "  }\n",
       "  if (root.Bokeh !== undefined) {\n",
       "    embed_document(root);\n",
       "  } else {\n",
       "    var attempts = 0;\n",
       "    var timer = setInterval(function(root) {\n",
       "      if (root.Bokeh !== undefined) {\n",
       "        clearInterval(timer);\n",
       "        embed_document(root);\n",
       "      } else {\n",
       "        attempts++;\n",
       "        if (attempts > 100) {\n",
       "          clearInterval(timer);\n",
       "          console.log(\"Bokeh: ERROR: Unable to run BokehJS code because BokehJS library is missing\");\n",
       "        }\n",
       "      }\n",
       "    }, 10, root)\n",
       "  }\n",
       "})(window);"
      ],
      "application/vnd.bokehjs_exec.v0+json": ""
     },
     "metadata": {
      "application/vnd.bokehjs_exec.v0+json": {
       "id": "1397"
      },
      "tags": []
     },
     "output_type": "display_data"
    }
   ],
   "source": [
    "#from bokeh.charts import Histogram\n",
    "from ipywidgets import interact\n",
    "from bokeh.plotting import figure\n",
    "from bokeh.io import push_notebook, show, output_notebook\n",
    "\n",
    "output_notebook()\n",
    "\n",
    "from sklearn import metrics\n",
    "preds = clf.predict_proba(features_train)[:,1]\n",
    "\n",
    "fpr, tpr, _ = metrics.roc_curve(np.array(label_train), preds)\n",
    "auc = metrics.auc(fpr,tpr)\n",
    "\n",
    "p = figure(title=\"ROC Curve - Train data\")\n",
    "r = p.line(fpr,tpr,color='#0077bc',legend_label = 'AUC = '+ str(round(auc,3)), line_width=2)\n",
    "s = p.line([0,1],[0,1], color= '#d15555',line_dash='dotdash',line_width=2)\n",
    "show(p)"
   ]
  },
  {
   "cell_type": "code",
   "execution_count": 0,
   "metadata": {
    "colab": {
     "base_uri": "https://localhost:8080/",
     "height": 617
    },
    "colab_type": "code",
    "executionInfo": {
     "elapsed": 1101,
     "status": "ok",
     "timestamp": 1582992174620,
     "user": {
      "displayName": "GOURAB HAZRA",
      "photoUrl": "https://lh3.googleusercontent.com/a-/AOh14GiV5LcY5TILfyTv14CM8FI6Ar76G1ZTqnHlDGG2=s64",
      "userId": "12230592498902526703"
     },
     "user_tz": -330
    },
    "id": "by05P9hVmcQ8",
    "outputId": "59af01df-6a44-4f24-8648-bddfa1836cfe"
   },
   "outputs": [
    {
     "data": {
      "application/javascript": [
       "\n",
       "(function(root) {\n",
       "  function now() {\n",
       "    return new Date();\n",
       "  }\n",
       "\n",
       "  var force = true;\n",
       "\n",
       "  if (typeof root._bokeh_onload_callbacks === \"undefined\" || force === true) {\n",
       "    root._bokeh_onload_callbacks = [];\n",
       "    root._bokeh_is_loading = undefined;\n",
       "  }\n",
       "\n",
       "  var JS_MIME_TYPE = 'application/javascript';\n",
       "  var HTML_MIME_TYPE = 'text/html';\n",
       "  var EXEC_MIME_TYPE = 'application/vnd.bokehjs_exec.v0+json';\n",
       "  var CLASS_NAME = 'output_bokeh rendered_html';\n",
       "\n",
       "  /**\n",
       "   * Render data to the DOM node\n",
       "   */\n",
       "  function render(props, node) {\n",
       "    var script = document.createElement(\"script\");\n",
       "    node.appendChild(script);\n",
       "  }\n",
       "\n",
       "  /**\n",
       "   * Handle when an output is cleared or removed\n",
       "   */\n",
       "  function handleClearOutput(event, handle) {\n",
       "    var cell = handle.cell;\n",
       "\n",
       "    var id = cell.output_area._bokeh_element_id;\n",
       "    var server_id = cell.output_area._bokeh_server_id;\n",
       "    // Clean up Bokeh references\n",
       "    if (id != null && id in Bokeh.index) {\n",
       "      Bokeh.index[id].model.document.clear();\n",
       "      delete Bokeh.index[id];\n",
       "    }\n",
       "\n",
       "    if (server_id !== undefined) {\n",
       "      // Clean up Bokeh references\n",
       "      var cmd = \"from bokeh.io.state import curstate; print(curstate().uuid_to_server['\" + server_id + \"'].get_sessions()[0].document.roots[0]._id)\";\n",
       "      cell.notebook.kernel.execute(cmd, {\n",
       "        iopub: {\n",
       "          output: function(msg) {\n",
       "            var id = msg.content.text.trim();\n",
       "            if (id in Bokeh.index) {\n",
       "              Bokeh.index[id].model.document.clear();\n",
       "              delete Bokeh.index[id];\n",
       "            }\n",
       "          }\n",
       "        }\n",
       "      });\n",
       "      // Destroy server and session\n",
       "      var cmd = \"import bokeh.io.notebook as ion; ion.destroy_server('\" + server_id + \"')\";\n",
       "      cell.notebook.kernel.execute(cmd);\n",
       "    }\n",
       "  }\n",
       "\n",
       "  /**\n",
       "   * Handle when a new output is added\n",
       "   */\n",
       "  function handleAddOutput(event, handle) {\n",
       "    var output_area = handle.output_area;\n",
       "    var output = handle.output;\n",
       "\n",
       "    // limit handleAddOutput to display_data with EXEC_MIME_TYPE content only\n",
       "    if ((output.output_type != \"display_data\") || (!output.data.hasOwnProperty(EXEC_MIME_TYPE))) {\n",
       "      return\n",
       "    }\n",
       "\n",
       "    var toinsert = output_area.element.find(\".\" + CLASS_NAME.split(' ')[0]);\n",
       "\n",
       "    if (output.metadata[EXEC_MIME_TYPE][\"id\"] !== undefined) {\n",
       "      toinsert[toinsert.length - 1].firstChild.textContent = output.data[JS_MIME_TYPE];\n",
       "      // store reference to embed id on output_area\n",
       "      output_area._bokeh_element_id = output.metadata[EXEC_MIME_TYPE][\"id\"];\n",
       "    }\n",
       "    if (output.metadata[EXEC_MIME_TYPE][\"server_id\"] !== undefined) {\n",
       "      var bk_div = document.createElement(\"div\");\n",
       "      bk_div.innerHTML = output.data[HTML_MIME_TYPE];\n",
       "      var script_attrs = bk_div.children[0].attributes;\n",
       "      for (var i = 0; i < script_attrs.length; i++) {\n",
       "        toinsert[toinsert.length - 1].firstChild.setAttribute(script_attrs[i].name, script_attrs[i].value);\n",
       "      }\n",
       "      // store reference to server id on output_area\n",
       "      output_area._bokeh_server_id = output.metadata[EXEC_MIME_TYPE][\"server_id\"];\n",
       "    }\n",
       "  }\n",
       "\n",
       "  function register_renderer(events, OutputArea) {\n",
       "\n",
       "    function append_mime(data, metadata, element) {\n",
       "      // create a DOM node to render to\n",
       "      var toinsert = this.create_output_subarea(\n",
       "        metadata,\n",
       "        CLASS_NAME,\n",
       "        EXEC_MIME_TYPE\n",
       "      );\n",
       "      this.keyboard_manager.register_events(toinsert);\n",
       "      // Render to node\n",
       "      var props = {data: data, metadata: metadata[EXEC_MIME_TYPE]};\n",
       "      render(props, toinsert[toinsert.length - 1]);\n",
       "      element.append(toinsert);\n",
       "      return toinsert\n",
       "    }\n",
       "\n",
       "    /* Handle when an output is cleared or removed */\n",
       "    events.on('clear_output.CodeCell', handleClearOutput);\n",
       "    events.on('delete.Cell', handleClearOutput);\n",
       "\n",
       "    /* Handle when a new output is added */\n",
       "    events.on('output_added.OutputArea', handleAddOutput);\n",
       "\n",
       "    /**\n",
       "     * Register the mime type and append_mime function with output_area\n",
       "     */\n",
       "    OutputArea.prototype.register_mime_type(EXEC_MIME_TYPE, append_mime, {\n",
       "      /* Is output safe? */\n",
       "      safe: true,\n",
       "      /* Index of renderer in `output_area.display_order` */\n",
       "      index: 0\n",
       "    });\n",
       "  }\n",
       "\n",
       "  // register the mime type if in Jupyter Notebook environment and previously unregistered\n",
       "  if (root.Jupyter !== undefined) {\n",
       "    var events = require('base/js/events');\n",
       "    var OutputArea = require('notebook/js/outputarea').OutputArea;\n",
       "\n",
       "    if (OutputArea.prototype.mime_types().indexOf(EXEC_MIME_TYPE) == -1) {\n",
       "      register_renderer(events, OutputArea);\n",
       "    }\n",
       "  }\n",
       "\n",
       "  \n",
       "  if (typeof (root._bokeh_timeout) === \"undefined\" || force === true) {\n",
       "    root._bokeh_timeout = Date.now() + 5000;\n",
       "    root._bokeh_failed_load = false;\n",
       "  }\n",
       "\n",
       "  var NB_LOAD_WARNING = {'data': {'text/html':\n",
       "     \"<div style='background-color: #fdd'>\\n\"+\n",
       "     \"<p>\\n\"+\n",
       "     \"BokehJS does not appear to have successfully loaded. If loading BokehJS from CDN, this \\n\"+\n",
       "     \"may be due to a slow or bad network connection. Possible fixes:\\n\"+\n",
       "     \"</p>\\n\"+\n",
       "     \"<ul>\\n\"+\n",
       "     \"<li>re-rerun `output_notebook()` to attempt to load from CDN again, or</li>\\n\"+\n",
       "     \"<li>use INLINE resources instead, as so:</li>\\n\"+\n",
       "     \"</ul>\\n\"+\n",
       "     \"<code>\\n\"+\n",
       "     \"from bokeh.resources import INLINE\\n\"+\n",
       "     \"output_notebook(resources=INLINE)\\n\"+\n",
       "     \"</code>\\n\"+\n",
       "     \"</div>\"}};\n",
       "\n",
       "  function display_loaded() {\n",
       "    var el = document.getElementById(null);\n",
       "    if (el != null) {\n",
       "      el.textContent = \"BokehJS is loading...\";\n",
       "    }\n",
       "    if (root.Bokeh !== undefined) {\n",
       "      if (el != null) {\n",
       "        el.textContent = \"BokehJS \" + root.Bokeh.version + \" successfully loaded.\";\n",
       "      }\n",
       "    } else if (Date.now() < root._bokeh_timeout) {\n",
       "      setTimeout(display_loaded, 100)\n",
       "    }\n",
       "  }\n",
       "\n",
       "\n",
       "  function run_callbacks() {\n",
       "    try {\n",
       "      root._bokeh_onload_callbacks.forEach(function(callback) {\n",
       "        if (callback != null)\n",
       "          callback();\n",
       "      });\n",
       "    } finally {\n",
       "      delete root._bokeh_onload_callbacks\n",
       "    }\n",
       "    console.debug(\"Bokeh: all callbacks have finished\");\n",
       "  }\n",
       "\n",
       "  function load_libs(css_urls, js_urls, callback) {\n",
       "    if (css_urls == null) css_urls = [];\n",
       "    if (js_urls == null) js_urls = [];\n",
       "\n",
       "    root._bokeh_onload_callbacks.push(callback);\n",
       "    if (root._bokeh_is_loading > 0) {\n",
       "      console.debug(\"Bokeh: BokehJS is being loaded, scheduling callback at\", now());\n",
       "      return null;\n",
       "    }\n",
       "    if (js_urls == null || js_urls.length === 0) {\n",
       "      run_callbacks();\n",
       "      return null;\n",
       "    }\n",
       "    console.debug(\"Bokeh: BokehJS not loaded, scheduling load and callback at\", now());\n",
       "    root._bokeh_is_loading = css_urls.length + js_urls.length;\n",
       "\n",
       "    function on_load() {\n",
       "      root._bokeh_is_loading--;\n",
       "      if (root._bokeh_is_loading === 0) {\n",
       "        console.debug(\"Bokeh: all BokehJS libraries/stylesheets loaded\");\n",
       "        run_callbacks()\n",
       "      }\n",
       "    }\n",
       "\n",
       "    function on_error() {\n",
       "      console.error(\"failed to load \" + url);\n",
       "    }\n",
       "\n",
       "    for (var i = 0; i < css_urls.length; i++) {\n",
       "      var url = css_urls[i];\n",
       "      const element = document.createElement(\"link\");\n",
       "      element.onload = on_load;\n",
       "      element.onerror = on_error;\n",
       "      element.rel = \"stylesheet\";\n",
       "      element.type = \"text/css\";\n",
       "      element.href = url;\n",
       "      console.debug(\"Bokeh: injecting link tag for BokehJS stylesheet: \", url);\n",
       "      document.body.appendChild(element);\n",
       "    }\n",
       "\n",
       "    for (var i = 0; i < js_urls.length; i++) {\n",
       "      var url = js_urls[i];\n",
       "      var element = document.createElement('script');\n",
       "      element.onload = on_load;\n",
       "      element.onerror = on_error;\n",
       "      element.async = false;\n",
       "      element.src = url;\n",
       "      console.debug(\"Bokeh: injecting script tag for BokehJS library: \", url);\n",
       "      document.head.appendChild(element);\n",
       "    }\n",
       "  };\n",
       "\n",
       "  function inject_raw_css(css) {\n",
       "    const element = document.createElement(\"style\");\n",
       "    element.appendChild(document.createTextNode(css));\n",
       "    document.body.appendChild(element);\n",
       "  }\n",
       "\n",
       "  \n",
       "  var js_urls = [\"https://cdn.pydata.org/bokeh/release/bokeh-1.4.0.min.js\", \"https://cdn.pydata.org/bokeh/release/bokeh-widgets-1.4.0.min.js\", \"https://cdn.pydata.org/bokeh/release/bokeh-tables-1.4.0.min.js\", \"https://cdn.pydata.org/bokeh/release/bokeh-gl-1.4.0.min.js\"];\n",
       "  var css_urls = [];\n",
       "  \n",
       "\n",
       "  var inline_js = [\n",
       "    function(Bokeh) {\n",
       "      Bokeh.set_log_level(\"info\");\n",
       "    },\n",
       "    function(Bokeh) {\n",
       "    \n",
       "    \n",
       "    }\n",
       "  ];\n",
       "\n",
       "  function run_inline_js() {\n",
       "    \n",
       "    if (root.Bokeh !== undefined || force === true) {\n",
       "      \n",
       "    for (var i = 0; i < inline_js.length; i++) {\n",
       "      inline_js[i].call(root, root.Bokeh);\n",
       "    }\n",
       "    } else if (Date.now() < root._bokeh_timeout) {\n",
       "      setTimeout(run_inline_js, 100);\n",
       "    } else if (!root._bokeh_failed_load) {\n",
       "      console.log(\"Bokeh: BokehJS failed to load within specified timeout.\");\n",
       "      root._bokeh_failed_load = true;\n",
       "    } else if (force !== true) {\n",
       "      var cell = $(document.getElementById(null)).parents('.cell').data().cell;\n",
       "      cell.output_area.append_execute_result(NB_LOAD_WARNING)\n",
       "    }\n",
       "\n",
       "  }\n",
       "\n",
       "  if (root._bokeh_is_loading === 0) {\n",
       "    console.debug(\"Bokeh: BokehJS loaded, going straight to plotting\");\n",
       "    run_inline_js();\n",
       "  } else {\n",
       "    load_libs(css_urls, js_urls, function() {\n",
       "      console.debug(\"Bokeh: BokehJS plotting callback run at\", now());\n",
       "      run_inline_js();\n",
       "    });\n",
       "  }\n",
       "}(window));"
      ],
      "application/vnd.bokehjs_load.v0+json": "\n(function(root) {\n  function now() {\n    return new Date();\n  }\n\n  var force = true;\n\n  if (typeof root._bokeh_onload_callbacks === \"undefined\" || force === true) {\n    root._bokeh_onload_callbacks = [];\n    root._bokeh_is_loading = undefined;\n  }\n\n  \n\n  \n  if (typeof (root._bokeh_timeout) === \"undefined\" || force === true) {\n    root._bokeh_timeout = Date.now() + 5000;\n    root._bokeh_failed_load = false;\n  }\n\n  var NB_LOAD_WARNING = {'data': {'text/html':\n     \"<div style='background-color: #fdd'>\\n\"+\n     \"<p>\\n\"+\n     \"BokehJS does not appear to have successfully loaded. If loading BokehJS from CDN, this \\n\"+\n     \"may be due to a slow or bad network connection. Possible fixes:\\n\"+\n     \"</p>\\n\"+\n     \"<ul>\\n\"+\n     \"<li>re-rerun `output_notebook()` to attempt to load from CDN again, or</li>\\n\"+\n     \"<li>use INLINE resources instead, as so:</li>\\n\"+\n     \"</ul>\\n\"+\n     \"<code>\\n\"+\n     \"from bokeh.resources import INLINE\\n\"+\n     \"output_notebook(resources=INLINE)\\n\"+\n     \"</code>\\n\"+\n     \"</div>\"}};\n\n  function display_loaded() {\n    var el = document.getElementById(null);\n    if (el != null) {\n      el.textContent = \"BokehJS is loading...\";\n    }\n    if (root.Bokeh !== undefined) {\n      if (el != null) {\n        el.textContent = \"BokehJS \" + root.Bokeh.version + \" successfully loaded.\";\n      }\n    } else if (Date.now() < root._bokeh_timeout) {\n      setTimeout(display_loaded, 100)\n    }\n  }\n\n\n  function run_callbacks() {\n    try {\n      root._bokeh_onload_callbacks.forEach(function(callback) {\n        if (callback != null)\n          callback();\n      });\n    } finally {\n      delete root._bokeh_onload_callbacks\n    }\n    console.debug(\"Bokeh: all callbacks have finished\");\n  }\n\n  function load_libs(css_urls, js_urls, callback) {\n    if (css_urls == null) css_urls = [];\n    if (js_urls == null) js_urls = [];\n\n    root._bokeh_onload_callbacks.push(callback);\n    if (root._bokeh_is_loading > 0) {\n      console.debug(\"Bokeh: BokehJS is being loaded, scheduling callback at\", now());\n      return null;\n    }\n    if (js_urls == null || js_urls.length === 0) {\n      run_callbacks();\n      return null;\n    }\n    console.debug(\"Bokeh: BokehJS not loaded, scheduling load and callback at\", now());\n    root._bokeh_is_loading = css_urls.length + js_urls.length;\n\n    function on_load() {\n      root._bokeh_is_loading--;\n      if (root._bokeh_is_loading === 0) {\n        console.debug(\"Bokeh: all BokehJS libraries/stylesheets loaded\");\n        run_callbacks()\n      }\n    }\n\n    function on_error() {\n      console.error(\"failed to load \" + url);\n    }\n\n    for (var i = 0; i < css_urls.length; i++) {\n      var url = css_urls[i];\n      const element = document.createElement(\"link\");\n      element.onload = on_load;\n      element.onerror = on_error;\n      element.rel = \"stylesheet\";\n      element.type = \"text/css\";\n      element.href = url;\n      console.debug(\"Bokeh: injecting link tag for BokehJS stylesheet: \", url);\n      document.body.appendChild(element);\n    }\n\n    for (var i = 0; i < js_urls.length; i++) {\n      var url = js_urls[i];\n      var element = document.createElement('script');\n      element.onload = on_load;\n      element.onerror = on_error;\n      element.async = false;\n      element.src = url;\n      console.debug(\"Bokeh: injecting script tag for BokehJS library: \", url);\n      document.head.appendChild(element);\n    }\n  };\n\n  function inject_raw_css(css) {\n    const element = document.createElement(\"style\");\n    element.appendChild(document.createTextNode(css));\n    document.body.appendChild(element);\n  }\n\n  \n  var js_urls = [\"https://cdn.pydata.org/bokeh/release/bokeh-1.4.0.min.js\", \"https://cdn.pydata.org/bokeh/release/bokeh-widgets-1.4.0.min.js\", \"https://cdn.pydata.org/bokeh/release/bokeh-tables-1.4.0.min.js\", \"https://cdn.pydata.org/bokeh/release/bokeh-gl-1.4.0.min.js\"];\n  var css_urls = [];\n  \n\n  var inline_js = [\n    function(Bokeh) {\n      Bokeh.set_log_level(\"info\");\n    },\n    function(Bokeh) {\n    \n    \n    }\n  ];\n\n  function run_inline_js() {\n    \n    if (root.Bokeh !== undefined || force === true) {\n      \n    for (var i = 0; i < inline_js.length; i++) {\n      inline_js[i].call(root, root.Bokeh);\n    }\n    } else if (Date.now() < root._bokeh_timeout) {\n      setTimeout(run_inline_js, 100);\n    } else if (!root._bokeh_failed_load) {\n      console.log(\"Bokeh: BokehJS failed to load within specified timeout.\");\n      root._bokeh_failed_load = true;\n    } else if (force !== true) {\n      var cell = $(document.getElementById(null)).parents('.cell').data().cell;\n      cell.output_area.append_execute_result(NB_LOAD_WARNING)\n    }\n\n  }\n\n  if (root._bokeh_is_loading === 0) {\n    console.debug(\"Bokeh: BokehJS loaded, going straight to plotting\");\n    run_inline_js();\n  } else {\n    load_libs(css_urls, js_urls, function() {\n      console.debug(\"Bokeh: BokehJS plotting callback run at\", now());\n      run_inline_js();\n    });\n  }\n}(window));"
     },
     "metadata": {
      "tags": []
     },
     "output_type": "display_data"
    },
    {
     "data": {
      "text/html": [
       "\n",
       "\n",
       "\n",
       "\n",
       "\n",
       "\n",
       "  <div class=\"bk-root\" id=\"13cc3726-e52c-4e3f-bbdb-2f74bcd71cb2\" data-root-id=\"1123\"></div>\n"
      ]
     },
     "metadata": {
      "tags": []
     },
     "output_type": "display_data"
    },
    {
     "data": {
      "application/javascript": [
       "(function(root) {\n",
       "  function embed_document(root) {\n",
       "    \n",
       "  var docs_json = {\"bda5bf36-c5a2-4e7a-a6c8-89a0632cb2b7\":{\"roots\":{\"references\":[{\"attributes\":{\"below\":[{\"id\":\"1134\",\"type\":\"LinearAxis\"}],\"center\":[{\"id\":\"1138\",\"type\":\"Grid\"},{\"id\":\"1143\",\"type\":\"Grid\"},{\"id\":\"1168\",\"type\":\"Legend\"}],\"left\":[{\"id\":\"1139\",\"type\":\"LinearAxis\"}],\"renderers\":[{\"id\":\"1160\",\"type\":\"GlyphRenderer\"},{\"id\":\"1173\",\"type\":\"GlyphRenderer\"}],\"title\":{\"id\":\"1124\",\"type\":\"Title\"},\"toolbar\":{\"id\":\"1150\",\"type\":\"Toolbar\"},\"x_range\":{\"id\":\"1126\",\"type\":\"DataRange1d\"},\"x_scale\":{\"id\":\"1130\",\"type\":\"LinearScale\"},\"y_range\":{\"id\":\"1128\",\"type\":\"DataRange1d\"},\"y_scale\":{\"id\":\"1132\",\"type\":\"LinearScale\"}},\"id\":\"1123\",\"subtype\":\"Figure\",\"type\":\"Plot\"},{\"attributes\":{},\"id\":\"1130\",\"type\":\"LinearScale\"},{\"attributes\":{\"items\":[{\"id\":\"1169\",\"type\":\"LegendItem\"}]},\"id\":\"1168\",\"type\":\"Legend\"},{\"attributes\":{},\"id\":\"1145\",\"type\":\"WheelZoomTool\"},{\"attributes\":{\"data_source\":{\"id\":\"1170\",\"type\":\"ColumnDataSource\"},\"glyph\":{\"id\":\"1171\",\"type\":\"Line\"},\"hover_glyph\":null,\"muted_glyph\":null,\"nonselection_glyph\":{\"id\":\"1172\",\"type\":\"Line\"},\"selection_glyph\":null,\"view\":{\"id\":\"1174\",\"type\":\"CDSView\"}},\"id\":\"1173\",\"type\":\"GlyphRenderer\"},{\"attributes\":{\"data_source\":{\"id\":\"1157\",\"type\":\"ColumnDataSource\"},\"glyph\":{\"id\":\"1158\",\"type\":\"Line\"},\"hover_glyph\":null,\"muted_glyph\":null,\"nonselection_glyph\":{\"id\":\"1159\",\"type\":\"Line\"},\"selection_glyph\":null,\"view\":{\"id\":\"1161\",\"type\":\"CDSView\"}},\"id\":\"1160\",\"type\":\"GlyphRenderer\"},{\"attributes\":{\"callback\":null,\"data\":{\"x\":[0,1],\"y\":[0,1]},\"selected\":{\"id\":\"1194\",\"type\":\"Selection\"},\"selection_policy\":{\"id\":\"1193\",\"type\":\"UnionRenderers\"}},\"id\":\"1170\",\"type\":\"ColumnDataSource\"},{\"attributes\":{},\"id\":\"1147\",\"type\":\"SaveTool\"},{\"attributes\":{\"callback\":null},\"id\":\"1126\",\"type\":\"DataRange1d\"},{\"attributes\":{},\"id\":\"1149\",\"type\":\"HelpTool\"},{\"attributes\":{\"line_color\":\"#0077bc\",\"line_width\":2,\"x\":{\"field\":\"x\"},\"y\":{\"field\":\"y\"}},\"id\":\"1158\",\"type\":\"Line\"},{\"attributes\":{},\"id\":\"1164\",\"type\":\"BasicTickFormatter\"},{\"attributes\":{\"bottom_units\":\"screen\",\"fill_alpha\":{\"value\":0.5},\"fill_color\":{\"value\":\"lightgrey\"},\"left_units\":\"screen\",\"level\":\"overlay\",\"line_alpha\":{\"value\":1.0},\"line_color\":{\"value\":\"black\"},\"line_dash\":[4,4],\"line_width\":{\"value\":2},\"render_mode\":\"css\",\"right_units\":\"screen\",\"top_units\":\"screen\"},\"id\":\"1167\",\"type\":\"BoxAnnotation\"},{\"attributes\":{\"formatter\":{\"id\":\"1164\",\"type\":\"BasicTickFormatter\"},\"ticker\":{\"id\":\"1135\",\"type\":\"BasicTicker\"}},\"id\":\"1134\",\"type\":\"LinearAxis\"},{\"attributes\":{\"source\":{\"id\":\"1157\",\"type\":\"ColumnDataSource\"}},\"id\":\"1161\",\"type\":\"CDSView\"},{\"attributes\":{\"callback\":null,\"data\":{\"x\":{\"__ndarray__\":\"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\",\"dtype\":\"float64\",\"shape\":[1304]},\"y\":{\"__ndarray__\":\"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\",\"dtype\":\"float64\",\"shape\":[1304]}},\"selected\":{\"id\":\"1192\",\"type\":\"Selection\"},\"selection_policy\":{\"id\":\"1191\",\"type\":\"UnionRenderers\"}},\"id\":\"1157\",\"type\":\"ColumnDataSource\"},{\"attributes\":{\"overlay\":{\"id\":\"1167\",\"type\":\"BoxAnnotation\"}},\"id\":\"1146\",\"type\":\"BoxZoomTool\"},{\"attributes\":{},\"id\":\"1135\",\"type\":\"BasicTicker\"},{\"attributes\":{\"text\":\"ROC Curve - Test data\"},\"id\":\"1124\",\"type\":\"Title\"},{\"attributes\":{},\"id\":\"1166\",\"type\":\"BasicTickFormatter\"},{\"attributes\":{\"formatter\":{\"id\":\"1166\",\"type\":\"BasicTickFormatter\"},\"ticker\":{\"id\":\"1140\",\"type\":\"BasicTicker\"}},\"id\":\"1139\",\"type\":\"LinearAxis\"},{\"attributes\":{\"source\":{\"id\":\"1170\",\"type\":\"ColumnDataSource\"}},\"id\":\"1174\",\"type\":\"CDSView\"},{\"attributes\":{},\"id\":\"1193\",\"type\":\"UnionRenderers\"},{\"attributes\":{},\"id\":\"1132\",\"type\":\"LinearScale\"},{\"attributes\":{},\"id\":\"1148\",\"type\":\"ResetTool\"},{\"attributes\":{\"callback\":null},\"id\":\"1128\",\"type\":\"DataRange1d\"},{\"attributes\":{\"active_drag\":\"auto\",\"active_inspect\":\"auto\",\"active_multi\":null,\"active_scroll\":\"auto\",\"active_tap\":\"auto\",\"tools\":[{\"id\":\"1144\",\"type\":\"PanTool\"},{\"id\":\"1145\",\"type\":\"WheelZoomTool\"},{\"id\":\"1146\",\"type\":\"BoxZoomTool\"},{\"id\":\"1147\",\"type\":\"SaveTool\"},{\"id\":\"1148\",\"type\":\"ResetTool\"},{\"id\":\"1149\",\"type\":\"HelpTool\"}]},\"id\":\"1150\",\"type\":\"Toolbar\"},{\"attributes\":{},\"id\":\"1144\",\"type\":\"PanTool\"},{\"attributes\":{},\"id\":\"1140\",\"type\":\"BasicTicker\"},{\"attributes\":{},\"id\":\"1194\",\"type\":\"Selection\"},{\"attributes\":{\"line_alpha\":0.1,\"line_color\":\"#1f77b4\",\"line_width\":2,\"x\":{\"field\":\"x\"},\"y\":{\"field\":\"y\"}},\"id\":\"1159\",\"type\":\"Line\"},{\"attributes\":{\"label\":{\"value\":\"AUC = 0.73\"},\"renderers\":[{\"id\":\"1160\",\"type\":\"GlyphRenderer\"}]},\"id\":\"1169\",\"type\":\"LegendItem\"},{\"attributes\":{\"line_color\":\"#d15555\",\"line_dash\":[2,4,6,4],\"line_width\":2,\"x\":{\"field\":\"x\"},\"y\":{\"field\":\"y\"}},\"id\":\"1171\",\"type\":\"Line\"},{\"attributes\":{\"ticker\":{\"id\":\"1135\",\"type\":\"BasicTicker\"}},\"id\":\"1138\",\"type\":\"Grid\"},{\"attributes\":{},\"id\":\"1191\",\"type\":\"UnionRenderers\"},{\"attributes\":{},\"id\":\"1192\",\"type\":\"Selection\"},{\"attributes\":{\"dimension\":1,\"ticker\":{\"id\":\"1140\",\"type\":\"BasicTicker\"}},\"id\":\"1143\",\"type\":\"Grid\"},{\"attributes\":{\"line_alpha\":0.1,\"line_color\":\"#1f77b4\",\"line_dash\":[2,4,6,4],\"line_width\":2,\"x\":{\"field\":\"x\"},\"y\":{\"field\":\"y\"}},\"id\":\"1172\",\"type\":\"Line\"}],\"root_ids\":[\"1123\"]},\"title\":\"Bokeh Application\",\"version\":\"1.4.0\"}};\n",
       "  var render_items = [{\"docid\":\"bda5bf36-c5a2-4e7a-a6c8-89a0632cb2b7\",\"roots\":{\"1123\":\"13cc3726-e52c-4e3f-bbdb-2f74bcd71cb2\"}}];\n",
       "  root.Bokeh.embed.embed_items_notebook(docs_json, render_items);\n",
       "\n",
       "  }\n",
       "  if (root.Bokeh !== undefined) {\n",
       "    embed_document(root);\n",
       "  } else {\n",
       "    var attempts = 0;\n",
       "    var timer = setInterval(function(root) {\n",
       "      if (root.Bokeh !== undefined) {\n",
       "        clearInterval(timer);\n",
       "        embed_document(root);\n",
       "      } else {\n",
       "        attempts++;\n",
       "        if (attempts > 100) {\n",
       "          clearInterval(timer);\n",
       "          console.log(\"Bokeh: ERROR: Unable to run BokehJS code because BokehJS library is missing\");\n",
       "        }\n",
       "      }\n",
       "    }, 10, root)\n",
       "  }\n",
       "})(window);"
      ],
      "application/vnd.bokehjs_exec.v0+json": ""
     },
     "metadata": {
      "application/vnd.bokehjs_exec.v0+json": {
       "id": "1123"
      },
      "tags": []
     },
     "output_type": "display_data"
    }
   ],
   "source": [
    "#from bokeh.charts import Histogram\n",
    "from ipywidgets import interact\n",
    "from bokeh.plotting import figure\n",
    "from bokeh.io import push_notebook, show, output_notebook\n",
    "output_notebook()\n",
    "\n",
    "from sklearn import metrics\n",
    "preds = clf.predict_proba(features_test)[:,1]\n",
    "\n",
    "fpr, tpr, _ = metrics.roc_curve(np.array(label_test), preds)\n",
    "auc = metrics.auc(fpr,tpr)\n",
    "\n",
    "p = figure(title=\"ROC Curve - Test data\")\n",
    "r = p.line(fpr,tpr,color='#0077bc',legend_label = 'AUC = '+ str(round(auc,3)), line_width=2)\n",
    "s = p.line([0,1],[0,1], color= '#d15555',line_dash='dotdash',line_width=2)\n",
    "show(p)"
   ]
  },
  {
   "cell_type": "markdown",
   "metadata": {
    "colab_type": "text",
    "id": "JUm5gb8BnNSq"
   },
   "source": [
    "Decile Plots and KS statistic"
   ]
  },
  {
   "cell_type": "code",
   "execution_count": 0,
   "metadata": {
    "colab": {},
    "colab_type": "code",
    "id": "vaspQh7fnPgH"
   },
   "outputs": [],
   "source": [
    "from collections import OrderedDict\n",
    "import pandas as pd\n",
    "import sys\n",
    "%matplotlib inline\n",
    "    \n",
    "def plot_pandas_style(styler):\n",
    "    from IPython.core.display import HTML\n",
    "    html = '\\n'.join([line.lstrip() for line in styler.render().split('\\n')])\n",
    "    return HTML(html)\n",
    "\n",
    "def highlight_max(s,color='yellow'):\n",
    "    '''\n",
    "    highlight the maximum in a Series yellow.\n",
    "    '''\n",
    "    is_max = s == s.max()\n",
    "    return ['background-color: {}'.format(color) if v else '' for v in is_max]\n",
    "\n",
    "def decile_labels(agg1,label,color='skyblue'):\n",
    "    agg_dummy = pd.DataFrame(OrderedDict((('TOTAL',0),('TARGET',0),('NONTARGET',0),('PCT_TAR',0),('CUM_TAR',0),('CUM_NONTAR',0),('DIST_TAR',0),('DIST_NONTAR',0),('SPREAD',0))),index=[0])\n",
    "    agg1 = agg1.append(agg_dummy).sort_index()\n",
    "    agg1.index.name = label\n",
    "    agg1 = agg1.style.apply(highlight_max, color = 'yellow', subset=['SPREAD'])\n",
    "    agg1.bar(subset=['TARGET'], color='{}'.format(color))\n",
    "    agg1.bar(subset=['TOTAL'], color='{}'.format(color))\n",
    "    agg1.bar(subset=['PCT_TAR'], color='{}'.format(color))\n",
    "    return(agg1)\n",
    "\n",
    "def deciling(data,decile_by,target,nontarget):\n",
    "    inputs = list(decile_by)\n",
    "    inputs.extend((target,nontarget))\n",
    "    decile = data[inputs]\n",
    "    grouped = decile.groupby(decile_by)\n",
    "    agg1 = pd.DataFrame({},index=[])\n",
    "    agg1['TOTAL'] = grouped.sum()[nontarget] + grouped.sum()[target]\n",
    "    agg1['TARGET'] = grouped.sum()[target]\n",
    "    agg1['NONTARGET'] = grouped.sum()[nontarget]\n",
    "    agg1['PCT_TAR'] = grouped.mean()[target]*100\n",
    "    agg1['CUM_TAR'] = grouped.sum()[target].cumsum()\n",
    "    agg1['CUM_NONTAR'] = grouped.sum()[nontarget].cumsum()\n",
    "    agg1['DIST_TAR'] = agg1['CUM_TAR']/agg1['TARGET'].sum()*100\n",
    "    agg1['DIST_NONTAR'] = agg1['CUM_NONTAR']/agg1['NONTARGET'].sum()*100\n",
    "    agg1['SPREAD'] = (agg1['DIST_TAR'] - agg1['DIST_NONTAR'])\n",
    "    agg1 = decile_labels(agg1,'DECILE',color='skyblue')\n",
    "    return(plot_pandas_style(agg1))"
   ]
  },
  {
   "cell_type": "code",
   "execution_count": 0,
   "metadata": {
    "colab": {},
    "colab_type": "code",
    "id": "ftRtpOUCnRcY"
   },
   "outputs": [],
   "source": [
    "def scoring(features,clf,target):\n",
    "    score = pd.DataFrame(clf.predict_proba(features)[:,1], columns = ['SCORE'])\n",
    "    score['DECILE'] = pd.qcut(score['SCORE'].rank(method = 'first'),10,labels=range(10,0,-1))\n",
    "    score['DECILE'] = score['DECILE'].astype(float)\n",
    "    score['TARGET'] = target\n",
    "    score['NONTARGET'] = 1 - target\n",
    "    return(score)"
   ]
  },
  {
   "cell_type": "code",
   "execution_count": 0,
   "metadata": {
    "colab": {},
    "colab_type": "code",
    "id": "luSumog_nTAw"
   },
   "outputs": [],
   "source": [
    "scores_train = scoring(features_train,clf,label_train)\n",
    "scores_test = scoring(features_test,clf,label_test)"
   ]
  },
  {
   "cell_type": "code",
   "execution_count": 0,
   "metadata": {
    "colab": {
     "base_uri": "https://localhost:8080/",
     "height": 278
    },
    "colab_type": "code",
    "executionInfo": {
     "elapsed": 733,
     "status": "ok",
     "timestamp": 1582992306648,
     "user": {
      "displayName": "GOURAB HAZRA",
      "photoUrl": "https://lh3.googleusercontent.com/a-/AOh14GiV5LcY5TILfyTv14CM8FI6Ar76G1ZTqnHlDGG2=s64",
      "userId": "12230592498902526703"
     },
     "user_tz": -330
    },
    "id": "cttIJbP8nUVy",
    "outputId": "8da2a291-8947-4387-eec2-c27f57930a5c"
   },
   "outputs": [
    {
     "data": {
      "text/html": [
       "<style  type=\"text/css\" >\n",
       "#T_41bac490_5b0d_11ea_b215_0242ac1c0002row0_col0 {\n",
       "width:  10em;\n",
       "height:  80%;\n",
       "}    #T_41bac490_5b0d_11ea_b215_0242ac1c0002row0_col1 {\n",
       "width:  10em;\n",
       "height:  80%;\n",
       "}    #T_41bac490_5b0d_11ea_b215_0242ac1c0002row0_col3 {\n",
       "width:  10em;\n",
       "height:  80%;\n",
       "}    #T_41bac490_5b0d_11ea_b215_0242ac1c0002row1_col0 {\n",
       "width:  10em;\n",
       "height:  80%;\n",
       "background:  linear-gradient(90deg,skyblue 100.0%, transparent 100.0%);\n",
       "}    #T_41bac490_5b0d_11ea_b215_0242ac1c0002row1_col1 {\n",
       "width:  10em;\n",
       "height:  80%;\n",
       "background:  linear-gradient(90deg,skyblue 100.0%, transparent 100.0%);\n",
       "}    #T_41bac490_5b0d_11ea_b215_0242ac1c0002row1_col3 {\n",
       "width:  10em;\n",
       "height:  80%;\n",
       "background:  linear-gradient(90deg,skyblue 100.0%, transparent 100.0%);\n",
       "}    #T_41bac490_5b0d_11ea_b215_0242ac1c0002row1_col8 {\n",
       "background-color:  yellow;\n",
       "}    #T_41bac490_5b0d_11ea_b215_0242ac1c0002row2_col0 {\n",
       "width:  10em;\n",
       "height:  80%;\n",
       "background:  linear-gradient(90deg,skyblue 99.9%, transparent 99.9%);\n",
       "}    #T_41bac490_5b0d_11ea_b215_0242ac1c0002row2_col1 {\n",
       "width:  10em;\n",
       "height:  80%;\n",
       "background:  linear-gradient(90deg,skyblue 4.3%, transparent 4.3%);\n",
       "}    #T_41bac490_5b0d_11ea_b215_0242ac1c0002row2_col3 {\n",
       "width:  10em;\n",
       "height:  80%;\n",
       "background:  linear-gradient(90deg,skyblue 4.3%, transparent 4.3%);\n",
       "}    #T_41bac490_5b0d_11ea_b215_0242ac1c0002row3_col0 {\n",
       "width:  10em;\n",
       "height:  80%;\n",
       "background:  linear-gradient(90deg,skyblue 100.0%, transparent 100.0%);\n",
       "}    #T_41bac490_5b0d_11ea_b215_0242ac1c0002row3_col1 {\n",
       "width:  10em;\n",
       "height:  80%;\n",
       "background:  linear-gradient(90deg,skyblue 0.2%, transparent 0.2%);\n",
       "}    #T_41bac490_5b0d_11ea_b215_0242ac1c0002row3_col3 {\n",
       "width:  10em;\n",
       "height:  80%;\n",
       "background:  linear-gradient(90deg,skyblue 0.2%, transparent 0.2%);\n",
       "}    #T_41bac490_5b0d_11ea_b215_0242ac1c0002row4_col0 {\n",
       "width:  10em;\n",
       "height:  80%;\n",
       "background:  linear-gradient(90deg,skyblue 99.9%, transparent 99.9%);\n",
       "}    #T_41bac490_5b0d_11ea_b215_0242ac1c0002row4_col1 {\n",
       "width:  10em;\n",
       "height:  80%;\n",
       "background:  linear-gradient(90deg,skyblue 10.4%, transparent 10.4%);\n",
       "}    #T_41bac490_5b0d_11ea_b215_0242ac1c0002row4_col3 {\n",
       "width:  10em;\n",
       "height:  80%;\n",
       "background:  linear-gradient(90deg,skyblue 10.4%, transparent 10.4%);\n",
       "}    #T_41bac490_5b0d_11ea_b215_0242ac1c0002row5_col0 {\n",
       "width:  10em;\n",
       "height:  80%;\n",
       "background:  linear-gradient(90deg,skyblue 100.0%, transparent 100.0%);\n",
       "}    #T_41bac490_5b0d_11ea_b215_0242ac1c0002row5_col1 {\n",
       "width:  10em;\n",
       "height:  80%;\n",
       "background:  linear-gradient(90deg,skyblue 26.4%, transparent 26.4%);\n",
       "}    #T_41bac490_5b0d_11ea_b215_0242ac1c0002row5_col3 {\n",
       "width:  10em;\n",
       "height:  80%;\n",
       "background:  linear-gradient(90deg,skyblue 26.4%, transparent 26.4%);\n",
       "}    #T_41bac490_5b0d_11ea_b215_0242ac1c0002row6_col0 {\n",
       "width:  10em;\n",
       "height:  80%;\n",
       "background:  linear-gradient(90deg,skyblue 99.9%, transparent 99.9%);\n",
       "}    #T_41bac490_5b0d_11ea_b215_0242ac1c0002row6_col1 {\n",
       "width:  10em;\n",
       "height:  80%;\n",
       "background:  linear-gradient(90deg,skyblue 33.4%, transparent 33.4%);\n",
       "}    #T_41bac490_5b0d_11ea_b215_0242ac1c0002row6_col3 {\n",
       "width:  10em;\n",
       "height:  80%;\n",
       "background:  linear-gradient(90deg,skyblue 33.4%, transparent 33.4%);\n",
       "}    #T_41bac490_5b0d_11ea_b215_0242ac1c0002row7_col0 {\n",
       "width:  10em;\n",
       "height:  80%;\n",
       "background:  linear-gradient(90deg,skyblue 100.0%, transparent 100.0%);\n",
       "}    #T_41bac490_5b0d_11ea_b215_0242ac1c0002row7_col1 {\n",
       "width:  10em;\n",
       "height:  80%;\n",
       "background:  linear-gradient(90deg,skyblue 36.2%, transparent 36.2%);\n",
       "}    #T_41bac490_5b0d_11ea_b215_0242ac1c0002row7_col3 {\n",
       "width:  10em;\n",
       "height:  80%;\n",
       "background:  linear-gradient(90deg,skyblue 36.2%, transparent 36.2%);\n",
       "}    #T_41bac490_5b0d_11ea_b215_0242ac1c0002row8_col0 {\n",
       "width:  10em;\n",
       "height:  80%;\n",
       "background:  linear-gradient(90deg,skyblue 99.9%, transparent 99.9%);\n",
       "}    #T_41bac490_5b0d_11ea_b215_0242ac1c0002row8_col1 {\n",
       "width:  10em;\n",
       "height:  80%;\n",
       "background:  linear-gradient(90deg,skyblue 5.4%, transparent 5.4%);\n",
       "}    #T_41bac490_5b0d_11ea_b215_0242ac1c0002row8_col3 {\n",
       "width:  10em;\n",
       "height:  80%;\n",
       "background:  linear-gradient(90deg,skyblue 5.4%, transparent 5.4%);\n",
       "}    #T_41bac490_5b0d_11ea_b215_0242ac1c0002row9_col0 {\n",
       "width:  10em;\n",
       "height:  80%;\n",
       "background:  linear-gradient(90deg,skyblue 100.0%, transparent 100.0%);\n",
       "}    #T_41bac490_5b0d_11ea_b215_0242ac1c0002row9_col1 {\n",
       "width:  10em;\n",
       "height:  80%;\n",
       "}    #T_41bac490_5b0d_11ea_b215_0242ac1c0002row9_col3 {\n",
       "width:  10em;\n",
       "height:  80%;\n",
       "}    #T_41bac490_5b0d_11ea_b215_0242ac1c0002row10_col0 {\n",
       "width:  10em;\n",
       "height:  80%;\n",
       "background:  linear-gradient(90deg,skyblue 100.0%, transparent 100.0%);\n",
       "}    #T_41bac490_5b0d_11ea_b215_0242ac1c0002row10_col1 {\n",
       "width:  10em;\n",
       "height:  80%;\n",
       "}    #T_41bac490_5b0d_11ea_b215_0242ac1c0002row10_col3 {\n",
       "width:  10em;\n",
       "height:  80%;\n",
       "}</style><table id=\"T_41bac490_5b0d_11ea_b215_0242ac1c0002\" ><thead>    <tr>        <th class=\"blank level0\" ></th>        <th class=\"col_heading level0 col0\" >TOTAL</th>        <th class=\"col_heading level0 col1\" >TARGET</th>        <th class=\"col_heading level0 col2\" >NONTARGET</th>        <th class=\"col_heading level0 col3\" >PCT_TAR</th>        <th class=\"col_heading level0 col4\" >CUM_TAR</th>        <th class=\"col_heading level0 col5\" >CUM_NONTAR</th>        <th class=\"col_heading level0 col6\" >DIST_TAR</th>        <th class=\"col_heading level0 col7\" >DIST_NONTAR</th>        <th class=\"col_heading level0 col8\" >SPREAD</th>    </tr>    <tr>        <th class=\"index_name level0\" >DECILE</th>        <th class=\"blank\" ></th>        <th class=\"blank\" ></th>        <th class=\"blank\" ></th>        <th class=\"blank\" ></th>        <th class=\"blank\" ></th>        <th class=\"blank\" ></th>        <th class=\"blank\" ></th>        <th class=\"blank\" ></th>        <th class=\"blank\" ></th>    </tr></thead><tbody>\n",
       "<tr>\n",
       "<th id=\"T_41bac490_5b0d_11ea_b215_0242ac1c0002level0_row0\" class=\"row_heading level0 row0\" >0.0</th>\n",
       "<td id=\"T_41bac490_5b0d_11ea_b215_0242ac1c0002row0_col0\" class=\"data row0 col0\" >0</td>\n",
       "<td id=\"T_41bac490_5b0d_11ea_b215_0242ac1c0002row0_col1\" class=\"data row0 col1\" >0</td>\n",
       "<td id=\"T_41bac490_5b0d_11ea_b215_0242ac1c0002row0_col2\" class=\"data row0 col2\" >0</td>\n",
       "<td id=\"T_41bac490_5b0d_11ea_b215_0242ac1c0002row0_col3\" class=\"data row0 col3\" >0</td>\n",
       "<td id=\"T_41bac490_5b0d_11ea_b215_0242ac1c0002row0_col4\" class=\"data row0 col4\" >0</td>\n",
       "<td id=\"T_41bac490_5b0d_11ea_b215_0242ac1c0002row0_col5\" class=\"data row0 col5\" >0</td>\n",
       "<td id=\"T_41bac490_5b0d_11ea_b215_0242ac1c0002row0_col6\" class=\"data row0 col6\" >0</td>\n",
       "<td id=\"T_41bac490_5b0d_11ea_b215_0242ac1c0002row0_col7\" class=\"data row0 col7\" >0</td>\n",
       "<td id=\"T_41bac490_5b0d_11ea_b215_0242ac1c0002row0_col8\" class=\"data row0 col8\" >0</td>\n",
       "</tr>\n",
       "<tr>\n",
       "<th id=\"T_41bac490_5b0d_11ea_b215_0242ac1c0002level0_row1\" class=\"row_heading level0 row1\" >1.0</th>\n",
       "<td id=\"T_41bac490_5b0d_11ea_b215_0242ac1c0002row1_col0\" class=\"data row1 col0\" >1115</td>\n",
       "<td id=\"T_41bac490_5b0d_11ea_b215_0242ac1c0002row1_col1\" class=\"data row1 col1\" >955</td>\n",
       "<td id=\"T_41bac490_5b0d_11ea_b215_0242ac1c0002row1_col2\" class=\"data row1 col2\" >160</td>\n",
       "<td id=\"T_41bac490_5b0d_11ea_b215_0242ac1c0002row1_col3\" class=\"data row1 col3\" >85.6502</td>\n",
       "<td id=\"T_41bac490_5b0d_11ea_b215_0242ac1c0002row1_col4\" class=\"data row1 col4\" >955</td>\n",
       "<td id=\"T_41bac490_5b0d_11ea_b215_0242ac1c0002row1_col5\" class=\"data row1 col5\" >160</td>\n",
       "<td id=\"T_41bac490_5b0d_11ea_b215_0242ac1c0002row1_col6\" class=\"data row1 col6\" >46.2246</td>\n",
       "<td id=\"T_41bac490_5b0d_11ea_b215_0242ac1c0002row1_col7\" class=\"data row1 col7\" >1.76211</td>\n",
       "<td id=\"T_41bac490_5b0d_11ea_b215_0242ac1c0002row1_col8\" class=\"data row1 col8\" >44.4625</td>\n",
       "</tr>\n",
       "<tr>\n",
       "<th id=\"T_41bac490_5b0d_11ea_b215_0242ac1c0002level0_row2\" class=\"row_heading level0 row2\" >2.0</th>\n",
       "<td id=\"T_41bac490_5b0d_11ea_b215_0242ac1c0002row2_col0\" class=\"data row2 col0\" >1114</td>\n",
       "<td id=\"T_41bac490_5b0d_11ea_b215_0242ac1c0002row2_col1\" class=\"data row2 col1\" >41</td>\n",
       "<td id=\"T_41bac490_5b0d_11ea_b215_0242ac1c0002row2_col2\" class=\"data row2 col2\" >1073</td>\n",
       "<td id=\"T_41bac490_5b0d_11ea_b215_0242ac1c0002row2_col3\" class=\"data row2 col3\" >3.68043</td>\n",
       "<td id=\"T_41bac490_5b0d_11ea_b215_0242ac1c0002row2_col4\" class=\"data row2 col4\" >996</td>\n",
       "<td id=\"T_41bac490_5b0d_11ea_b215_0242ac1c0002row2_col5\" class=\"data row2 col5\" >1233</td>\n",
       "<td id=\"T_41bac490_5b0d_11ea_b215_0242ac1c0002row2_col6\" class=\"data row2 col6\" >48.2091</td>\n",
       "<td id=\"T_41bac490_5b0d_11ea_b215_0242ac1c0002row2_col7\" class=\"data row2 col7\" >13.5793</td>\n",
       "<td id=\"T_41bac490_5b0d_11ea_b215_0242ac1c0002row2_col8\" class=\"data row2 col8\" >34.6298</td>\n",
       "</tr>\n",
       "<tr>\n",
       "<th id=\"T_41bac490_5b0d_11ea_b215_0242ac1c0002level0_row3\" class=\"row_heading level0 row3\" >3.0</th>\n",
       "<td id=\"T_41bac490_5b0d_11ea_b215_0242ac1c0002row3_col0\" class=\"data row3 col0\" >1115</td>\n",
       "<td id=\"T_41bac490_5b0d_11ea_b215_0242ac1c0002row3_col1\" class=\"data row3 col1\" >2</td>\n",
       "<td id=\"T_41bac490_5b0d_11ea_b215_0242ac1c0002row3_col2\" class=\"data row3 col2\" >1113</td>\n",
       "<td id=\"T_41bac490_5b0d_11ea_b215_0242ac1c0002row3_col3\" class=\"data row3 col3\" >0.179372</td>\n",
       "<td id=\"T_41bac490_5b0d_11ea_b215_0242ac1c0002row3_col4\" class=\"data row3 col4\" >998</td>\n",
       "<td id=\"T_41bac490_5b0d_11ea_b215_0242ac1c0002row3_col5\" class=\"data row3 col5\" >2346</td>\n",
       "<td id=\"T_41bac490_5b0d_11ea_b215_0242ac1c0002row3_col6\" class=\"data row3 col6\" >48.3059</td>\n",
       "<td id=\"T_41bac490_5b0d_11ea_b215_0242ac1c0002row3_col7\" class=\"data row3 col7\" >25.837</td>\n",
       "<td id=\"T_41bac490_5b0d_11ea_b215_0242ac1c0002row3_col8\" class=\"data row3 col8\" >22.4689</td>\n",
       "</tr>\n",
       "<tr>\n",
       "<th id=\"T_41bac490_5b0d_11ea_b215_0242ac1c0002level0_row4\" class=\"row_heading level0 row4\" >4.0</th>\n",
       "<td id=\"T_41bac490_5b0d_11ea_b215_0242ac1c0002row4_col0\" class=\"data row4 col0\" >1114</td>\n",
       "<td id=\"T_41bac490_5b0d_11ea_b215_0242ac1c0002row4_col1\" class=\"data row4 col1\" >99</td>\n",
       "<td id=\"T_41bac490_5b0d_11ea_b215_0242ac1c0002row4_col2\" class=\"data row4 col2\" >1015</td>\n",
       "<td id=\"T_41bac490_5b0d_11ea_b215_0242ac1c0002row4_col3\" class=\"data row4 col3\" >8.88689</td>\n",
       "<td id=\"T_41bac490_5b0d_11ea_b215_0242ac1c0002row4_col4\" class=\"data row4 col4\" >1097</td>\n",
       "<td id=\"T_41bac490_5b0d_11ea_b215_0242ac1c0002row4_col5\" class=\"data row4 col5\" >3361</td>\n",
       "<td id=\"T_41bac490_5b0d_11ea_b215_0242ac1c0002row4_col6\" class=\"data row4 col6\" >53.0978</td>\n",
       "<td id=\"T_41bac490_5b0d_11ea_b215_0242ac1c0002row4_col7\" class=\"data row4 col7\" >37.0154</td>\n",
       "<td id=\"T_41bac490_5b0d_11ea_b215_0242ac1c0002row4_col8\" class=\"data row4 col8\" >16.0824</td>\n",
       "</tr>\n",
       "<tr>\n",
       "<th id=\"T_41bac490_5b0d_11ea_b215_0242ac1c0002level0_row5\" class=\"row_heading level0 row5\" >5.0</th>\n",
       "<td id=\"T_41bac490_5b0d_11ea_b215_0242ac1c0002row5_col0\" class=\"data row5 col0\" >1115</td>\n",
       "<td id=\"T_41bac490_5b0d_11ea_b215_0242ac1c0002row5_col1\" class=\"data row5 col1\" >252</td>\n",
       "<td id=\"T_41bac490_5b0d_11ea_b215_0242ac1c0002row5_col2\" class=\"data row5 col2\" >863</td>\n",
       "<td id=\"T_41bac490_5b0d_11ea_b215_0242ac1c0002row5_col3\" class=\"data row5 col3\" >22.6009</td>\n",
       "<td id=\"T_41bac490_5b0d_11ea_b215_0242ac1c0002row5_col4\" class=\"data row5 col4\" >1349</td>\n",
       "<td id=\"T_41bac490_5b0d_11ea_b215_0242ac1c0002row5_col5\" class=\"data row5 col5\" >4224</td>\n",
       "<td id=\"T_41bac490_5b0d_11ea_b215_0242ac1c0002row5_col6\" class=\"data row5 col6\" >65.2953</td>\n",
       "<td id=\"T_41bac490_5b0d_11ea_b215_0242ac1c0002row5_col7\" class=\"data row5 col7\" >46.5198</td>\n",
       "<td id=\"T_41bac490_5b0d_11ea_b215_0242ac1c0002row5_col8\" class=\"data row5 col8\" >18.7754</td>\n",
       "</tr>\n",
       "<tr>\n",
       "<th id=\"T_41bac490_5b0d_11ea_b215_0242ac1c0002level0_row6\" class=\"row_heading level0 row6\" >6.0</th>\n",
       "<td id=\"T_41bac490_5b0d_11ea_b215_0242ac1c0002row6_col0\" class=\"data row6 col0\" >1114</td>\n",
       "<td id=\"T_41bac490_5b0d_11ea_b215_0242ac1c0002row6_col1\" class=\"data row6 col1\" >319</td>\n",
       "<td id=\"T_41bac490_5b0d_11ea_b215_0242ac1c0002row6_col2\" class=\"data row6 col2\" >795</td>\n",
       "<td id=\"T_41bac490_5b0d_11ea_b215_0242ac1c0002row6_col3\" class=\"data row6 col3\" >28.6355</td>\n",
       "<td id=\"T_41bac490_5b0d_11ea_b215_0242ac1c0002row6_col4\" class=\"data row6 col4\" >1668</td>\n",
       "<td id=\"T_41bac490_5b0d_11ea_b215_0242ac1c0002row6_col5\" class=\"data row6 col5\" >5019</td>\n",
       "<td id=\"T_41bac490_5b0d_11ea_b215_0242ac1c0002row6_col6\" class=\"data row6 col6\" >80.7357</td>\n",
       "<td id=\"T_41bac490_5b0d_11ea_b215_0242ac1c0002row6_col7\" class=\"data row6 col7\" >55.2753</td>\n",
       "<td id=\"T_41bac490_5b0d_11ea_b215_0242ac1c0002row6_col8\" class=\"data row6 col8\" >25.4604</td>\n",
       "</tr>\n",
       "<tr>\n",
       "<th id=\"T_41bac490_5b0d_11ea_b215_0242ac1c0002level0_row7\" class=\"row_heading level0 row7\" >7.0</th>\n",
       "<td id=\"T_41bac490_5b0d_11ea_b215_0242ac1c0002row7_col0\" class=\"data row7 col0\" >1115</td>\n",
       "<td id=\"T_41bac490_5b0d_11ea_b215_0242ac1c0002row7_col1\" class=\"data row7 col1\" >346</td>\n",
       "<td id=\"T_41bac490_5b0d_11ea_b215_0242ac1c0002row7_col2\" class=\"data row7 col2\" >769</td>\n",
       "<td id=\"T_41bac490_5b0d_11ea_b215_0242ac1c0002row7_col3\" class=\"data row7 col3\" >31.0314</td>\n",
       "<td id=\"T_41bac490_5b0d_11ea_b215_0242ac1c0002row7_col4\" class=\"data row7 col4\" >2014</td>\n",
       "<td id=\"T_41bac490_5b0d_11ea_b215_0242ac1c0002row7_col5\" class=\"data row7 col5\" >5788</td>\n",
       "<td id=\"T_41bac490_5b0d_11ea_b215_0242ac1c0002row7_col6\" class=\"data row7 col6\" >97.4831</td>\n",
       "<td id=\"T_41bac490_5b0d_11ea_b215_0242ac1c0002row7_col7\" class=\"data row7 col7\" >63.7445</td>\n",
       "<td id=\"T_41bac490_5b0d_11ea_b215_0242ac1c0002row7_col8\" class=\"data row7 col8\" >33.7386</td>\n",
       "</tr>\n",
       "<tr>\n",
       "<th id=\"T_41bac490_5b0d_11ea_b215_0242ac1c0002level0_row8\" class=\"row_heading level0 row8\" >8.0</th>\n",
       "<td id=\"T_41bac490_5b0d_11ea_b215_0242ac1c0002row8_col0\" class=\"data row8 col0\" >1114</td>\n",
       "<td id=\"T_41bac490_5b0d_11ea_b215_0242ac1c0002row8_col1\" class=\"data row8 col1\" >52</td>\n",
       "<td id=\"T_41bac490_5b0d_11ea_b215_0242ac1c0002row8_col2\" class=\"data row8 col2\" >1062</td>\n",
       "<td id=\"T_41bac490_5b0d_11ea_b215_0242ac1c0002row8_col3\" class=\"data row8 col3\" >4.66786</td>\n",
       "<td id=\"T_41bac490_5b0d_11ea_b215_0242ac1c0002row8_col4\" class=\"data row8 col4\" >2066</td>\n",
       "<td id=\"T_41bac490_5b0d_11ea_b215_0242ac1c0002row8_col5\" class=\"data row8 col5\" >6850</td>\n",
       "<td id=\"T_41bac490_5b0d_11ea_b215_0242ac1c0002row8_col6\" class=\"data row8 col6\" >100</td>\n",
       "<td id=\"T_41bac490_5b0d_11ea_b215_0242ac1c0002row8_col7\" class=\"data row8 col7\" >75.4405</td>\n",
       "<td id=\"T_41bac490_5b0d_11ea_b215_0242ac1c0002row8_col8\" class=\"data row8 col8\" >24.5595</td>\n",
       "</tr>\n",
       "<tr>\n",
       "<th id=\"T_41bac490_5b0d_11ea_b215_0242ac1c0002level0_row9\" class=\"row_heading level0 row9\" >9.0</th>\n",
       "<td id=\"T_41bac490_5b0d_11ea_b215_0242ac1c0002row9_col0\" class=\"data row9 col0\" >1115</td>\n",
       "<td id=\"T_41bac490_5b0d_11ea_b215_0242ac1c0002row9_col1\" class=\"data row9 col1\" >0</td>\n",
       "<td id=\"T_41bac490_5b0d_11ea_b215_0242ac1c0002row9_col2\" class=\"data row9 col2\" >1115</td>\n",
       "<td id=\"T_41bac490_5b0d_11ea_b215_0242ac1c0002row9_col3\" class=\"data row9 col3\" >0</td>\n",
       "<td id=\"T_41bac490_5b0d_11ea_b215_0242ac1c0002row9_col4\" class=\"data row9 col4\" >2066</td>\n",
       "<td id=\"T_41bac490_5b0d_11ea_b215_0242ac1c0002row9_col5\" class=\"data row9 col5\" >7965</td>\n",
       "<td id=\"T_41bac490_5b0d_11ea_b215_0242ac1c0002row9_col6\" class=\"data row9 col6\" >100</td>\n",
       "<td id=\"T_41bac490_5b0d_11ea_b215_0242ac1c0002row9_col7\" class=\"data row9 col7\" >87.7203</td>\n",
       "<td id=\"T_41bac490_5b0d_11ea_b215_0242ac1c0002row9_col8\" class=\"data row9 col8\" >12.2797</td>\n",
       "</tr>\n",
       "<tr>\n",
       "<th id=\"T_41bac490_5b0d_11ea_b215_0242ac1c0002level0_row10\" class=\"row_heading level0 row10\" >10.0</th>\n",
       "<td id=\"T_41bac490_5b0d_11ea_b215_0242ac1c0002row10_col0\" class=\"data row10 col0\" >1115</td>\n",
       "<td id=\"T_41bac490_5b0d_11ea_b215_0242ac1c0002row10_col1\" class=\"data row10 col1\" >0</td>\n",
       "<td id=\"T_41bac490_5b0d_11ea_b215_0242ac1c0002row10_col2\" class=\"data row10 col2\" >1115</td>\n",
       "<td id=\"T_41bac490_5b0d_11ea_b215_0242ac1c0002row10_col3\" class=\"data row10 col3\" >0</td>\n",
       "<td id=\"T_41bac490_5b0d_11ea_b215_0242ac1c0002row10_col4\" class=\"data row10 col4\" >2066</td>\n",
       "<td id=\"T_41bac490_5b0d_11ea_b215_0242ac1c0002row10_col5\" class=\"data row10 col5\" >9080</td>\n",
       "<td id=\"T_41bac490_5b0d_11ea_b215_0242ac1c0002row10_col6\" class=\"data row10 col6\" >100</td>\n",
       "<td id=\"T_41bac490_5b0d_11ea_b215_0242ac1c0002row10_col7\" class=\"data row10 col7\" >100</td>\n",
       "<td id=\"T_41bac490_5b0d_11ea_b215_0242ac1c0002row10_col8\" class=\"data row10 col8\" >0</td>\n",
       "</tr>\n",
       "</tbody></table>"
      ],
      "text/plain": [
       "<IPython.core.display.HTML object>"
      ]
     },
     "execution_count": 98,
     "metadata": {
      "tags": []
     },
     "output_type": "execute_result"
    }
   ],
   "source": [
    "deciling(scores_train,['DECILE'],'TARGET','NONTARGET')"
   ]
  },
  {
   "cell_type": "code",
   "execution_count": 0,
   "metadata": {
    "colab": {
     "base_uri": "https://localhost:8080/",
     "height": 278
    },
    "colab_type": "code",
    "executionInfo": {
     "elapsed": 638,
     "status": "ok",
     "timestamp": 1582992308257,
     "user": {
      "displayName": "GOURAB HAZRA",
      "photoUrl": "https://lh3.googleusercontent.com/a-/AOh14GiV5LcY5TILfyTv14CM8FI6Ar76G1ZTqnHlDGG2=s64",
      "userId": "12230592498902526703"
     },
     "user_tz": -330
    },
    "id": "EGBFvgE7nV4R",
    "outputId": "58e0a886-99a3-483d-f558-8f5e8a9e1ba4"
   },
   "outputs": [
    {
     "data": {
      "text/html": [
       "<style  type=\"text/css\" >\n",
       "#T_42b90e10_5b0d_11ea_b215_0242ac1c0002row0_col0 {\n",
       "width:  10em;\n",
       "height:  80%;\n",
       "}    #T_42b90e10_5b0d_11ea_b215_0242ac1c0002row0_col1 {\n",
       "width:  10em;\n",
       "height:  80%;\n",
       "}    #T_42b90e10_5b0d_11ea_b215_0242ac1c0002row0_col3 {\n",
       "width:  10em;\n",
       "height:  80%;\n",
       "}    #T_42b90e10_5b0d_11ea_b215_0242ac1c0002row1_col0 {\n",
       "width:  10em;\n",
       "height:  80%;\n",
       "background:  linear-gradient(90deg,skyblue 99.9%, transparent 99.9%);\n",
       "}    #T_42b90e10_5b0d_11ea_b215_0242ac1c0002row1_col1 {\n",
       "width:  10em;\n",
       "height:  80%;\n",
       "background:  linear-gradient(90deg,skyblue 100.0%, transparent 100.0%);\n",
       "}    #T_42b90e10_5b0d_11ea_b215_0242ac1c0002row1_col3 {\n",
       "width:  10em;\n",
       "height:  80%;\n",
       "background:  linear-gradient(90deg,skyblue 100.0%, transparent 100.0%);\n",
       "}    #T_42b90e10_5b0d_11ea_b215_0242ac1c0002row1_col8 {\n",
       "background-color:  yellow;\n",
       "}    #T_42b90e10_5b0d_11ea_b215_0242ac1c0002row2_col0 {\n",
       "width:  10em;\n",
       "height:  80%;\n",
       "background:  linear-gradient(90deg,skyblue 99.9%, transparent 99.9%);\n",
       "}    #T_42b90e10_5b0d_11ea_b215_0242ac1c0002row2_col1 {\n",
       "width:  10em;\n",
       "height:  80%;\n",
       "background:  linear-gradient(90deg,skyblue 8.0%, transparent 8.0%);\n",
       "}    #T_42b90e10_5b0d_11ea_b215_0242ac1c0002row2_col3 {\n",
       "width:  10em;\n",
       "height:  80%;\n",
       "background:  linear-gradient(90deg,skyblue 8.0%, transparent 8.0%);\n",
       "}    #T_42b90e10_5b0d_11ea_b215_0242ac1c0002row3_col0 {\n",
       "width:  10em;\n",
       "height:  80%;\n",
       "background:  linear-gradient(90deg,skyblue 99.9%, transparent 99.9%);\n",
       "}    #T_42b90e10_5b0d_11ea_b215_0242ac1c0002row3_col1 {\n",
       "width:  10em;\n",
       "height:  80%;\n",
       "}    #T_42b90e10_5b0d_11ea_b215_0242ac1c0002row3_col3 {\n",
       "width:  10em;\n",
       "height:  80%;\n",
       "}    #T_42b90e10_5b0d_11ea_b215_0242ac1c0002row4_col0 {\n",
       "width:  10em;\n",
       "height:  80%;\n",
       "background:  linear-gradient(90deg,skyblue 99.9%, transparent 99.9%);\n",
       "}    #T_42b90e10_5b0d_11ea_b215_0242ac1c0002row4_col1 {\n",
       "width:  10em;\n",
       "height:  80%;\n",
       "background:  linear-gradient(90deg,skyblue 10.2%, transparent 10.2%);\n",
       "}    #T_42b90e10_5b0d_11ea_b215_0242ac1c0002row4_col3 {\n",
       "width:  10em;\n",
       "height:  80%;\n",
       "background:  linear-gradient(90deg,skyblue 10.2%, transparent 10.2%);\n",
       "}    #T_42b90e10_5b0d_11ea_b215_0242ac1c0002row5_col0 {\n",
       "width:  10em;\n",
       "height:  80%;\n",
       "background:  linear-gradient(90deg,skyblue 99.9%, transparent 99.9%);\n",
       "}    #T_42b90e10_5b0d_11ea_b215_0242ac1c0002row5_col1 {\n",
       "width:  10em;\n",
       "height:  80%;\n",
       "background:  linear-gradient(90deg,skyblue 27.4%, transparent 27.4%);\n",
       "}    #T_42b90e10_5b0d_11ea_b215_0242ac1c0002row5_col3 {\n",
       "width:  10em;\n",
       "height:  80%;\n",
       "background:  linear-gradient(90deg,skyblue 27.4%, transparent 27.4%);\n",
       "}    #T_42b90e10_5b0d_11ea_b215_0242ac1c0002row6_col0 {\n",
       "width:  10em;\n",
       "height:  80%;\n",
       "background:  linear-gradient(90deg,skyblue 99.9%, transparent 99.9%);\n",
       "}    #T_42b90e10_5b0d_11ea_b215_0242ac1c0002row6_col1 {\n",
       "width:  10em;\n",
       "height:  80%;\n",
       "background:  linear-gradient(90deg,skyblue 37.4%, transparent 37.4%);\n",
       "}    #T_42b90e10_5b0d_11ea_b215_0242ac1c0002row6_col3 {\n",
       "width:  10em;\n",
       "height:  80%;\n",
       "background:  linear-gradient(90deg,skyblue 37.4%, transparent 37.4%);\n",
       "}    #T_42b90e10_5b0d_11ea_b215_0242ac1c0002row7_col0 {\n",
       "width:  10em;\n",
       "height:  80%;\n",
       "background:  linear-gradient(90deg,skyblue 99.9%, transparent 99.9%);\n",
       "}    #T_42b90e10_5b0d_11ea_b215_0242ac1c0002row7_col1 {\n",
       "width:  10em;\n",
       "height:  80%;\n",
       "background:  linear-gradient(90deg,skyblue 36.2%, transparent 36.2%);\n",
       "}    #T_42b90e10_5b0d_11ea_b215_0242ac1c0002row7_col3 {\n",
       "width:  10em;\n",
       "height:  80%;\n",
       "background:  linear-gradient(90deg,skyblue 36.2%, transparent 36.2%);\n",
       "}    #T_42b90e10_5b0d_11ea_b215_0242ac1c0002row8_col0 {\n",
       "width:  10em;\n",
       "height:  80%;\n",
       "background:  linear-gradient(90deg,skyblue 99.9%, transparent 99.9%);\n",
       "}    #T_42b90e10_5b0d_11ea_b215_0242ac1c0002row8_col1 {\n",
       "width:  10em;\n",
       "height:  80%;\n",
       "background:  linear-gradient(90deg,skyblue 7.7%, transparent 7.7%);\n",
       "}    #T_42b90e10_5b0d_11ea_b215_0242ac1c0002row8_col3 {\n",
       "width:  10em;\n",
       "height:  80%;\n",
       "background:  linear-gradient(90deg,skyblue 7.7%, transparent 7.7%);\n",
       "}    #T_42b90e10_5b0d_11ea_b215_0242ac1c0002row9_col0 {\n",
       "width:  10em;\n",
       "height:  80%;\n",
       "background:  linear-gradient(90deg,skyblue 99.9%, transparent 99.9%);\n",
       "}    #T_42b90e10_5b0d_11ea_b215_0242ac1c0002row9_col1 {\n",
       "width:  10em;\n",
       "height:  80%;\n",
       "}    #T_42b90e10_5b0d_11ea_b215_0242ac1c0002row9_col3 {\n",
       "width:  10em;\n",
       "height:  80%;\n",
       "}    #T_42b90e10_5b0d_11ea_b215_0242ac1c0002row10_col0 {\n",
       "width:  10em;\n",
       "height:  80%;\n",
       "background:  linear-gradient(90deg,skyblue 100.0%, transparent 100.0%);\n",
       "}    #T_42b90e10_5b0d_11ea_b215_0242ac1c0002row10_col1 {\n",
       "width:  10em;\n",
       "height:  80%;\n",
       "}    #T_42b90e10_5b0d_11ea_b215_0242ac1c0002row10_col3 {\n",
       "width:  10em;\n",
       "height:  80%;\n",
       "}</style><table id=\"T_42b90e10_5b0d_11ea_b215_0242ac1c0002\" ><thead>    <tr>        <th class=\"blank level0\" ></th>        <th class=\"col_heading level0 col0\" >TOTAL</th>        <th class=\"col_heading level0 col1\" >TARGET</th>        <th class=\"col_heading level0 col2\" >NONTARGET</th>        <th class=\"col_heading level0 col3\" >PCT_TAR</th>        <th class=\"col_heading level0 col4\" >CUM_TAR</th>        <th class=\"col_heading level0 col5\" >CUM_NONTAR</th>        <th class=\"col_heading level0 col6\" >DIST_TAR</th>        <th class=\"col_heading level0 col7\" >DIST_NONTAR</th>        <th class=\"col_heading level0 col8\" >SPREAD</th>    </tr>    <tr>        <th class=\"index_name level0\" >DECILE</th>        <th class=\"blank\" ></th>        <th class=\"blank\" ></th>        <th class=\"blank\" ></th>        <th class=\"blank\" ></th>        <th class=\"blank\" ></th>        <th class=\"blank\" ></th>        <th class=\"blank\" ></th>        <th class=\"blank\" ></th>        <th class=\"blank\" ></th>    </tr></thead><tbody>\n",
       "<tr>\n",
       "<th id=\"T_42b90e10_5b0d_11ea_b215_0242ac1c0002level0_row0\" class=\"row_heading level0 row0\" >0.0</th>\n",
       "<td id=\"T_42b90e10_5b0d_11ea_b215_0242ac1c0002row0_col0\" class=\"data row0 col0\" >0</td>\n",
       "<td id=\"T_42b90e10_5b0d_11ea_b215_0242ac1c0002row0_col1\" class=\"data row0 col1\" >0</td>\n",
       "<td id=\"T_42b90e10_5b0d_11ea_b215_0242ac1c0002row0_col2\" class=\"data row0 col2\" >0</td>\n",
       "<td id=\"T_42b90e10_5b0d_11ea_b215_0242ac1c0002row0_col3\" class=\"data row0 col3\" >0</td>\n",
       "<td id=\"T_42b90e10_5b0d_11ea_b215_0242ac1c0002row0_col4\" class=\"data row0 col4\" >0</td>\n",
       "<td id=\"T_42b90e10_5b0d_11ea_b215_0242ac1c0002row0_col5\" class=\"data row0 col5\" >0</td>\n",
       "<td id=\"T_42b90e10_5b0d_11ea_b215_0242ac1c0002row0_col6\" class=\"data row0 col6\" >0</td>\n",
       "<td id=\"T_42b90e10_5b0d_11ea_b215_0242ac1c0002row0_col7\" class=\"data row0 col7\" >0</td>\n",
       "<td id=\"T_42b90e10_5b0d_11ea_b215_0242ac1c0002row0_col8\" class=\"data row0 col8\" >0</td>\n",
       "</tr>\n",
       "<tr>\n",
       "<th id=\"T_42b90e10_5b0d_11ea_b215_0242ac1c0002level0_row1\" class=\"row_heading level0 row1\" >1.0</th>\n",
       "<td id=\"T_42b90e10_5b0d_11ea_b215_0242ac1c0002row1_col0\" class=\"data row1 col0\" >743</td>\n",
       "<td id=\"T_42b90e10_5b0d_11ea_b215_0242ac1c0002row1_col1\" class=\"data row1 col1\" >636</td>\n",
       "<td id=\"T_42b90e10_5b0d_11ea_b215_0242ac1c0002row1_col2\" class=\"data row1 col2\" >107</td>\n",
       "<td id=\"T_42b90e10_5b0d_11ea_b215_0242ac1c0002row1_col3\" class=\"data row1 col3\" >85.5989</td>\n",
       "<td id=\"T_42b90e10_5b0d_11ea_b215_0242ac1c0002row1_col4\" class=\"data row1 col4\" >636</td>\n",
       "<td id=\"T_42b90e10_5b0d_11ea_b215_0242ac1c0002row1_col5\" class=\"data row1 col5\" >107</td>\n",
       "<td id=\"T_42b90e10_5b0d_11ea_b215_0242ac1c0002row1_col6\" class=\"data row1 col6\" >44.0748</td>\n",
       "<td id=\"T_42b90e10_5b0d_11ea_b215_0242ac1c0002row1_col7\" class=\"data row1 col7\" >1.78691</td>\n",
       "<td id=\"T_42b90e10_5b0d_11ea_b215_0242ac1c0002row1_col8\" class=\"data row1 col8\" >42.2879</td>\n",
       "</tr>\n",
       "<tr>\n",
       "<th id=\"T_42b90e10_5b0d_11ea_b215_0242ac1c0002level0_row2\" class=\"row_heading level0 row2\" >2.0</th>\n",
       "<td id=\"T_42b90e10_5b0d_11ea_b215_0242ac1c0002row2_col0\" class=\"data row2 col0\" >743</td>\n",
       "<td id=\"T_42b90e10_5b0d_11ea_b215_0242ac1c0002row2_col1\" class=\"data row2 col1\" >51</td>\n",
       "<td id=\"T_42b90e10_5b0d_11ea_b215_0242ac1c0002row2_col2\" class=\"data row2 col2\" >692</td>\n",
       "<td id=\"T_42b90e10_5b0d_11ea_b215_0242ac1c0002row2_col3\" class=\"data row2 col3\" >6.86406</td>\n",
       "<td id=\"T_42b90e10_5b0d_11ea_b215_0242ac1c0002row2_col4\" class=\"data row2 col4\" >687</td>\n",
       "<td id=\"T_42b90e10_5b0d_11ea_b215_0242ac1c0002row2_col5\" class=\"data row2 col5\" >799</td>\n",
       "<td id=\"T_42b90e10_5b0d_11ea_b215_0242ac1c0002row2_col6\" class=\"data row2 col6\" >47.6091</td>\n",
       "<td id=\"T_42b90e10_5b0d_11ea_b215_0242ac1c0002row2_col7\" class=\"data row2 col7\" >13.3434</td>\n",
       "<td id=\"T_42b90e10_5b0d_11ea_b215_0242ac1c0002row2_col8\" class=\"data row2 col8\" >34.2658</td>\n",
       "</tr>\n",
       "<tr>\n",
       "<th id=\"T_42b90e10_5b0d_11ea_b215_0242ac1c0002level0_row3\" class=\"row_heading level0 row3\" >3.0</th>\n",
       "<td id=\"T_42b90e10_5b0d_11ea_b215_0242ac1c0002row3_col0\" class=\"data row3 col0\" >743</td>\n",
       "<td id=\"T_42b90e10_5b0d_11ea_b215_0242ac1c0002row3_col1\" class=\"data row3 col1\" >0</td>\n",
       "<td id=\"T_42b90e10_5b0d_11ea_b215_0242ac1c0002row3_col2\" class=\"data row3 col2\" >743</td>\n",
       "<td id=\"T_42b90e10_5b0d_11ea_b215_0242ac1c0002row3_col3\" class=\"data row3 col3\" >0</td>\n",
       "<td id=\"T_42b90e10_5b0d_11ea_b215_0242ac1c0002row3_col4\" class=\"data row3 col4\" >687</td>\n",
       "<td id=\"T_42b90e10_5b0d_11ea_b215_0242ac1c0002row3_col5\" class=\"data row3 col5\" >1542</td>\n",
       "<td id=\"T_42b90e10_5b0d_11ea_b215_0242ac1c0002row3_col6\" class=\"data row3 col6\" >47.6091</td>\n",
       "<td id=\"T_42b90e10_5b0d_11ea_b215_0242ac1c0002row3_col7\" class=\"data row3 col7\" >25.7515</td>\n",
       "<td id=\"T_42b90e10_5b0d_11ea_b215_0242ac1c0002row3_col8\" class=\"data row3 col8\" >21.8576</td>\n",
       "</tr>\n",
       "<tr>\n",
       "<th id=\"T_42b90e10_5b0d_11ea_b215_0242ac1c0002level0_row4\" class=\"row_heading level0 row4\" >4.0</th>\n",
       "<td id=\"T_42b90e10_5b0d_11ea_b215_0242ac1c0002row4_col0\" class=\"data row4 col0\" >743</td>\n",
       "<td id=\"T_42b90e10_5b0d_11ea_b215_0242ac1c0002row4_col1\" class=\"data row4 col1\" >65</td>\n",
       "<td id=\"T_42b90e10_5b0d_11ea_b215_0242ac1c0002row4_col2\" class=\"data row4 col2\" >678</td>\n",
       "<td id=\"T_42b90e10_5b0d_11ea_b215_0242ac1c0002row4_col3\" class=\"data row4 col3\" >8.74832</td>\n",
       "<td id=\"T_42b90e10_5b0d_11ea_b215_0242ac1c0002row4_col4\" class=\"data row4 col4\" >752</td>\n",
       "<td id=\"T_42b90e10_5b0d_11ea_b215_0242ac1c0002row4_col5\" class=\"data row4 col5\" >2220</td>\n",
       "<td id=\"T_42b90e10_5b0d_11ea_b215_0242ac1c0002row4_col6\" class=\"data row4 col6\" >52.1137</td>\n",
       "<td id=\"T_42b90e10_5b0d_11ea_b215_0242ac1c0002row4_col7\" class=\"data row4 col7\" >37.0741</td>\n",
       "<td id=\"T_42b90e10_5b0d_11ea_b215_0242ac1c0002row4_col8\" class=\"data row4 col8\" >15.0395</td>\n",
       "</tr>\n",
       "<tr>\n",
       "<th id=\"T_42b90e10_5b0d_11ea_b215_0242ac1c0002level0_row5\" class=\"row_heading level0 row5\" >5.0</th>\n",
       "<td id=\"T_42b90e10_5b0d_11ea_b215_0242ac1c0002row5_col0\" class=\"data row5 col0\" >743</td>\n",
       "<td id=\"T_42b90e10_5b0d_11ea_b215_0242ac1c0002row5_col1\" class=\"data row5 col1\" >174</td>\n",
       "<td id=\"T_42b90e10_5b0d_11ea_b215_0242ac1c0002row5_col2\" class=\"data row5 col2\" >569</td>\n",
       "<td id=\"T_42b90e10_5b0d_11ea_b215_0242ac1c0002row5_col3\" class=\"data row5 col3\" >23.4186</td>\n",
       "<td id=\"T_42b90e10_5b0d_11ea_b215_0242ac1c0002row5_col4\" class=\"data row5 col4\" >926</td>\n",
       "<td id=\"T_42b90e10_5b0d_11ea_b215_0242ac1c0002row5_col5\" class=\"data row5 col5\" >2789</td>\n",
       "<td id=\"T_42b90e10_5b0d_11ea_b215_0242ac1c0002row5_col6\" class=\"data row5 col6\" >64.1719</td>\n",
       "<td id=\"T_42b90e10_5b0d_11ea_b215_0242ac1c0002row5_col7\" class=\"data row5 col7\" >46.5765</td>\n",
       "<td id=\"T_42b90e10_5b0d_11ea_b215_0242ac1c0002row5_col8\" class=\"data row5 col8\" >17.5954</td>\n",
       "</tr>\n",
       "<tr>\n",
       "<th id=\"T_42b90e10_5b0d_11ea_b215_0242ac1c0002level0_row6\" class=\"row_heading level0 row6\" >6.0</th>\n",
       "<td id=\"T_42b90e10_5b0d_11ea_b215_0242ac1c0002row6_col0\" class=\"data row6 col0\" >743</td>\n",
       "<td id=\"T_42b90e10_5b0d_11ea_b215_0242ac1c0002row6_col1\" class=\"data row6 col1\" >238</td>\n",
       "<td id=\"T_42b90e10_5b0d_11ea_b215_0242ac1c0002row6_col2\" class=\"data row6 col2\" >505</td>\n",
       "<td id=\"T_42b90e10_5b0d_11ea_b215_0242ac1c0002row6_col3\" class=\"data row6 col3\" >32.0323</td>\n",
       "<td id=\"T_42b90e10_5b0d_11ea_b215_0242ac1c0002row6_col4\" class=\"data row6 col4\" >1164</td>\n",
       "<td id=\"T_42b90e10_5b0d_11ea_b215_0242ac1c0002row6_col5\" class=\"data row6 col5\" >3294</td>\n",
       "<td id=\"T_42b90e10_5b0d_11ea_b215_0242ac1c0002row6_col6\" class=\"data row6 col6\" >80.6653</td>\n",
       "<td id=\"T_42b90e10_5b0d_11ea_b215_0242ac1c0002row6_col7\" class=\"data row6 col7\" >55.01</td>\n",
       "<td id=\"T_42b90e10_5b0d_11ea_b215_0242ac1c0002row6_col8\" class=\"data row6 col8\" >25.6553</td>\n",
       "</tr>\n",
       "<tr>\n",
       "<th id=\"T_42b90e10_5b0d_11ea_b215_0242ac1c0002level0_row7\" class=\"row_heading level0 row7\" >7.0</th>\n",
       "<td id=\"T_42b90e10_5b0d_11ea_b215_0242ac1c0002row7_col0\" class=\"data row7 col0\" >743</td>\n",
       "<td id=\"T_42b90e10_5b0d_11ea_b215_0242ac1c0002row7_col1\" class=\"data row7 col1\" >230</td>\n",
       "<td id=\"T_42b90e10_5b0d_11ea_b215_0242ac1c0002row7_col2\" class=\"data row7 col2\" >513</td>\n",
       "<td id=\"T_42b90e10_5b0d_11ea_b215_0242ac1c0002row7_col3\" class=\"data row7 col3\" >30.9556</td>\n",
       "<td id=\"T_42b90e10_5b0d_11ea_b215_0242ac1c0002row7_col4\" class=\"data row7 col4\" >1394</td>\n",
       "<td id=\"T_42b90e10_5b0d_11ea_b215_0242ac1c0002row7_col5\" class=\"data row7 col5\" >3807</td>\n",
       "<td id=\"T_42b90e10_5b0d_11ea_b215_0242ac1c0002row7_col6\" class=\"data row7 col6\" >96.6043</td>\n",
       "<td id=\"T_42b90e10_5b0d_11ea_b215_0242ac1c0002row7_col7\" class=\"data row7 col7\" >63.5772</td>\n",
       "<td id=\"T_42b90e10_5b0d_11ea_b215_0242ac1c0002row7_col8\" class=\"data row7 col8\" >33.0271</td>\n",
       "</tr>\n",
       "<tr>\n",
       "<th id=\"T_42b90e10_5b0d_11ea_b215_0242ac1c0002level0_row8\" class=\"row_heading level0 row8\" >8.0</th>\n",
       "<td id=\"T_42b90e10_5b0d_11ea_b215_0242ac1c0002row8_col0\" class=\"data row8 col0\" >743</td>\n",
       "<td id=\"T_42b90e10_5b0d_11ea_b215_0242ac1c0002row8_col1\" class=\"data row8 col1\" >49</td>\n",
       "<td id=\"T_42b90e10_5b0d_11ea_b215_0242ac1c0002row8_col2\" class=\"data row8 col2\" >694</td>\n",
       "<td id=\"T_42b90e10_5b0d_11ea_b215_0242ac1c0002row8_col3\" class=\"data row8 col3\" >6.59489</td>\n",
       "<td id=\"T_42b90e10_5b0d_11ea_b215_0242ac1c0002row8_col4\" class=\"data row8 col4\" >1443</td>\n",
       "<td id=\"T_42b90e10_5b0d_11ea_b215_0242ac1c0002row8_col5\" class=\"data row8 col5\" >4501</td>\n",
       "<td id=\"T_42b90e10_5b0d_11ea_b215_0242ac1c0002row8_col6\" class=\"data row8 col6\" >100</td>\n",
       "<td id=\"T_42b90e10_5b0d_11ea_b215_0242ac1c0002row8_col7\" class=\"data row8 col7\" >75.167</td>\n",
       "<td id=\"T_42b90e10_5b0d_11ea_b215_0242ac1c0002row8_col8\" class=\"data row8 col8\" >24.833</td>\n",
       "</tr>\n",
       "<tr>\n",
       "<th id=\"T_42b90e10_5b0d_11ea_b215_0242ac1c0002level0_row9\" class=\"row_heading level0 row9\" >9.0</th>\n",
       "<td id=\"T_42b90e10_5b0d_11ea_b215_0242ac1c0002row9_col0\" class=\"data row9 col0\" >743</td>\n",
       "<td id=\"T_42b90e10_5b0d_11ea_b215_0242ac1c0002row9_col1\" class=\"data row9 col1\" >0</td>\n",
       "<td id=\"T_42b90e10_5b0d_11ea_b215_0242ac1c0002row9_col2\" class=\"data row9 col2\" >743</td>\n",
       "<td id=\"T_42b90e10_5b0d_11ea_b215_0242ac1c0002row9_col3\" class=\"data row9 col3\" >0</td>\n",
       "<td id=\"T_42b90e10_5b0d_11ea_b215_0242ac1c0002row9_col4\" class=\"data row9 col4\" >1443</td>\n",
       "<td id=\"T_42b90e10_5b0d_11ea_b215_0242ac1c0002row9_col5\" class=\"data row9 col5\" >5244</td>\n",
       "<td id=\"T_42b90e10_5b0d_11ea_b215_0242ac1c0002row9_col6\" class=\"data row9 col6\" >100</td>\n",
       "<td id=\"T_42b90e10_5b0d_11ea_b215_0242ac1c0002row9_col7\" class=\"data row9 col7\" >87.5752</td>\n",
       "<td id=\"T_42b90e10_5b0d_11ea_b215_0242ac1c0002row9_col8\" class=\"data row9 col8\" >12.4248</td>\n",
       "</tr>\n",
       "<tr>\n",
       "<th id=\"T_42b90e10_5b0d_11ea_b215_0242ac1c0002level0_row10\" class=\"row_heading level0 row10\" >10.0</th>\n",
       "<td id=\"T_42b90e10_5b0d_11ea_b215_0242ac1c0002row10_col0\" class=\"data row10 col0\" >744</td>\n",
       "<td id=\"T_42b90e10_5b0d_11ea_b215_0242ac1c0002row10_col1\" class=\"data row10 col1\" >0</td>\n",
       "<td id=\"T_42b90e10_5b0d_11ea_b215_0242ac1c0002row10_col2\" class=\"data row10 col2\" >744</td>\n",
       "<td id=\"T_42b90e10_5b0d_11ea_b215_0242ac1c0002row10_col3\" class=\"data row10 col3\" >0</td>\n",
       "<td id=\"T_42b90e10_5b0d_11ea_b215_0242ac1c0002row10_col4\" class=\"data row10 col4\" >1443</td>\n",
       "<td id=\"T_42b90e10_5b0d_11ea_b215_0242ac1c0002row10_col5\" class=\"data row10 col5\" >5988</td>\n",
       "<td id=\"T_42b90e10_5b0d_11ea_b215_0242ac1c0002row10_col6\" class=\"data row10 col6\" >100</td>\n",
       "<td id=\"T_42b90e10_5b0d_11ea_b215_0242ac1c0002row10_col7\" class=\"data row10 col7\" >100</td>\n",
       "<td id=\"T_42b90e10_5b0d_11ea_b215_0242ac1c0002row10_col8\" class=\"data row10 col8\" >0</td>\n",
       "</tr>\n",
       "</tbody></table>"
      ],
      "text/plain": [
       "<IPython.core.display.HTML object>"
      ]
     },
     "execution_count": 99,
     "metadata": {
      "tags": []
     },
     "output_type": "execute_result"
    }
   ],
   "source": [
    "deciling(scores_test,['DECILE'],'TARGET','NONTARGET')"
   ]
  },
  {
   "cell_type": "markdown",
   "metadata": {
    "colab_type": "text",
    "id": "56Ghsx7dndLU"
   },
   "source": [
    "Lift chart, Actual vs predicted and Gains chart"
   ]
  },
  {
   "cell_type": "code",
   "execution_count": 0,
   "metadata": {
    "colab": {},
    "colab_type": "code",
    "id": "-S1STefKnbLF"
   },
   "outputs": [],
   "source": [
    "from collections import OrderedDict\n",
    "import pandas as pd\n",
    "import matplotlib.pyplot as plt\n",
    "\n",
    "def plots(agg1,target,type):\n",
    "\n",
    "    plt.figure(1,figsize=(20, 5))\n",
    "\n",
    "    plt.subplot(131)\n",
    "    plt.plot(agg1['DECILE'],agg1['ACTUAL'],label='Actual')\n",
    "    plt.plot(agg1['DECILE'],agg1['PRED'],label='Pred')\n",
    "    plt.xticks(range(10,110,10))\n",
    "    plt.legend(fontsize=15)\n",
    "    plt.grid(True)\n",
    "    plt.title('Actual vs Predicted', fontsize=20)\n",
    "    plt.xlabel(\"Population %\",fontsize=15)\n",
    "    plt.ylabel(str(target) + \" \" + str(type) + \" %\",fontsize=15)\n",
    "\n",
    "    plt.subplot(132)\n",
    "    X = agg1['DECILE'].tolist()\n",
    "    X.append(0)\n",
    "    Y = agg1['DIST_TAR'].tolist()\n",
    "    Y.append(0)\n",
    "    plt.plot(sorted(X),sorted(Y))\n",
    "    plt.plot([0, 100], [0, 100],'r--')\n",
    "    plt.xticks(range(0,110,10))\n",
    "    plt.yticks(range(0,110,10))\n",
    "    plt.grid(True)\n",
    "    plt.title('Gains Chart', fontsize=20)\n",
    "    plt.xlabel(\"Population %\",fontsize=15)\n",
    "    plt.ylabel(str(target) + str(\" DISTRIBUTION\") + \" %\",fontsize=15)\n",
    "    plt.annotate(round(agg1[agg1['DECILE'] == 30].DIST_TAR.item(),2),xy=[30,30], \n",
    "            xytext=(25, agg1[agg1['DECILE'] == 30].DIST_TAR.item() + 5),fontsize = 13)\n",
    "    plt.annotate(round(agg1[agg1['DECILE'] == 50].DIST_TAR.item(),2),xy=[50,50], \n",
    "            xytext=(45, agg1[agg1['DECILE'] == 50].DIST_TAR.item() + 5),fontsize = 13)\n",
    "\n",
    "    plt.subplot(133)\n",
    "    plt.plot(agg1['DECILE'],agg1['LIFT'])\n",
    "    plt.xticks(range(10,110,10))\n",
    "    plt.grid(True)\n",
    "    plt.title('Lift Chart', fontsize=20)\n",
    "    plt.xlabel(\"Population %\",fontsize=15)\n",
    "    plt.ylabel(\"Lift\",fontsize=15)\n",
    "\n",
    "    plt.tight_layout()"
   ]
  },
  {
   "cell_type": "code",
   "execution_count": 0,
   "metadata": {
    "colab": {},
    "colab_type": "code",
    "id": "b5KBNdlBnhtj"
   },
   "outputs": [],
   "source": [
    "def gains(data,decile_by,target,score):\n",
    "    inputs = list(decile_by)\n",
    "    inputs.extend((target,score))\n",
    "    decile = data[inputs]\n",
    "    grouped = decile.groupby(decile_by)\n",
    "    agg1 = pd.DataFrame({},index=[])\n",
    "    agg1['ACTUAL'] = grouped.mean()[target]*100\n",
    "    agg1['PRED'] = grouped.mean()[score]*100\n",
    "    agg1['DIST_TAR'] = grouped.sum()[target].cumsum()/grouped.sum()[target].sum()*100\n",
    "    agg1.index.name = 'DECILE'\n",
    "    agg1 = agg1.reset_index()\n",
    "    agg1['DECILE'] = agg1['DECILE']*10\n",
    "    agg1['LIFT'] = agg1['DIST_TAR']/agg1['DECILE']\n",
    "    plots(agg1,target,'Distribution')\n"
   ]
  },
  {
   "cell_type": "code",
   "execution_count": 0,
   "metadata": {
    "colab": {},
    "colab_type": "code",
    "id": "TEJxftuUnjL_"
   },
   "outputs": [],
   "source": [
    "lift_train = pd.concat([features_train,scores_train],axis=1)\n",
    "lift_test = pd.concat([features_test,scores_test],axis=1)"
   ]
  },
  {
   "cell_type": "code",
   "execution_count": 0,
   "metadata": {
    "colab": {
     "base_uri": "https://localhost:8080/",
     "height": 456
    },
    "colab_type": "code",
    "executionInfo": {
     "elapsed": 1484,
     "status": "ok",
     "timestamp": 1582992324250,
     "user": {
      "displayName": "GOURAB HAZRA",
      "photoUrl": "https://lh3.googleusercontent.com/a-/AOh14GiV5LcY5TILfyTv14CM8FI6Ar76G1ZTqnHlDGG2=s64",
      "userId": "12230592498902526703"
     },
     "user_tz": -330
    },
    "id": "mIcMDHZ0nbIy",
    "outputId": "08d95250-51fc-430b-ae4b-384a810690b1"
   },
   "outputs": [
    {
     "name": "stderr",
     "output_type": "stream",
     "text": [
      "/usr/local/lib/python3.6/dist-packages/ipykernel_launcher.py:32: FutureWarning: `item` has been deprecated and will be removed in a future version\n",
      "/usr/local/lib/python3.6/dist-packages/ipykernel_launcher.py:33: FutureWarning: `item` has been deprecated and will be removed in a future version\n",
      "/usr/local/lib/python3.6/dist-packages/ipykernel_launcher.py:34: FutureWarning: `item` has been deprecated and will be removed in a future version\n",
      "/usr/local/lib/python3.6/dist-packages/ipykernel_launcher.py:35: FutureWarning: `item` has been deprecated and will be removed in a future version\n"
     ]
    },
    {
     "data": {
      "image/png": "[encoded data removed]",
      "text/plain": [
       "<Figure size 1440x360 with 3 Axes>"
      ]
     },
     "metadata": {
      "tags": []
     },
     "output_type": "display_data"
    }
   ],
   "source": [
    "gains(lift_train,['DECILE'],'TARGET','SCORE')"
   ]
  },
  {
   "cell_type": "code",
   "execution_count": 0,
   "metadata": {
    "colab": {
     "base_uri": "https://localhost:8080/",
     "height": 456
    },
    "colab_type": "code",
    "executionInfo": {
     "elapsed": 1630,
     "status": "ok",
     "timestamp": 1582992325536,
     "user": {
      "displayName": "GOURAB HAZRA",
      "photoUrl": "https://lh3.googleusercontent.com/a-/AOh14GiV5LcY5TILfyTv14CM8FI6Ar76G1ZTqnHlDGG2=s64",
      "userId": "12230592498902526703"
     },
     "user_tz": -330
    },
    "id": "ktqBjRNnnmM_",
    "outputId": "be7a9ba1-4444-4d3d-fe8a-41e851f4ddcc"
   },
   "outputs": [
    {
     "name": "stderr",
     "output_type": "stream",
     "text": [
      "/usr/local/lib/python3.6/dist-packages/ipykernel_launcher.py:32: FutureWarning: `item` has been deprecated and will be removed in a future version\n",
      "/usr/local/lib/python3.6/dist-packages/ipykernel_launcher.py:33: FutureWarning: `item` has been deprecated and will be removed in a future version\n",
      "/usr/local/lib/python3.6/dist-packages/ipykernel_launcher.py:34: FutureWarning: `item` has been deprecated and will be removed in a future version\n",
      "/usr/local/lib/python3.6/dist-packages/ipykernel_launcher.py:35: FutureWarning: `item` has been deprecated and will be removed in a future version\n"
     ]
    },
    {
     "data": {
      "image/png": "[encoded data removed]",
      "text/plain": [
       "<Figure size 1440x360 with 3 Axes>"
      ]
     },
     "metadata": {
      "tags": []
     },
     "output_type": "display_data"
    }
   ],
   "source": [
    "gains(lift_test,['DECILE'],'TARGET','SCORE')"
   ]
  }
 ],
 "metadata": {
  "accelerator": "GPU",
  "colab": {
   "collapsed_sections": [],
   "name": "IGNAnalysis_Modified.ipynb",
   "provenance": []
  },
  "kernelspec": {
   "display_name": "Python 3",
   "language": "python",
   "name": "python3"
  },
  "language_info": {
   "codemirror_mode": {
    "name": "ipython",
    "version": 3
   },
   "file_extension": ".py",
   "mimetype": "text/x-python",
   "name": "python",
   "nbconvert_exporter": "python",
   "pygments_lexer": "ipython3",
   "version": "3.8.8"
  }
 },
 "nbformat": 4,
 "nbformat_minor": 1
}
